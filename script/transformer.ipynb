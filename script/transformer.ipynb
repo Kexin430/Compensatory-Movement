{
 "cells": [
  {
   "cell_type": "code",
   "execution_count": 1,
   "outputs": [
    {
     "name": "stdout",
     "output_type": "stream",
     "text": [
      "Requirement already satisfied: tensorflow in /Users/daikexin/pythonProject/venv/lib/python3.12/site-packages (2.18.0)\r\n",
      "Requirement already satisfied: absl-py>=1.0.0 in /Users/daikexin/pythonProject/venv/lib/python3.12/site-packages (from tensorflow) (2.1.0)\r\n",
      "Requirement already satisfied: astunparse>=1.6.0 in /Users/daikexin/pythonProject/venv/lib/python3.12/site-packages (from tensorflow) (1.6.3)\r\n",
      "Requirement already satisfied: flatbuffers>=24.3.25 in /Users/daikexin/pythonProject/venv/lib/python3.12/site-packages (from tensorflow) (24.3.25)\r\n",
      "Requirement already satisfied: gast!=0.5.0,!=0.5.1,!=0.5.2,>=0.2.1 in /Users/daikexin/pythonProject/venv/lib/python3.12/site-packages (from tensorflow) (0.6.0)\r\n",
      "Requirement already satisfied: google-pasta>=0.1.1 in /Users/daikexin/pythonProject/venv/lib/python3.12/site-packages (from tensorflow) (0.2.0)\r\n",
      "Requirement already satisfied: libclang>=13.0.0 in /Users/daikexin/pythonProject/venv/lib/python3.12/site-packages (from tensorflow) (18.1.1)\r\n",
      "Requirement already satisfied: opt-einsum>=2.3.2 in /Users/daikexin/pythonProject/venv/lib/python3.12/site-packages (from tensorflow) (3.4.0)\r\n",
      "Requirement already satisfied: packaging in /Users/daikexin/pythonProject/venv/lib/python3.12/site-packages (from tensorflow) (24.2)\r\n",
      "Requirement already satisfied: protobuf!=4.21.0,!=4.21.1,!=4.21.2,!=4.21.3,!=4.21.4,!=4.21.5,<6.0.0dev,>=3.20.3 in /Users/daikexin/pythonProject/venv/lib/python3.12/site-packages (from tensorflow) (5.29.0)\r\n",
      "Requirement already satisfied: requests<3,>=2.21.0 in /Users/daikexin/pythonProject/venv/lib/python3.12/site-packages (from tensorflow) (2.32.3)\r\n",
      "Requirement already satisfied: setuptools in /Users/daikexin/pythonProject/venv/lib/python3.12/site-packages (from tensorflow) (75.6.0)\r\n",
      "Requirement already satisfied: six>=1.12.0 in /Users/daikexin/pythonProject/venv/lib/python3.12/site-packages (from tensorflow) (1.16.0)\r\n",
      "Requirement already satisfied: termcolor>=1.1.0 in /Users/daikexin/pythonProject/venv/lib/python3.12/site-packages (from tensorflow) (2.5.0)\r\n",
      "Requirement already satisfied: typing-extensions>=3.6.6 in /Users/daikexin/pythonProject/venv/lib/python3.12/site-packages (from tensorflow) (4.12.2)\r\n",
      "Requirement already satisfied: wrapt>=1.11.0 in /Users/daikexin/pythonProject/venv/lib/python3.12/site-packages (from tensorflow) (1.17.0)\r\n",
      "Requirement already satisfied: grpcio<2.0,>=1.24.3 in /Users/daikexin/pythonProject/venv/lib/python3.12/site-packages (from tensorflow) (1.68.0)\r\n",
      "Requirement already satisfied: tensorboard<2.19,>=2.18 in /Users/daikexin/pythonProject/venv/lib/python3.12/site-packages (from tensorflow) (2.18.0)\r\n",
      "Requirement already satisfied: keras>=3.5.0 in /Users/daikexin/pythonProject/venv/lib/python3.12/site-packages (from tensorflow) (3.7.0)\r\n",
      "Requirement already satisfied: numpy<2.1.0,>=1.26.0 in /Users/daikexin/pythonProject/venv/lib/python3.12/site-packages (from tensorflow) (1.26.4)\r\n",
      "Requirement already satisfied: h5py>=3.11.0 in /Users/daikexin/pythonProject/venv/lib/python3.12/site-packages (from tensorflow) (3.12.1)\r\n",
      "Requirement already satisfied: ml-dtypes<0.5.0,>=0.4.0 in /Users/daikexin/pythonProject/venv/lib/python3.12/site-packages (from tensorflow) (0.4.1)\r\n",
      "Requirement already satisfied: wheel<1.0,>=0.23.0 in /Users/daikexin/pythonProject/venv/lib/python3.12/site-packages (from astunparse>=1.6.0->tensorflow) (0.45.1)\r\n",
      "Requirement already satisfied: rich in /Users/daikexin/pythonProject/venv/lib/python3.12/site-packages (from keras>=3.5.0->tensorflow) (13.9.4)\r\n",
      "Requirement already satisfied: namex in /Users/daikexin/pythonProject/venv/lib/python3.12/site-packages (from keras>=3.5.0->tensorflow) (0.0.8)\r\n",
      "Requirement already satisfied: optree in /Users/daikexin/pythonProject/venv/lib/python3.12/site-packages (from keras>=3.5.0->tensorflow) (0.13.1)\r\n",
      "Requirement already satisfied: charset-normalizer<4,>=2 in /Users/daikexin/pythonProject/venv/lib/python3.12/site-packages (from requests<3,>=2.21.0->tensorflow) (3.4.0)\r\n",
      "Requirement already satisfied: idna<4,>=2.5 in /Users/daikexin/pythonProject/venv/lib/python3.12/site-packages (from requests<3,>=2.21.0->tensorflow) (3.10)\r\n",
      "Requirement already satisfied: urllib3<3,>=1.21.1 in /Users/daikexin/pythonProject/venv/lib/python3.12/site-packages (from requests<3,>=2.21.0->tensorflow) (2.2.3)\r\n",
      "Requirement already satisfied: certifi>=2017.4.17 in /Users/daikexin/pythonProject/venv/lib/python3.12/site-packages (from requests<3,>=2.21.0->tensorflow) (2024.8.30)\r\n",
      "Requirement already satisfied: markdown>=2.6.8 in /Users/daikexin/pythonProject/venv/lib/python3.12/site-packages (from tensorboard<2.19,>=2.18->tensorflow) (3.7)\r\n",
      "Requirement already satisfied: tensorboard-data-server<0.8.0,>=0.7.0 in /Users/daikexin/pythonProject/venv/lib/python3.12/site-packages (from tensorboard<2.19,>=2.18->tensorflow) (0.7.2)\r\n",
      "Requirement already satisfied: werkzeug>=1.0.1 in /Users/daikexin/pythonProject/venv/lib/python3.12/site-packages (from tensorboard<2.19,>=2.18->tensorflow) (3.0.6)\r\n",
      "Requirement already satisfied: MarkupSafe>=2.1.1 in /Users/daikexin/pythonProject/venv/lib/python3.12/site-packages (from werkzeug>=1.0.1->tensorboard<2.19,>=2.18->tensorflow) (3.0.2)\r\n",
      "Requirement already satisfied: markdown-it-py>=2.2.0 in /Users/daikexin/pythonProject/venv/lib/python3.12/site-packages (from rich->keras>=3.5.0->tensorflow) (3.0.0)\r\n",
      "Requirement already satisfied: pygments<3.0.0,>=2.13.0 in /Users/daikexin/pythonProject/venv/lib/python3.12/site-packages (from rich->keras>=3.5.0->tensorflow) (2.18.0)\r\n",
      "Requirement already satisfied: mdurl~=0.1 in /Users/daikexin/pythonProject/venv/lib/python3.12/site-packages (from markdown-it-py>=2.2.0->rich->keras>=3.5.0->tensorflow) (0.1.2)\r\n",
      "Requirement already satisfied: torch in /Users/daikexin/pythonProject/venv/lib/python3.12/site-packages (2.5.1)\r\n",
      "Requirement already satisfied: filelock in /Users/daikexin/pythonProject/venv/lib/python3.12/site-packages (from torch) (3.16.1)\r\n",
      "Requirement already satisfied: typing-extensions>=4.8.0 in /Users/daikexin/pythonProject/venv/lib/python3.12/site-packages (from torch) (4.12.2)\r\n",
      "Requirement already satisfied: networkx in /Users/daikexin/pythonProject/venv/lib/python3.12/site-packages (from torch) (3.4.2)\r\n",
      "Requirement already satisfied: jinja2 in /Users/daikexin/pythonProject/venv/lib/python3.12/site-packages (from torch) (3.1.4)\r\n",
      "Requirement already satisfied: fsspec in /Users/daikexin/pythonProject/venv/lib/python3.12/site-packages (from torch) (2024.10.0)\r\n",
      "Requirement already satisfied: setuptools in /Users/daikexin/pythonProject/venv/lib/python3.12/site-packages (from torch) (75.6.0)\r\n",
      "Requirement already satisfied: sympy==1.13.1 in /Users/daikexin/pythonProject/venv/lib/python3.12/site-packages (from torch) (1.13.1)\r\n",
      "Requirement already satisfied: mpmath<1.4,>=1.1.0 in /Users/daikexin/pythonProject/venv/lib/python3.12/site-packages (from sympy==1.13.1->torch) (1.3.0)\r\n",
      "Requirement already satisfied: MarkupSafe>=2.0 in /Users/daikexin/pythonProject/venv/lib/python3.12/site-packages (from jinja2->torch) (3.0.2)\r\n",
      "Requirement already satisfied: sktime[dl] in /Users/daikexin/pythonProject/venv/lib/python3.12/site-packages (0.34.1)\r\n",
      "Requirement already satisfied: joblib<1.5,>=1.2.0 in /Users/daikexin/pythonProject/venv/lib/python3.12/site-packages (from sktime[dl]) (1.4.2)\r\n",
      "Requirement already satisfied: numpy<2.2,>=1.21 in /Users/daikexin/pythonProject/venv/lib/python3.12/site-packages (from sktime[dl]) (1.26.4)\r\n",
      "Requirement already satisfied: packaging in /Users/daikexin/pythonProject/venv/lib/python3.12/site-packages (from sktime[dl]) (24.2)\r\n",
      "Requirement already satisfied: pandas<2.3.0,>=1.1 in /Users/daikexin/pythonProject/venv/lib/python3.12/site-packages (from sktime[dl]) (2.2.3)\r\n",
      "Requirement already satisfied: scikit-base<0.12.0,>=0.6.1 in /Users/daikexin/pythonProject/venv/lib/python3.12/site-packages (from sktime[dl]) (0.11.0)\r\n",
      "Requirement already satisfied: scikit-learn<1.6.0,>=0.24 in /Users/daikexin/pythonProject/venv/lib/python3.12/site-packages (from sktime[dl]) (1.5.2)\r\n",
      "Requirement already satisfied: scipy<2.0.0,>=1.2 in /Users/daikexin/pythonProject/venv/lib/python3.12/site-packages (from sktime[dl]) (1.14.1)\r\n",
      "Requirement already satisfied: pykan<0.2.7,>=0.2.1 in /Users/daikexin/pythonProject/venv/lib/python3.12/site-packages (from sktime[dl]) (0.2.6)\r\n",
      "Requirement already satisfied: pytorch-forecasting<1.2.0,>=1.0.0 in /Users/daikexin/pythonProject/venv/lib/python3.12/site-packages (from sktime[dl]) (1.1.1)\r\n",
      "Requirement already satisfied: hydra-core in /Users/daikexin/pythonProject/venv/lib/python3.12/site-packages (from sktime[dl]) (1.3.2)\r\n",
      "Requirement already satisfied: python-dateutil>=2.8.2 in /Users/daikexin/pythonProject/venv/lib/python3.12/site-packages (from pandas<2.3.0,>=1.1->sktime[dl]) (2.9.0.post0)\r\n",
      "Requirement already satisfied: pytz>=2020.1 in /Users/daikexin/pythonProject/venv/lib/python3.12/site-packages (from pandas<2.3.0,>=1.1->sktime[dl]) (2024.2)\r\n",
      "Requirement already satisfied: tzdata>=2022.7 in /Users/daikexin/pythonProject/venv/lib/python3.12/site-packages (from pandas<2.3.0,>=1.1->sktime[dl]) (2024.2)\r\n",
      "Requirement already satisfied: torch!=2.0.1,<3.0.0,>=2.0.0 in /Users/daikexin/pythonProject/venv/lib/python3.12/site-packages (from pytorch-forecasting<1.2.0,>=1.0.0->sktime[dl]) (2.5.1)\r\n",
      "Requirement already satisfied: lightning<3.0.0,>=2.0.0 in /Users/daikexin/pythonProject/venv/lib/python3.12/site-packages (from pytorch-forecasting<1.2.0,>=1.0.0->sktime[dl]) (2.4.0)\r\n",
      "Requirement already satisfied: threadpoolctl>=3.1.0 in /Users/daikexin/pythonProject/venv/lib/python3.12/site-packages (from scikit-learn<1.6.0,>=0.24->sktime[dl]) (3.5.0)\r\n",
      "Requirement already satisfied: omegaconf<2.4,>=2.2 in /Users/daikexin/pythonProject/venv/lib/python3.12/site-packages (from hydra-core->sktime[dl]) (2.3.0)\r\n",
      "Requirement already satisfied: antlr4-python3-runtime==4.9.* in /Users/daikexin/pythonProject/venv/lib/python3.12/site-packages (from hydra-core->sktime[dl]) (4.9.3)\r\n",
      "Requirement already satisfied: PyYAML<8.0,>=5.4 in /Users/daikexin/pythonProject/venv/lib/python3.12/site-packages (from lightning<3.0.0,>=2.0.0->pytorch-forecasting<1.2.0,>=1.0.0->sktime[dl]) (6.0.2)\r\n",
      "Requirement already satisfied: fsspec<2026.0,>=2022.5.0 in /Users/daikexin/pythonProject/venv/lib/python3.12/site-packages (from fsspec[http]<2026.0,>=2022.5.0->lightning<3.0.0,>=2.0.0->pytorch-forecasting<1.2.0,>=1.0.0->sktime[dl]) (2024.10.0)\r\n",
      "Requirement already satisfied: lightning-utilities<2.0,>=0.10.0 in /Users/daikexin/pythonProject/venv/lib/python3.12/site-packages (from lightning<3.0.0,>=2.0.0->pytorch-forecasting<1.2.0,>=1.0.0->sktime[dl]) (0.11.9)\r\n",
      "Requirement already satisfied: torchmetrics<3.0,>=0.7.0 in /Users/daikexin/pythonProject/venv/lib/python3.12/site-packages (from lightning<3.0.0,>=2.0.0->pytorch-forecasting<1.2.0,>=1.0.0->sktime[dl]) (1.6.0)\r\n",
      "Requirement already satisfied: tqdm<6.0,>=4.57.0 in /Users/daikexin/pythonProject/venv/lib/python3.12/site-packages (from lightning<3.0.0,>=2.0.0->pytorch-forecasting<1.2.0,>=1.0.0->sktime[dl]) (4.67.1)\r\n",
      "Requirement already satisfied: typing-extensions<6.0,>=4.4.0 in /Users/daikexin/pythonProject/venv/lib/python3.12/site-packages (from lightning<3.0.0,>=2.0.0->pytorch-forecasting<1.2.0,>=1.0.0->sktime[dl]) (4.12.2)\r\n",
      "Requirement already satisfied: pytorch-lightning in /Users/daikexin/pythonProject/venv/lib/python3.12/site-packages (from lightning<3.0.0,>=2.0.0->pytorch-forecasting<1.2.0,>=1.0.0->sktime[dl]) (2.4.0)\r\n",
      "Requirement already satisfied: six>=1.5 in /Users/daikexin/pythonProject/venv/lib/python3.12/site-packages (from python-dateutil>=2.8.2->pandas<2.3.0,>=1.1->sktime[dl]) (1.16.0)\r\n",
      "Requirement already satisfied: filelock in /Users/daikexin/pythonProject/venv/lib/python3.12/site-packages (from torch!=2.0.1,<3.0.0,>=2.0.0->pytorch-forecasting<1.2.0,>=1.0.0->sktime[dl]) (3.16.1)\r\n",
      "Requirement already satisfied: networkx in /Users/daikexin/pythonProject/venv/lib/python3.12/site-packages (from torch!=2.0.1,<3.0.0,>=2.0.0->pytorch-forecasting<1.2.0,>=1.0.0->sktime[dl]) (3.4.2)\r\n",
      "Requirement already satisfied: jinja2 in /Users/daikexin/pythonProject/venv/lib/python3.12/site-packages (from torch!=2.0.1,<3.0.0,>=2.0.0->pytorch-forecasting<1.2.0,>=1.0.0->sktime[dl]) (3.1.4)\r\n",
      "Requirement already satisfied: setuptools in /Users/daikexin/pythonProject/venv/lib/python3.12/site-packages (from torch!=2.0.1,<3.0.0,>=2.0.0->pytorch-forecasting<1.2.0,>=1.0.0->sktime[dl]) (75.6.0)\r\n",
      "Requirement already satisfied: sympy==1.13.1 in /Users/daikexin/pythonProject/venv/lib/python3.12/site-packages (from torch!=2.0.1,<3.0.0,>=2.0.0->pytorch-forecasting<1.2.0,>=1.0.0->sktime[dl]) (1.13.1)\r\n",
      "Requirement already satisfied: mpmath<1.4,>=1.1.0 in /Users/daikexin/pythonProject/venv/lib/python3.12/site-packages (from sympy==1.13.1->torch!=2.0.1,<3.0.0,>=2.0.0->pytorch-forecasting<1.2.0,>=1.0.0->sktime[dl]) (1.3.0)\r\n",
      "Requirement already satisfied: aiohttp!=4.0.0a0,!=4.0.0a1 in /Users/daikexin/pythonProject/venv/lib/python3.12/site-packages (from fsspec[http]<2026.0,>=2022.5.0->lightning<3.0.0,>=2.0.0->pytorch-forecasting<1.2.0,>=1.0.0->sktime[dl]) (3.11.9)\r\n",
      "Requirement already satisfied: MarkupSafe>=2.0 in /Users/daikexin/pythonProject/venv/lib/python3.12/site-packages (from jinja2->torch!=2.0.1,<3.0.0,>=2.0.0->pytorch-forecasting<1.2.0,>=1.0.0->sktime[dl]) (3.0.2)\r\n",
      "Requirement already satisfied: aiohappyeyeballs>=2.3.0 in /Users/daikexin/pythonProject/venv/lib/python3.12/site-packages (from aiohttp!=4.0.0a0,!=4.0.0a1->fsspec[http]<2026.0,>=2022.5.0->lightning<3.0.0,>=2.0.0->pytorch-forecasting<1.2.0,>=1.0.0->sktime[dl]) (2.4.4)\r\n",
      "Requirement already satisfied: aiosignal>=1.1.2 in /Users/daikexin/pythonProject/venv/lib/python3.12/site-packages (from aiohttp!=4.0.0a0,!=4.0.0a1->fsspec[http]<2026.0,>=2022.5.0->lightning<3.0.0,>=2.0.0->pytorch-forecasting<1.2.0,>=1.0.0->sktime[dl]) (1.3.1)\r\n",
      "Requirement already satisfied: attrs>=17.3.0 in /Users/daikexin/pythonProject/venv/lib/python3.12/site-packages (from aiohttp!=4.0.0a0,!=4.0.0a1->fsspec[http]<2026.0,>=2022.5.0->lightning<3.0.0,>=2.0.0->pytorch-forecasting<1.2.0,>=1.0.0->sktime[dl]) (24.2.0)\r\n",
      "Requirement already satisfied: frozenlist>=1.1.1 in /Users/daikexin/pythonProject/venv/lib/python3.12/site-packages (from aiohttp!=4.0.0a0,!=4.0.0a1->fsspec[http]<2026.0,>=2022.5.0->lightning<3.0.0,>=2.0.0->pytorch-forecasting<1.2.0,>=1.0.0->sktime[dl]) (1.5.0)\r\n",
      "Requirement already satisfied: multidict<7.0,>=4.5 in /Users/daikexin/pythonProject/venv/lib/python3.12/site-packages (from aiohttp!=4.0.0a0,!=4.0.0a1->fsspec[http]<2026.0,>=2022.5.0->lightning<3.0.0,>=2.0.0->pytorch-forecasting<1.2.0,>=1.0.0->sktime[dl]) (6.1.0)\r\n",
      "Requirement already satisfied: propcache>=0.2.0 in /Users/daikexin/pythonProject/venv/lib/python3.12/site-packages (from aiohttp!=4.0.0a0,!=4.0.0a1->fsspec[http]<2026.0,>=2022.5.0->lightning<3.0.0,>=2.0.0->pytorch-forecasting<1.2.0,>=1.0.0->sktime[dl]) (0.2.1)\r\n",
      "Requirement already satisfied: yarl<2.0,>=1.17.0 in /Users/daikexin/pythonProject/venv/lib/python3.12/site-packages (from aiohttp!=4.0.0a0,!=4.0.0a1->fsspec[http]<2026.0,>=2022.5.0->lightning<3.0.0,>=2.0.0->pytorch-forecasting<1.2.0,>=1.0.0->sktime[dl]) (1.18.3)\r\n",
      "Requirement already satisfied: idna>=2.0 in /Users/daikexin/pythonProject/venv/lib/python3.12/site-packages (from yarl<2.0,>=1.17.0->aiohttp!=4.0.0a0,!=4.0.0a1->fsspec[http]<2026.0,>=2022.5.0->lightning<3.0.0,>=2.0.0->pytorch-forecasting<1.2.0,>=1.0.0->sktime[dl]) (3.10)\r\n",
      "Requirement already satisfied: sktime[all_extras] in /Users/daikexin/pythonProject/venv/lib/python3.12/site-packages (0.34.1)\r\n",
      "Requirement already satisfied: joblib<1.5,>=1.2.0 in /Users/daikexin/pythonProject/venv/lib/python3.12/site-packages (from sktime[all_extras]) (1.4.2)\r\n",
      "Requirement already satisfied: numpy<2.2,>=1.21 in /Users/daikexin/pythonProject/venv/lib/python3.12/site-packages (from sktime[all_extras]) (1.26.4)\r\n",
      "Requirement already satisfied: packaging in /Users/daikexin/pythonProject/venv/lib/python3.12/site-packages (from sktime[all_extras]) (24.2)\r\n",
      "Requirement already satisfied: pandas<2.3.0,>=1.1 in /Users/daikexin/pythonProject/venv/lib/python3.12/site-packages (from sktime[all_extras]) (2.2.3)\r\n",
      "Requirement already satisfied: scikit-base<0.12.0,>=0.6.1 in /Users/daikexin/pythonProject/venv/lib/python3.12/site-packages (from sktime[all_extras]) (0.11.0)\r\n",
      "Requirement already satisfied: scikit-learn<1.6.0,>=0.24 in /Users/daikexin/pythonProject/venv/lib/python3.12/site-packages (from sktime[all_extras]) (1.5.2)\r\n",
      "Requirement already satisfied: scipy<2.0.0,>=1.2 in /Users/daikexin/pythonProject/venv/lib/python3.12/site-packages (from sktime[all_extras]) (1.14.1)\r\n",
      "Requirement already satisfied: arch<7.1.0,>=5.6 in /Users/daikexin/pythonProject/venv/lib/python3.12/site-packages (from sktime[all_extras]) (7.0.0)\r\n",
      "Requirement already satisfied: autots<0.7,>=0.6.1 in /Users/daikexin/pythonProject/venv/lib/python3.12/site-packages (from sktime[all_extras]) (0.6.16)\r\n",
      "Requirement already satisfied: cloudpickle in /Users/daikexin/pythonProject/venv/lib/python3.12/site-packages (from sktime[all_extras]) (3.1.0)\r\n",
      "Requirement already satisfied: dash!=2.9.0 in /Users/daikexin/pythonProject/venv/lib/python3.12/site-packages (from sktime[all_extras]) (2.18.2)\r\n",
      "Requirement already satisfied: dtaidistance<2.4 in /Users/daikexin/pythonProject/venv/lib/python3.12/site-packages (from sktime[all_extras]) (2.3.12)\r\n",
      "Requirement already satisfied: dtw-python in /Users/daikexin/pythonProject/venv/lib/python3.12/site-packages (from sktime[all_extras]) (1.5.3)\r\n",
      "Requirement already satisfied: gluonts>=0.9 in /Users/daikexin/pythonProject/venv/lib/python3.12/site-packages (from sktime[all_extras]) (0.16.0)\r\n",
      "Requirement already satisfied: holidays in /Users/daikexin/pythonProject/venv/lib/python3.12/site-packages (from sktime[all_extras]) (0.62)\r\n",
      "Requirement already satisfied: matplotlib!=3.9.1,>=3.3.2 in /Users/daikexin/pythonProject/venv/lib/python3.12/site-packages (from sktime[all_extras]) (3.9.2)\r\n",
      "Requirement already satisfied: mne in /Users/daikexin/pythonProject/venv/lib/python3.12/site-packages (from sktime[all_extras]) (1.8.0)\r\n",
      "Requirement already satisfied: numba<0.61,>=0.53 in /Users/daikexin/pythonProject/venv/lib/python3.12/site-packages (from sktime[all_extras]) (0.60.0)\r\n",
      "Requirement already satisfied: optuna<4.2 in /Users/daikexin/pythonProject/venv/lib/python3.12/site-packages (from sktime[all_extras]) (4.1.0)\r\n",
      "Requirement already satisfied: polars<2.0,>=0.20 in /Users/daikexin/pythonProject/venv/lib/python3.12/site-packages (from polars[pandas]<2.0,>=0.20; python_version < \"3.13\" and extra == \"all-extras\"->sktime[all_extras]) (1.16.0)\r\n",
      "Requirement already satisfied: pycatch22<0.4.6 in /Users/daikexin/pythonProject/venv/lib/python3.12/site-packages (from sktime[all_extras]) (0.4.5)\r\n",
      "Requirement already satisfied: scikit-optimize in /Users/daikexin/pythonProject/venv/lib/python3.12/site-packages (from sktime[all_extras]) (0.10.2)\r\n",
      "Requirement already satisfied: scikit_posthocs>=0.6.5 in /Users/daikexin/pythonProject/venv/lib/python3.12/site-packages (from sktime[all_extras]) (0.11.0)\r\n",
      "Requirement already satisfied: seaborn>=0.11 in /Users/daikexin/pythonProject/venv/lib/python3.12/site-packages (from sktime[all_extras]) (0.13.2)\r\n",
      "Requirement already satisfied: seasonal in /Users/daikexin/pythonProject/venv/lib/python3.12/site-packages (from sktime[all_extras]) (0.3.1)\r\n",
      "Requirement already satisfied: skforecast<0.14,>=0.12.1 in /Users/daikexin/pythonProject/venv/lib/python3.12/site-packages (from sktime[all_extras]) (0.13.0)\r\n",
      "Requirement already satisfied: skpro<2.8.0,>=2 in /Users/daikexin/pythonProject/venv/lib/python3.12/site-packages (from sktime[all_extras]) (2.7.0)\r\n",
      "Requirement already satisfied: statsmodels>=0.12.1 in /Users/daikexin/pythonProject/venv/lib/python3.12/site-packages (from sktime[all_extras]) (0.14.4)\r\n",
      "Requirement already satisfied: u8darts<0.32.0,>=0.29.0 in /Users/daikexin/pythonProject/venv/lib/python3.12/site-packages (from sktime[all_extras]) (0.31.0)\r\n",
      "Requirement already satisfied: xarray in /Users/daikexin/pythonProject/venv/lib/python3.12/site-packages (from sktime[all_extras]) (2024.11.0)\r\n",
      "Requirement already satisfied: Flask<3.1,>=1.0.4 in /Users/daikexin/pythonProject/venv/lib/python3.12/site-packages (from dash!=2.9.0->sktime[all_extras]) (3.0.3)\r\n",
      "Requirement already satisfied: Werkzeug<3.1 in /Users/daikexin/pythonProject/venv/lib/python3.12/site-packages (from dash!=2.9.0->sktime[all_extras]) (3.0.6)\r\n",
      "Requirement already satisfied: plotly>=5.0.0 in /Users/daikexin/pythonProject/venv/lib/python3.12/site-packages (from dash!=2.9.0->sktime[all_extras]) (5.24.1)\r\n",
      "Requirement already satisfied: dash-html-components==2.0.0 in /Users/daikexin/pythonProject/venv/lib/python3.12/site-packages (from dash!=2.9.0->sktime[all_extras]) (2.0.0)\r\n",
      "Requirement already satisfied: dash-core-components==2.0.0 in /Users/daikexin/pythonProject/venv/lib/python3.12/site-packages (from dash!=2.9.0->sktime[all_extras]) (2.0.0)\r\n",
      "Requirement already satisfied: dash-table==5.0.0 in /Users/daikexin/pythonProject/venv/lib/python3.12/site-packages (from dash!=2.9.0->sktime[all_extras]) (5.0.0)\r\n",
      "Requirement already satisfied: importlib-metadata in /Users/daikexin/pythonProject/venv/lib/python3.12/site-packages (from dash!=2.9.0->sktime[all_extras]) (8.5.0)\r\n",
      "Requirement already satisfied: typing-extensions>=4.1.1 in /Users/daikexin/pythonProject/venv/lib/python3.12/site-packages (from dash!=2.9.0->sktime[all_extras]) (4.12.2)\r\n",
      "Requirement already satisfied: requests in /Users/daikexin/pythonProject/venv/lib/python3.12/site-packages (from dash!=2.9.0->sktime[all_extras]) (2.32.3)\r\n",
      "Requirement already satisfied: retrying in /Users/daikexin/pythonProject/venv/lib/python3.12/site-packages (from dash!=2.9.0->sktime[all_extras]) (1.3.4)\r\n",
      "Requirement already satisfied: nest-asyncio in /Users/daikexin/pythonProject/venv/lib/python3.12/site-packages (from dash!=2.9.0->sktime[all_extras]) (1.6.0)\r\n",
      "Requirement already satisfied: setuptools in /Users/daikexin/pythonProject/venv/lib/python3.12/site-packages (from dash!=2.9.0->sktime[all_extras]) (75.6.0)\r\n",
      "Requirement already satisfied: pydantic<3,>=1.7 in /Users/daikexin/pythonProject/venv/lib/python3.12/site-packages (from gluonts>=0.9->sktime[all_extras]) (2.10.3)\r\n",
      "Requirement already satisfied: tqdm~=4.23 in /Users/daikexin/pythonProject/venv/lib/python3.12/site-packages (from gluonts>=0.9->sktime[all_extras]) (4.67.1)\r\n",
      "Requirement already satisfied: toolz~=0.10 in /Users/daikexin/pythonProject/venv/lib/python3.12/site-packages (from gluonts>=0.9->sktime[all_extras]) (0.12.1)\r\n",
      "Requirement already satisfied: contourpy>=1.0.1 in /Users/daikexin/pythonProject/venv/lib/python3.12/site-packages (from matplotlib!=3.9.1,>=3.3.2->sktime[all_extras]) (1.3.1)\r\n",
      "Requirement already satisfied: cycler>=0.10 in /Users/daikexin/pythonProject/venv/lib/python3.12/site-packages (from matplotlib!=3.9.1,>=3.3.2->sktime[all_extras]) (0.12.1)\r\n",
      "Requirement already satisfied: fonttools>=4.22.0 in /Users/daikexin/pythonProject/venv/lib/python3.12/site-packages (from matplotlib!=3.9.1,>=3.3.2->sktime[all_extras]) (4.55.0)\r\n",
      "Requirement already satisfied: kiwisolver>=1.3.1 in /Users/daikexin/pythonProject/venv/lib/python3.12/site-packages (from matplotlib!=3.9.1,>=3.3.2->sktime[all_extras]) (1.4.7)\r\n",
      "Requirement already satisfied: pillow>=8 in /Users/daikexin/pythonProject/venv/lib/python3.12/site-packages (from matplotlib!=3.9.1,>=3.3.2->sktime[all_extras]) (11.0.0)\r\n",
      "Requirement already satisfied: pyparsing>=2.3.1 in /Users/daikexin/pythonProject/venv/lib/python3.12/site-packages (from matplotlib!=3.9.1,>=3.3.2->sktime[all_extras]) (3.2.0)\r\n",
      "Requirement already satisfied: python-dateutil>=2.7 in /Users/daikexin/pythonProject/venv/lib/python3.12/site-packages (from matplotlib!=3.9.1,>=3.3.2->sktime[all_extras]) (2.9.0.post0)\r\n",
      "Requirement already satisfied: llvmlite<0.44,>=0.43.0dev0 in /Users/daikexin/pythonProject/venv/lib/python3.12/site-packages (from numba<0.61,>=0.53->sktime[all_extras]) (0.43.0)\r\n",
      "Requirement already satisfied: alembic>=1.5.0 in /Users/daikexin/pythonProject/venv/lib/python3.12/site-packages (from optuna<4.2->sktime[all_extras]) (1.14.0)\r\n",
      "Requirement already satisfied: colorlog in /Users/daikexin/pythonProject/venv/lib/python3.12/site-packages (from optuna<4.2->sktime[all_extras]) (6.9.0)\r\n",
      "Requirement already satisfied: sqlalchemy>=1.4.2 in /Users/daikexin/pythonProject/venv/lib/python3.12/site-packages (from optuna<4.2->sktime[all_extras]) (2.0.36)\r\n",
      "Requirement already satisfied: PyYAML in /Users/daikexin/pythonProject/venv/lib/python3.12/site-packages (from optuna<4.2->sktime[all_extras]) (6.0.2)\r\n",
      "Requirement already satisfied: pytz>=2020.1 in /Users/daikexin/pythonProject/venv/lib/python3.12/site-packages (from pandas<2.3.0,>=1.1->sktime[all_extras]) (2024.2)\r\n",
      "Requirement already satisfied: tzdata>=2022.7 in /Users/daikexin/pythonProject/venv/lib/python3.12/site-packages (from pandas<2.3.0,>=1.1->sktime[all_extras]) (2024.2)\r\n",
      "Requirement already satisfied: threadpoolctl>=3.1.0 in /Users/daikexin/pythonProject/venv/lib/python3.12/site-packages (from scikit-learn<1.6.0,>=0.24->sktime[all_extras]) (3.5.0)\r\n",
      "Requirement already satisfied: patsy>=0.5.6 in /Users/daikexin/pythonProject/venv/lib/python3.12/site-packages (from statsmodels>=0.12.1->sktime[all_extras]) (1.0.1)\r\n",
      "Requirement already satisfied: nfoursid>=1.0.0 in /Users/daikexin/pythonProject/venv/lib/python3.12/site-packages (from u8darts<0.32.0,>=0.29.0->sktime[all_extras]) (1.0.1)\r\n",
      "Requirement already satisfied: pmdarima>=1.8.0 in /Users/daikexin/pythonProject/venv/lib/python3.12/site-packages (from u8darts<0.32.0,>=0.29.0->sktime[all_extras]) (2.0.4)\r\n",
      "Requirement already satisfied: pyod>=0.9.5 in /Users/daikexin/pythonProject/venv/lib/python3.12/site-packages (from u8darts<0.32.0,>=0.29.0->sktime[all_extras]) (2.0.2)\r\n",
      "Requirement already satisfied: shap>=0.40.0 in /Users/daikexin/pythonProject/venv/lib/python3.12/site-packages (from u8darts<0.32.0,>=0.29.0->sktime[all_extras]) (0.46.0)\r\n",
      "Requirement already satisfied: statsforecast>=1.4 in /Users/daikexin/pythonProject/venv/lib/python3.12/site-packages (from u8darts<0.32.0,>=0.29.0->sktime[all_extras]) (2.0.0)\r\n",
      "Requirement already satisfied: tbats>=1.1.0 in /Users/daikexin/pythonProject/venv/lib/python3.12/site-packages (from u8darts<0.32.0,>=0.29.0->sktime[all_extras]) (1.1.3)\r\n",
      "Requirement already satisfied: xgboost>=1.6.0 in /Users/daikexin/pythonProject/venv/lib/python3.12/site-packages (from u8darts<0.32.0,>=0.29.0->sktime[all_extras]) (2.1.3)\r\n",
      "Requirement already satisfied: decorator in /Users/daikexin/pythonProject/venv/lib/python3.12/site-packages (from mne->sktime[all_extras]) (5.1.1)\r\n",
      "Requirement already satisfied: jinja2 in /Users/daikexin/pythonProject/venv/lib/python3.12/site-packages (from mne->sktime[all_extras]) (3.1.4)\r\n",
      "Requirement already satisfied: lazy-loader>=0.3 in /Users/daikexin/pythonProject/venv/lib/python3.12/site-packages (from mne->sktime[all_extras]) (0.4)\r\n",
      "Requirement already satisfied: pooch>=1.5 in /Users/daikexin/pythonProject/venv/lib/python3.12/site-packages (from mne->sktime[all_extras]) (1.8.2)\r\n",
      "Requirement already satisfied: pyaml>=16.9 in /Users/daikexin/pythonProject/venv/lib/python3.12/site-packages (from scikit-optimize->sktime[all_extras]) (24.9.0)\r\n",
      "Requirement already satisfied: Mako in /Users/daikexin/pythonProject/venv/lib/python3.12/site-packages (from alembic>=1.5.0->optuna<4.2->sktime[all_extras]) (1.3.7)\r\n",
      "Requirement already satisfied: itsdangerous>=2.1.2 in /Users/daikexin/pythonProject/venv/lib/python3.12/site-packages (from Flask<3.1,>=1.0.4->dash!=2.9.0->sktime[all_extras]) (2.2.0)\r\n",
      "Requirement already satisfied: click>=8.1.3 in /Users/daikexin/pythonProject/venv/lib/python3.12/site-packages (from Flask<3.1,>=1.0.4->dash!=2.9.0->sktime[all_extras]) (8.1.7)\r\n",
      "Requirement already satisfied: blinker>=1.6.2 in /Users/daikexin/pythonProject/venv/lib/python3.12/site-packages (from Flask<3.1,>=1.0.4->dash!=2.9.0->sktime[all_extras]) (1.9.0)\r\n",
      "Requirement already satisfied: MarkupSafe>=2.0 in /Users/daikexin/pythonProject/venv/lib/python3.12/site-packages (from jinja2->mne->sktime[all_extras]) (3.0.2)\r\n",
      "Requirement already satisfied: tenacity>=6.2.0 in /Users/daikexin/pythonProject/venv/lib/python3.12/site-packages (from plotly>=5.0.0->dash!=2.9.0->sktime[all_extras]) (9.0.0)\r\n",
      "Requirement already satisfied: Cython!=0.29.18,!=0.29.31,>=0.29 in /Users/daikexin/pythonProject/venv/lib/python3.12/site-packages (from pmdarima>=1.8.0->u8darts<0.32.0,>=0.29.0->sktime[all_extras]) (3.0.11)\r\n",
      "Requirement already satisfied: urllib3 in /Users/daikexin/pythonProject/venv/lib/python3.12/site-packages (from pmdarima>=1.8.0->u8darts<0.32.0,>=0.29.0->sktime[all_extras]) (2.2.3)\r\n",
      "Requirement already satisfied: platformdirs>=2.5.0 in /Users/daikexin/pythonProject/venv/lib/python3.12/site-packages (from pooch>=1.5->mne->sktime[all_extras]) (4.3.6)\r\n",
      "Requirement already satisfied: annotated-types>=0.6.0 in /Users/daikexin/pythonProject/venv/lib/python3.12/site-packages (from pydantic<3,>=1.7->gluonts>=0.9->sktime[all_extras]) (0.7.0)\r\n",
      "Requirement already satisfied: pydantic-core==2.27.1 in /Users/daikexin/pythonProject/venv/lib/python3.12/site-packages (from pydantic<3,>=1.7->gluonts>=0.9->sktime[all_extras]) (2.27.1)\r\n",
      "Requirement already satisfied: six>=1.5 in /Users/daikexin/pythonProject/venv/lib/python3.12/site-packages (from python-dateutil>=2.7->matplotlib!=3.9.1,>=3.3.2->sktime[all_extras]) (1.16.0)\r\n",
      "Requirement already satisfied: charset-normalizer<4,>=2 in /Users/daikexin/pythonProject/venv/lib/python3.12/site-packages (from requests->dash!=2.9.0->sktime[all_extras]) (3.4.0)\r\n",
      "Requirement already satisfied: idna<4,>=2.5 in /Users/daikexin/pythonProject/venv/lib/python3.12/site-packages (from requests->dash!=2.9.0->sktime[all_extras]) (3.10)\r\n",
      "Requirement already satisfied: certifi>=2017.4.17 in /Users/daikexin/pythonProject/venv/lib/python3.12/site-packages (from requests->dash!=2.9.0->sktime[all_extras]) (2024.8.30)\r\n",
      "Requirement already satisfied: slicer==0.0.8 in /Users/daikexin/pythonProject/venv/lib/python3.12/site-packages (from shap>=0.40.0->u8darts<0.32.0,>=0.29.0->sktime[all_extras]) (0.0.8)\r\n",
      "Requirement already satisfied: coreforecast>=0.0.12 in /Users/daikexin/pythonProject/venv/lib/python3.12/site-packages (from statsforecast>=1.4->u8darts<0.32.0,>=0.29.0->sktime[all_extras]) (0.0.15)\r\n",
      "Requirement already satisfied: fugue>=0.8.1 in /Users/daikexin/pythonProject/venv/lib/python3.12/site-packages (from statsforecast>=1.4->u8darts<0.32.0,>=0.29.0->sktime[all_extras]) (0.9.1)\r\n",
      "Requirement already satisfied: utilsforecast>=0.1.4 in /Users/daikexin/pythonProject/venv/lib/python3.12/site-packages (from statsforecast>=1.4->u8darts<0.32.0,>=0.29.0->sktime[all_extras]) (0.2.10)\r\n",
      "Requirement already satisfied: zipp>=3.20 in /Users/daikexin/pythonProject/venv/lib/python3.12/site-packages (from importlib-metadata->dash!=2.9.0->sktime[all_extras]) (3.21.0)\r\n",
      "Requirement already satisfied: pyarrow>=7.0.0 in /Users/daikexin/pythonProject/venv/lib/python3.12/site-packages (from polars<2.0,>=0.20->polars[pandas]<2.0,>=0.20; python_version < \"3.13\" and extra == \"all-extras\"->sktime[all_extras]) (18.1.0)\r\n",
      "Requirement already satisfied: triad>=0.9.7 in /Users/daikexin/pythonProject/venv/lib/python3.12/site-packages (from fugue>=0.8.1->statsforecast>=1.4->u8darts<0.32.0,>=0.29.0->sktime[all_extras]) (0.9.8)\r\n",
      "Requirement already satisfied: adagio>=0.2.4 in /Users/daikexin/pythonProject/venv/lib/python3.12/site-packages (from fugue>=0.8.1->statsforecast>=1.4->u8darts<0.32.0,>=0.29.0->sktime[all_extras]) (0.2.6)\r\n",
      "Requirement already satisfied: fsspec>=2022.5.0 in /Users/daikexin/pythonProject/venv/lib/python3.12/site-packages (from triad>=0.9.7->fugue>=0.8.1->statsforecast>=1.4->u8darts<0.32.0,>=0.29.0->sktime[all_extras]) (2024.10.0)\r\n",
      "Requirement already satisfied: fs in /Users/daikexin/pythonProject/venv/lib/python3.12/site-packages (from triad>=0.9.7->fugue>=0.8.1->statsforecast>=1.4->u8darts<0.32.0,>=0.29.0->sktime[all_extras]) (2.4.16)\r\n",
      "Requirement already satisfied: appdirs~=1.4.3 in /Users/daikexin/pythonProject/venv/lib/python3.12/site-packages (from fs->triad>=0.9.7->fugue>=0.8.1->statsforecast>=1.4->u8darts<0.32.0,>=0.29.0->sktime[all_extras]) (1.4.4)\r\n"
     ]
    }
   ],
   "source": [
    "#Install Dependencies and SkTime\n",
    "!pip install tensorflow\n",
    "!pip install torch\n",
    "!pip install sktime\\[dl\\]\n",
    "!pip install sktime\\[all_extras\\]"
   ],
   "metadata": {
    "collapsed": false,
    "ExecuteTime": {
     "end_time": "2024-12-05T13:19:03.224059Z",
     "start_time": "2024-12-05T13:18:55.627920Z"
    }
   },
   "id": "957faf112c4ece89"
  },
  {
   "cell_type": "code",
   "execution_count": 2,
   "outputs": [],
   "source": [
    "import os\n",
    "import pandas as pd\n",
    "import numpy as np\n",
    "import matplotlib.pyplot as plt\n",
    "import tensorflow as tf\n",
    "import sktime\n",
    "import torch\n",
    "from sktime.datasets import load_basic_motions\n",
    "from sklearn.model_selection import LeaveOneGroupOut\n",
    "from sklearn.preprocessing import OneHotEncoder\n",
    "from sktime.classification.deep_learning import MVTSTransformerClassifier\n",
    "from sklearn.preprocessing import OneHotEncoder, LabelEncoder\n",
    "from sklearn.model_selection import LeaveOneGroupOut"
   ],
   "metadata": {
    "collapsed": false,
    "ExecuteTime": {
     "end_time": "2024-12-05T13:19:18.245351Z",
     "start_time": "2024-12-05T13:19:08.743246Z"
    }
   },
   "id": "fc7d74f9200f6feb"
  },
  {
   "cell_type": "code",
   "execution_count": 81,
   "outputs": [
    {
     "name": "stdout",
     "output_type": "stream",
     "text": [
      "2.5.1\n"
     ]
    }
   ],
   "source": [
    "import torch\n",
    "print(torch.__version__)"
   ],
   "metadata": {
    "collapsed": false,
    "ExecuteTime": {
     "end_time": "2024-12-05T10:05:26.363695Z",
     "start_time": "2024-12-05T10:05:26.349290Z"
    }
   },
   "id": "ec4c9a812f768fad"
  },
  {
   "cell_type": "code",
   "execution_count": 82,
   "outputs": [
    {
     "name": "stdout",
     "output_type": "stream",
     "text": [
      "0.34.1\n"
     ]
    }
   ],
   "source": [
    "import sktime\n",
    "print(sktime.__version__)"
   ],
   "metadata": {
    "collapsed": false,
    "ExecuteTime": {
     "end_time": "2024-12-05T10:06:14.196339Z",
     "start_time": "2024-12-05T10:06:14.189288Z"
    }
   },
   "id": "da2cfdfbbf5de86b"
  },
  {
   "cell_type": "code",
   "execution_count": 3,
   "outputs": [
    {
     "ename": "ModuleNotFoundError",
     "evalue": "No module named 'sktime.classifiers'",
     "output_type": "error",
     "traceback": [
      "\u001B[0;31m---------------------------------------------------------------------------\u001B[0m",
      "\u001B[0;31mModuleNotFoundError\u001B[0m                       Traceback (most recent call last)",
      "Cell \u001B[0;32mIn[3], line 1\u001B[0m\n\u001B[0;32m----> 1\u001B[0m \u001B[38;5;28;01mfrom\u001B[39;00m \u001B[38;5;21;01msktime\u001B[39;00m\u001B[38;5;21;01m.\u001B[39;00m\u001B[38;5;21;01mclassifiers\u001B[39;00m\u001B[38;5;21;01m.\u001B[39;00m\u001B[38;5;21;01mdeep_learning\u001B[39;00m \u001B[38;5;28;01mimport\u001B[39;00m MVTSTransformerClassifier\n",
      "\u001B[0;31mModuleNotFoundError\u001B[0m: No module named 'sktime.classifiers'"
     ]
    }
   ],
   "source": [
    "from sktime.classifiers.deep_learning import MVTSTransformerClassifier"
   ],
   "metadata": {
    "collapsed": false,
    "ExecuteTime": {
     "end_time": "2024-12-05T13:19:25.290569Z",
     "start_time": "2024-12-05T13:19:25.175379Z"
    }
   },
   "id": "abd1b93ab16678cc"
  },
  {
   "cell_type": "markdown",
   "source": [
    "data preparation\n",
    "Shape: (num_samples, timesteps, num_features)"
   ],
   "metadata": {
    "collapsed": false
   },
   "id": "7b82c039d3643af3"
  },
  {
   "cell_type": "code",
   "execution_count": 2,
   "outputs": [],
   "source": [
    "data_path = \"../data\""
   ],
   "metadata": {
    "collapsed": false,
    "ExecuteTime": {
     "end_time": "2024-12-05T09:00:17.282234Z",
     "start_time": "2024-12-05T09:00:17.277842Z"
    }
   },
   "id": "4b4075625634aca2"
  },
  {
   "cell_type": "code",
   "execution_count": 4,
   "outputs": [],
   "source": [
    "imu_df=pd.read_csv(f'{data_path}/imu.csv')"
   ],
   "metadata": {
    "collapsed": false,
    "ExecuteTime": {
     "end_time": "2024-12-05T09:01:03.409649Z",
     "start_time": "2024-12-05T09:01:01.219095Z"
    }
   },
   "id": "d20ebaa8eee4a726"
  },
  {
   "cell_type": "code",
   "execution_count": 5,
   "outputs": [
    {
     "data": {
      "text/plain": "  participant body_part condition        task  \\\n0        P_02     arm_l   natural  Cupplacing   \n1        P_02     arm_l   natural  Cupplacing   \n2        P_02     arm_l   natural  Cupplacing   \n3        P_02     arm_l   natural  Cupplacing   \n4        P_02     arm_l   natural  Cupplacing   \n\n                                           file_path  PacketCounter  \\\n0  /Users/daikexin/pythonProject/CompensatoryMove...              0   \n1  /Users/daikexin/pythonProject/CompensatoryMove...              1   \n2  /Users/daikexin/pythonProject/CompensatoryMove...              2   \n3  /Users/daikexin/pythonProject/CompensatoryMove...              3   \n4  /Users/daikexin/pythonProject/CompensatoryMove...              4   \n\n        SampleTimeFine    Quat_W    Quat_X    Quat_Y  ...     Acc_X     Acc_Y  \\\n0  1970-01-01 21:07:25 -0.736210  0.183717  0.638716  ...  0.000000  0.000000   \n1  1970-01-02 01:45:12 -0.736222  0.183720  0.638712  ...  9.708877 -1.067807   \n2  1970-01-02 06:22:59 -0.736170  0.183847  0.638716  ...  9.700046 -1.093796   \n3  1970-01-02 11:00:46 -0.736107  0.183970  0.638727  ...  9.719351 -1.097965   \n4  1970-01-02 15:38:33 -0.736076  0.183974  0.638764  ...  9.745931 -1.099311   \n\n      Acc_Z     Gyr_X     Gyr_Y     Gyr_Z     Mag_X     Mag_Y     Mag_Z  \\\n0  0.000000  0.000000  0.000000  0.000000 -0.262207  0.231201 -0.031738   \n1  1.129502 -1.429176  0.690589  0.529434 -0.262695  0.232666 -0.031250   \n2  1.111337 -1.696598  0.339913  0.393840 -0.263672  0.232178 -0.031250   \n3  1.145534 -1.721801  0.291210  0.197749 -0.262207  0.233643 -0.032959   \n4  1.121240 -1.277600  0.308383  0.286817 -0.260254  0.232666 -0.030273   \n\n   Unnamed: 15  \n0               \n1               \n2               \n3               \n4               \n\n[5 rows x 21 columns]",
      "text/html": "<div>\n<style scoped>\n    .dataframe tbody tr th:only-of-type {\n        vertical-align: middle;\n    }\n\n    .dataframe tbody tr th {\n        vertical-align: top;\n    }\n\n    .dataframe thead th {\n        text-align: right;\n    }\n</style>\n<table border=\"1\" class=\"dataframe\">\n  <thead>\n    <tr style=\"text-align: right;\">\n      <th></th>\n      <th>participant</th>\n      <th>body_part</th>\n      <th>condition</th>\n      <th>task</th>\n      <th>file_path</th>\n      <th>PacketCounter</th>\n      <th>SampleTimeFine</th>\n      <th>Quat_W</th>\n      <th>Quat_X</th>\n      <th>Quat_Y</th>\n      <th>...</th>\n      <th>Acc_X</th>\n      <th>Acc_Y</th>\n      <th>Acc_Z</th>\n      <th>Gyr_X</th>\n      <th>Gyr_Y</th>\n      <th>Gyr_Z</th>\n      <th>Mag_X</th>\n      <th>Mag_Y</th>\n      <th>Mag_Z</th>\n      <th>Unnamed: 15</th>\n    </tr>\n  </thead>\n  <tbody>\n    <tr>\n      <th>0</th>\n      <td>P_02</td>\n      <td>arm_l</td>\n      <td>natural</td>\n      <td>Cupplacing</td>\n      <td>/Users/daikexin/pythonProject/CompensatoryMove...</td>\n      <td>0</td>\n      <td>1970-01-01 21:07:25</td>\n      <td>-0.736210</td>\n      <td>0.183717</td>\n      <td>0.638716</td>\n      <td>...</td>\n      <td>0.000000</td>\n      <td>0.000000</td>\n      <td>0.000000</td>\n      <td>0.000000</td>\n      <td>0.000000</td>\n      <td>0.000000</td>\n      <td>-0.262207</td>\n      <td>0.231201</td>\n      <td>-0.031738</td>\n      <td></td>\n    </tr>\n    <tr>\n      <th>1</th>\n      <td>P_02</td>\n      <td>arm_l</td>\n      <td>natural</td>\n      <td>Cupplacing</td>\n      <td>/Users/daikexin/pythonProject/CompensatoryMove...</td>\n      <td>1</td>\n      <td>1970-01-02 01:45:12</td>\n      <td>-0.736222</td>\n      <td>0.183720</td>\n      <td>0.638712</td>\n      <td>...</td>\n      <td>9.708877</td>\n      <td>-1.067807</td>\n      <td>1.129502</td>\n      <td>-1.429176</td>\n      <td>0.690589</td>\n      <td>0.529434</td>\n      <td>-0.262695</td>\n      <td>0.232666</td>\n      <td>-0.031250</td>\n      <td></td>\n    </tr>\n    <tr>\n      <th>2</th>\n      <td>P_02</td>\n      <td>arm_l</td>\n      <td>natural</td>\n      <td>Cupplacing</td>\n      <td>/Users/daikexin/pythonProject/CompensatoryMove...</td>\n      <td>2</td>\n      <td>1970-01-02 06:22:59</td>\n      <td>-0.736170</td>\n      <td>0.183847</td>\n      <td>0.638716</td>\n      <td>...</td>\n      <td>9.700046</td>\n      <td>-1.093796</td>\n      <td>1.111337</td>\n      <td>-1.696598</td>\n      <td>0.339913</td>\n      <td>0.393840</td>\n      <td>-0.263672</td>\n      <td>0.232178</td>\n      <td>-0.031250</td>\n      <td></td>\n    </tr>\n    <tr>\n      <th>3</th>\n      <td>P_02</td>\n      <td>arm_l</td>\n      <td>natural</td>\n      <td>Cupplacing</td>\n      <td>/Users/daikexin/pythonProject/CompensatoryMove...</td>\n      <td>3</td>\n      <td>1970-01-02 11:00:46</td>\n      <td>-0.736107</td>\n      <td>0.183970</td>\n      <td>0.638727</td>\n      <td>...</td>\n      <td>9.719351</td>\n      <td>-1.097965</td>\n      <td>1.145534</td>\n      <td>-1.721801</td>\n      <td>0.291210</td>\n      <td>0.197749</td>\n      <td>-0.262207</td>\n      <td>0.233643</td>\n      <td>-0.032959</td>\n      <td></td>\n    </tr>\n    <tr>\n      <th>4</th>\n      <td>P_02</td>\n      <td>arm_l</td>\n      <td>natural</td>\n      <td>Cupplacing</td>\n      <td>/Users/daikexin/pythonProject/CompensatoryMove...</td>\n      <td>4</td>\n      <td>1970-01-02 15:38:33</td>\n      <td>-0.736076</td>\n      <td>0.183974</td>\n      <td>0.638764</td>\n      <td>...</td>\n      <td>9.745931</td>\n      <td>-1.099311</td>\n      <td>1.121240</td>\n      <td>-1.277600</td>\n      <td>0.308383</td>\n      <td>0.286817</td>\n      <td>-0.260254</td>\n      <td>0.232666</td>\n      <td>-0.030273</td>\n      <td></td>\n    </tr>\n  </tbody>\n</table>\n<p>5 rows × 21 columns</p>\n</div>"
     },
     "execution_count": 5,
     "metadata": {},
     "output_type": "execute_result"
    }
   ],
   "source": [
    "imu_df.head()"
   ],
   "metadata": {
    "collapsed": false,
    "ExecuteTime": {
     "end_time": "2024-12-05T09:01:10.692182Z",
     "start_time": "2024-12-05T09:01:10.673195Z"
    }
   },
   "id": "4fd97743baf8014b"
  },
  {
   "cell_type": "markdown",
   "source": [
    "Leave-One-Participant-Out Cross-Validation"
   ],
   "metadata": {
    "collapsed": false
   },
   "id": "3b4b52ad31ff1d81"
  },
  {
   "cell_type": "code",
   "execution_count": 60,
   "outputs": [],
   "source": [
    "imu=imu_df.drop(columns=['file_path', 'SampleTimeFine'])"
   ],
   "metadata": {
    "collapsed": false,
    "ExecuteTime": {
     "end_time": "2024-12-05T09:56:06.738176Z",
     "start_time": "2024-12-05T09:56:06.666026Z"
    }
   },
   "id": "603e9b2e5a2c6005"
  },
  {
   "cell_type": "code",
   "execution_count": 61,
   "outputs": [],
   "source": [
    "participants = imu['participant']\n",
    "labels = imu['condition']  \n",
    "features = imu.drop(columns=['participant', 'condition', 'task'])  # Drop non-feature columns"
   ],
   "metadata": {
    "collapsed": false,
    "ExecuteTime": {
     "end_time": "2024-12-05T09:56:07.761942Z",
     "start_time": "2024-12-05T09:56:07.687458Z"
    }
   },
   "id": "d9ed31c715ba8556"
  },
  {
   "cell_type": "code",
   "execution_count": 62,
   "outputs": [],
   "source": [
    "# Convert features and labels into NumPy arrays\n",
    "X = features.to_numpy()\n",
    "y = labels.to_numpy()"
   ],
   "metadata": {
    "collapsed": false,
    "ExecuteTime": {
     "end_time": "2024-12-05T09:56:09.856127Z",
     "start_time": "2024-12-05T09:56:08.303847Z"
    }
   },
   "id": "6784e3984cdb9606"
  },
  {
   "cell_type": "code",
   "execution_count": 63,
   "outputs": [],
   "source": [
    "# One-Hot Encode \n",
    "encoder = OneHotEncoder(sparse_output=False)\n",
    "metadata = imu[['body_part', 'task']].to_numpy()\n",
    "metadata_encoded = encoder.fit_transform(metadata)\n",
    "X_with_metadata = np.hstack((X, metadata_encoded))"
   ],
   "metadata": {
    "collapsed": false,
    "ExecuteTime": {
     "end_time": "2024-12-05T09:56:11.983913Z",
     "start_time": "2024-12-05T09:56:11.273435Z"
    }
   },
   "id": "5420d069b0389606"
  },
  {
   "cell_type": "code",
   "execution_count": 64,
   "outputs": [
    {
     "data": {
      "text/plain": "array([['arm_l', 0, -0.7362104058265686, ..., 0.0, 0.0, 0.0],\n       ['arm_l', 1, -0.7362218499183655, ..., 0.0, 0.0, 0.0],\n       ['arm_l', 2, -0.7361699938774109, ..., 0.0, 0.0, 0.0],\n       ...,\n       ['wrist_r', 1242, 0.9784764051437378, ..., 0.0, 0.0, 1.0],\n       ['wrist_r', 1243, 0.9785610437393188, ..., 0.0, 0.0, 1.0],\n       ['wrist_r', 1244, 0.9786368012428284, ..., 0.0, 0.0, 1.0]],\n      dtype=object)"
     },
     "execution_count": 64,
     "metadata": {},
     "output_type": "execute_result"
    }
   ],
   "source": [
    "X_with_metadata"
   ],
   "metadata": {
    "collapsed": false,
    "ExecuteTime": {
     "end_time": "2024-12-05T09:56:15.081050Z",
     "start_time": "2024-12-05T09:56:15.057428Z"
    }
   },
   "id": "da81a19ad8e81c63"
  },
  {
   "cell_type": "code",
   "execution_count": 65,
   "outputs": [],
   "source": [
    "# Encode target labels\n",
    "label_encoder = LabelEncoder()\n",
    "y_encoded = label_encoder.fit_transform(imu['condition'])"
   ],
   "metadata": {
    "collapsed": false,
    "ExecuteTime": {
     "end_time": "2024-12-05T09:56:18.615322Z",
     "start_time": "2024-12-05T09:56:18.610384Z"
    }
   },
   "id": "fe05714fc15cf38c"
  },
  {
   "cell_type": "code",
   "execution_count": 66,
   "outputs": [],
   "source": [
    "# Initialize Leave-One-Group-Out cross-validator\n",
    "logo = LeaveOneGroupOut()"
   ],
   "metadata": {
    "collapsed": false,
    "ExecuteTime": {
     "end_time": "2024-12-05T09:56:19.361218Z",
     "start_time": "2024-12-05T09:56:19.345390Z"
    }
   },
   "id": "c7ffc182acb93a5a"
  },
  {
   "cell_type": "code",
   "execution_count": 80,
   "outputs": [
    {
     "ename": "ModuleNotFoundError",
     "evalue": "MVTSTransformerClassifier requires package 'torch' to be present in the python environment, but 'torch' was not found. 'torch' is a soft dependency and not included in the base sktime installation. Please run: `pip install torch` to install the torch package. To install all soft dependencies, run: `pip install sktime[all_extras]`",
     "output_type": "error",
     "traceback": [
      "\u001B[0;31m---------------------------------------------------------------------------\u001B[0m",
      "\u001B[0;31mModuleNotFoundError\u001B[0m                       Traceback (most recent call last)",
      "Cell \u001B[0;32mIn[80], line 2\u001B[0m\n\u001B[1;32m      1\u001B[0m \u001B[38;5;66;03m# Initialize transformer classifier\u001B[39;00m\n\u001B[0;32m----> 2\u001B[0m mvts \u001B[38;5;241m=\u001B[39m \u001B[43mMVTSTransformerClassifier\u001B[49m\u001B[43m(\u001B[49m\u001B[43mnum_epochs\u001B[49m\u001B[38;5;241;43m=\u001B[39;49m\u001B[38;5;241;43m20\u001B[39;49m\u001B[43m,\u001B[49m\u001B[43m \u001B[49m\u001B[43mbatch_size\u001B[49m\u001B[38;5;241;43m=\u001B[39;49m\u001B[38;5;241;43m8\u001B[39;49m\u001B[43m)\u001B[49m\n",
      "File \u001B[0;32m~/pythonProject/venv/lib/python3.12/site-packages/sktime/classification/deep_learning/mvts_transformer.py:138\u001B[0m, in \u001B[0;36mMVTSTransformerClassifier.__init__\u001B[0;34m(self, d_model, n_heads, num_layers, dim_feedforward, dropout, pos_encoding, activation, norm, freeze, num_epochs, batch_size, criterion, criterion_kwargs, optimizer, optimizer_kwargs, lr, verbose, random_state)\u001B[0m\n\u001B[1;32m    135\u001B[0m \u001B[38;5;28mself\u001B[39m\u001B[38;5;241m.\u001B[39mmax_len \u001B[38;5;241m=\u001B[39m \u001B[38;5;28;01mNone\u001B[39;00m\n\u001B[1;32m    136\u001B[0m \u001B[38;5;28mself\u001B[39m\u001B[38;5;241m.\u001B[39mnum_classes \u001B[38;5;241m=\u001B[39m \u001B[38;5;28;01mNone\u001B[39;00m\n\u001B[0;32m--> 138\u001B[0m \u001B[38;5;28;43msuper\u001B[39;49m\u001B[43m(\u001B[49m\u001B[43m)\u001B[49m\u001B[38;5;241;43m.\u001B[39;49m\u001B[38;5;21;43m__init__\u001B[39;49m\u001B[43m(\u001B[49m\n\u001B[1;32m    139\u001B[0m \u001B[43m    \u001B[49m\u001B[43mnum_epochs\u001B[49m\u001B[38;5;241;43m=\u001B[39;49m\u001B[43mnum_epochs\u001B[49m\u001B[43m,\u001B[49m\n\u001B[1;32m    140\u001B[0m \u001B[43m    \u001B[49m\u001B[43mbatch_size\u001B[49m\u001B[38;5;241;43m=\u001B[39;49m\u001B[43mbatch_size\u001B[49m\u001B[43m,\u001B[49m\n\u001B[1;32m    141\u001B[0m \u001B[43m    \u001B[49m\u001B[43mcriterion\u001B[49m\u001B[38;5;241;43m=\u001B[39;49m\u001B[43mcriterion\u001B[49m\u001B[43m,\u001B[49m\n\u001B[1;32m    142\u001B[0m \u001B[43m    \u001B[49m\u001B[43mcriterion_kwargs\u001B[49m\u001B[38;5;241;43m=\u001B[39;49m\u001B[43mcriterion_kwargs\u001B[49m\u001B[43m,\u001B[49m\n\u001B[1;32m    143\u001B[0m \u001B[43m    \u001B[49m\u001B[43moptimizer\u001B[49m\u001B[38;5;241;43m=\u001B[39;49m\u001B[43moptimizer\u001B[49m\u001B[43m,\u001B[49m\n\u001B[1;32m    144\u001B[0m \u001B[43m    \u001B[49m\u001B[43moptimizer_kwargs\u001B[49m\u001B[38;5;241;43m=\u001B[39;49m\u001B[43moptimizer_kwargs\u001B[49m\u001B[43m,\u001B[49m\n\u001B[1;32m    145\u001B[0m \u001B[43m    \u001B[49m\u001B[43mlr\u001B[49m\u001B[38;5;241;43m=\u001B[39;49m\u001B[43mlr\u001B[49m\u001B[43m,\u001B[49m\n\u001B[1;32m    146\u001B[0m \u001B[43m    \u001B[49m\u001B[43mverbose\u001B[49m\u001B[38;5;241;43m=\u001B[39;49m\u001B[43mverbose\u001B[49m\u001B[43m,\u001B[49m\n\u001B[1;32m    147\u001B[0m \u001B[43m    \u001B[49m\u001B[43mrandom_state\u001B[49m\u001B[38;5;241;43m=\u001B[39;49m\u001B[43mrandom_state\u001B[49m\u001B[43m,\u001B[49m\n\u001B[1;32m    148\u001B[0m \u001B[43m\u001B[49m\u001B[43m)\u001B[49m\n\u001B[1;32m    150\u001B[0m \u001B[38;5;28;01mfrom\u001B[39;00m \u001B[38;5;21;01msktime\u001B[39;00m\u001B[38;5;21;01m.\u001B[39;00m\u001B[38;5;21;01mutils\u001B[39;00m\u001B[38;5;21;01m.\u001B[39;00m\u001B[38;5;21;01mdependencies\u001B[39;00m \u001B[38;5;28;01mimport\u001B[39;00m _check_soft_dependencies\n\u001B[1;32m    152\u001B[0m \u001B[38;5;28;01mif\u001B[39;00m _check_soft_dependencies(\u001B[38;5;124m\"\u001B[39m\u001B[38;5;124mtorch\u001B[39m\u001B[38;5;124m\"\u001B[39m):\n",
      "File \u001B[0;32m~/pythonProject/venv/lib/python3.12/site-packages/sktime/classification/deep_learning/_pytorch.py:74\u001B[0m, in \u001B[0;36mBaseDeepClassifierPytorch.__init__\u001B[0;34m(self, num_epochs, batch_size, criterion, criterion_kwargs, optimizer, optimizer_kwargs, lr, verbose, random_state)\u001B[0m\n\u001B[1;32m     72\u001B[0m \u001B[38;5;66;03m# use this when y has str\u001B[39;00m\n\u001B[1;32m     73\u001B[0m \u001B[38;5;28mself\u001B[39m\u001B[38;5;241m.\u001B[39mlabel_encoder \u001B[38;5;241m=\u001B[39m \u001B[38;5;28;01mNone\u001B[39;00m\n\u001B[0;32m---> 74\u001B[0m \u001B[38;5;28;43msuper\u001B[39;49m\u001B[43m(\u001B[49m\u001B[43m)\u001B[49m\u001B[38;5;241;43m.\u001B[39;49m\u001B[38;5;21;43m__init__\u001B[39;49m\u001B[43m(\u001B[49m\u001B[43m)\u001B[49m\n\u001B[1;32m     76\u001B[0m \u001B[38;5;66;03m# instantiate optimizers\u001B[39;00m\n\u001B[1;32m     77\u001B[0m \u001B[38;5;28mself\u001B[39m\u001B[38;5;241m.\u001B[39moptimizers \u001B[38;5;241m=\u001B[39m OPTIMIZERS\n",
      "File \u001B[0;32m~/pythonProject/venv/lib/python3.12/site-packages/sktime/classification/base.py:106\u001B[0m, in \u001B[0;36mBaseClassifier.__init__\u001B[0;34m(self)\u001B[0m\n\u001B[1;32m    103\u001B[0m \u001B[38;5;28mself\u001B[39m\u001B[38;5;241m.\u001B[39m_converter_store_y \u001B[38;5;241m=\u001B[39m {}\n\u001B[1;32m    105\u001B[0m \u001B[38;5;28msuper\u001B[39m()\u001B[38;5;241m.\u001B[39m\u001B[38;5;21m__init__\u001B[39m()\n\u001B[0;32m--> 106\u001B[0m \u001B[43m_check_estimator_deps\u001B[49m\u001B[43m(\u001B[49m\u001B[38;5;28;43mself\u001B[39;49m\u001B[43m)\u001B[49m\n",
      "File \u001B[0;32m~/pythonProject/venv/lib/python3.12/site-packages/sktime/utils/dependencies/_dependencies.py:525\u001B[0m, in \u001B[0;36m_check_estimator_deps\u001B[0;34m(obj, msg, severity)\u001B[0m\n\u001B[1;32m    523\u001B[0m     pkg_deps \u001B[38;5;241m=\u001B[39m [pkg_deps]\n\u001B[1;32m    524\u001B[0m \u001B[38;5;28;01mif\u001B[39;00m pkg_deps \u001B[38;5;129;01mis\u001B[39;00m \u001B[38;5;129;01mnot\u001B[39;00m \u001B[38;5;28;01mNone\u001B[39;00m:\n\u001B[0;32m--> 525\u001B[0m     pkg_deps_ok \u001B[38;5;241m=\u001B[39m \u001B[43m_check_soft_dependencies\u001B[49m\u001B[43m(\u001B[49m\u001B[38;5;241;43m*\u001B[39;49m\u001B[43mpkg_deps\u001B[49m\u001B[43m,\u001B[49m\u001B[43m \u001B[49m\u001B[43mseverity\u001B[49m\u001B[38;5;241;43m=\u001B[39;49m\u001B[43mseverity\u001B[49m\u001B[43m,\u001B[49m\u001B[43m \u001B[49m\u001B[43mobj\u001B[49m\u001B[38;5;241;43m=\u001B[39;49m\u001B[43mobj\u001B[49m\u001B[43m)\u001B[49m\n\u001B[1;32m    526\u001B[0m     compatible \u001B[38;5;241m=\u001B[39m compatible \u001B[38;5;129;01mand\u001B[39;00m pkg_deps_ok\n\u001B[1;32m    528\u001B[0m \u001B[38;5;28;01mreturn\u001B[39;00m compatible\n",
      "File \u001B[0;32m~/pythonProject/venv/lib/python3.12/site-packages/sktime/utils/dependencies/_dependencies.py:154\u001B[0m, in \u001B[0;36m_check_soft_dependencies\u001B[0;34m(severity, obj, msg, normalize_reqs, *packages)\u001B[0m\n\u001B[1;32m    142\u001B[0m         msg \u001B[38;5;241m=\u001B[39m (\n\u001B[1;32m    143\u001B[0m             \u001B[38;5;124mf\u001B[39m\u001B[38;5;124m\"\u001B[39m\u001B[38;5;132;01m{\u001B[39;00mclass_name\u001B[38;5;132;01m}\u001B[39;00m\u001B[38;5;124m requires package \u001B[39m\u001B[38;5;132;01m{\u001B[39;00mpackage\u001B[38;5;132;01m!r}\u001B[39;00m\u001B[38;5;124m to be present \u001B[39m\u001B[38;5;124m\"\u001B[39m\n\u001B[1;32m    144\u001B[0m             \u001B[38;5;124mf\u001B[39m\u001B[38;5;124m\"\u001B[39m\u001B[38;5;124min the python environment, but \u001B[39m\u001B[38;5;132;01m{\u001B[39;00mpackage\u001B[38;5;132;01m!r}\u001B[39;00m\u001B[38;5;124m was not found. \u001B[39m\u001B[38;5;124m\"\u001B[39m\n\u001B[0;32m   (...)\u001B[0m\n\u001B[1;32m    149\u001B[0m             \u001B[38;5;124mf\u001B[39m\u001B[38;5;124m\"\u001B[39m\u001B[38;5;124msktime[all_extras]`\u001B[39m\u001B[38;5;124m\"\u001B[39m\n\u001B[1;32m    150\u001B[0m         )\n\u001B[1;32m    151\u001B[0m     \u001B[38;5;66;03m# if msg is not None, none of the above is executed,\u001B[39;00m\n\u001B[1;32m    152\u001B[0m     \u001B[38;5;66;03m# so if msg is passed it overrides the default messages\u001B[39;00m\n\u001B[0;32m--> 154\u001B[0m     \u001B[43m_raise_at_severity\u001B[49m\u001B[43m(\u001B[49m\u001B[43mmsg\u001B[49m\u001B[43m,\u001B[49m\u001B[43m \u001B[49m\u001B[43mseverity\u001B[49m\u001B[43m,\u001B[49m\u001B[43m \u001B[49m\u001B[43mcaller\u001B[49m\u001B[38;5;241;43m=\u001B[39;49m\u001B[38;5;124;43m\"\u001B[39;49m\u001B[38;5;124;43m_check_soft_dependencies\u001B[39;49m\u001B[38;5;124;43m\"\u001B[39;49m\u001B[43m)\u001B[49m\n\u001B[1;32m    155\u001B[0m     \u001B[38;5;28;01mreturn\u001B[39;00m \u001B[38;5;28;01mFalse\u001B[39;00m\n\u001B[1;32m    157\u001B[0m \u001B[38;5;66;03m# now we check compatibility with the version specifier if non-empty\u001B[39;00m\n",
      "File \u001B[0;32m~/pythonProject/venv/lib/python3.12/site-packages/sktime/utils/dependencies/_dependencies.py:632\u001B[0m, in \u001B[0;36m_raise_at_severity\u001B[0;34m(msg, severity, exception_type, warning_type, stacklevel, caller)\u001B[0m\n\u001B[1;32m    629\u001B[0m     exception_type \u001B[38;5;241m=\u001B[39m \u001B[38;5;167;01mModuleNotFoundError\u001B[39;00m\n\u001B[1;32m    631\u001B[0m \u001B[38;5;28;01mif\u001B[39;00m severity \u001B[38;5;241m==\u001B[39m \u001B[38;5;124m\"\u001B[39m\u001B[38;5;124merror\u001B[39m\u001B[38;5;124m\"\u001B[39m:\n\u001B[0;32m--> 632\u001B[0m     \u001B[38;5;28;01mraise\u001B[39;00m exception_type(msg)\n\u001B[1;32m    633\u001B[0m \u001B[38;5;28;01melif\u001B[39;00m severity \u001B[38;5;241m==\u001B[39m \u001B[38;5;124m\"\u001B[39m\u001B[38;5;124mwarning\u001B[39m\u001B[38;5;124m\"\u001B[39m:\n\u001B[1;32m    634\u001B[0m     warnings\u001B[38;5;241m.\u001B[39mwarn(msg, category\u001B[38;5;241m=\u001B[39mwarning_type, stacklevel\u001B[38;5;241m=\u001B[39mstacklevel)\n",
      "\u001B[0;31mModuleNotFoundError\u001B[0m: MVTSTransformerClassifier requires package 'torch' to be present in the python environment, but 'torch' was not found. 'torch' is a soft dependency and not included in the base sktime installation. Please run: `pip install torch` to install the torch package. To install all soft dependencies, run: `pip install sktime[all_extras]`"
     ]
    }
   ],
   "source": [
    "# Initialize transformer classifier\n",
    "mvts = MVTSTransformerClassifier(num_epochs=20, batch_size=8)"
   ],
   "metadata": {
    "collapsed": false,
    "ExecuteTime": {
     "end_time": "2024-12-05T10:04:40.867628Z",
     "start_time": "2024-12-05T10:04:40.829370Z"
    }
   },
   "id": "c46fbbafc7d40f8c"
  },
  {
   "cell_type": "code",
   "execution_count": null,
   "outputs": [],
   "source": [
    "# Perform LOPO-CV\n",
    "accuracies = []\n",
    "for train_idx, test_idx in logo.split(X_with_metadata, y_encoded, groups=participants):\n",
    "    # Split data\n",
    "    X_train, X_test = X_with_metadata[train_idx], X_with_metadata[test_idx]\n",
    "    y_train, y_test = y_encoded[train_idx], y_encoded[test_idx]\n",
    "    \n",
    "    # Fit model\n",
    "    mvts.fit(X_train, y_train)\n",
    "    \n",
    "    # Evaluate on test set\n",
    "    accuracy = mvts.score(X_test, y_test)\n",
    "    accuracies.append(accuracy)\n",
    "    print(f\"Participant Left Out: {participants[test_idx][0]}, Test Accuracy: {accuracy:.2f}\")\n",
    "\n",
    "# Average accuracy\n",
    "print(f\"Mean LOPO-CV Accuracy: {np.mean(accuracies):.2f}\")"
   ],
   "metadata": {
    "collapsed": false
   },
   "id": "15ad2a04e765ac13"
  },
  {
   "cell_type": "code",
   "execution_count": null,
   "outputs": [],
   "source": [
    "# LOPO-CV\n",
    "logo = LeaveOneGroupOut()\n",
    "cv_results = []\n",
    "\n",
    "for train_idx, test_idx in logo.split(X_with_metadata, y, groups=participants):\n",
    "    X_train, X_test = X_with_metadata[train_idx], X_with_metadata[test_idx]\n",
    "    y_train, y_test = y[train_idx], y[test_idx]\n",
    "\n",
    "    # Build and Train the Model\n",
    "    model = build_rnn_model()  # Replace with your model-building function\n",
    "    model.fit(X_train, y_train, epochs=10, batch_size=32, verbose=0)\n",
    "\n",
    "    # Evaluate the Model\n",
    "    test_loss, test_acc = model.evaluate(X_test, y_test, verbose=0)\n",
    "    cv_results.append(test_acc)\n",
    "\n",
    "# Compute Average Accuracy\n",
    "average_accuracy = np.mean(cv_results)\n",
    "print(f\"LOPO-CV Average Accuracy: {average_accuracy * 100:.2f}%\")"
   ],
   "metadata": {
    "collapsed": false
   },
   "id": "1d84d7b5aba2877"
  }
 ],
 "metadata": {
  "kernelspec": {
   "display_name": "Python 3",
   "language": "python",
   "name": "python3"
  },
  "language_info": {
   "codemirror_mode": {
    "name": "ipython",
    "version": 2
   },
   "file_extension": ".py",
   "mimetype": "text/x-python",
   "name": "python",
   "nbconvert_exporter": "python",
   "pygments_lexer": "ipython2",
   "version": "2.7.6"
  }
 },
 "nbformat": 4,
 "nbformat_minor": 5
}
