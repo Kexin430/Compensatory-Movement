{
 "cells": [
  {
   "cell_type": "code",
   "execution_count": 2,
   "id": "initial_id",
   "metadata": {
    "collapsed": true,
    "ExecuteTime": {
     "end_time": "2024-12-05T13:52:16.774313Z",
     "start_time": "2024-12-05T13:52:16.744702Z"
    }
   },
   "outputs": [],
   "source": [
    "import os\n",
    "import pandas as pd\n",
    "import numpy as np\n",
    "import shutil\n",
    "import matplotlib.pyplot as plt"
   ]
  },
  {
   "cell_type": "code",
   "execution_count": 3,
   "outputs": [],
   "source": [
    "import tensorflow as tf\n",
    "from tensorflow.keras.preprocessing.image import ImageDataGenerator, load_img, img_to_array\n",
    "from tensorflow.keras.models import Sequential\n",
    "from tensorflow.keras.layers import Conv2D, MaxPooling2D, Flatten, Dense, Dropout\n",
    "from tensorflow.keras.callbacks import EarlyStopping\n",
    "from sklearn.model_selection import train_test_split\n",
    "from sklearn.preprocessing import LabelBinarizer\n",
    "from sklearn.metrics import classification_report, confusion_matrix\n",
    "from sklearn.utils.class_weight import compute_class_weight"
   ],
   "metadata": {
    "collapsed": false,
    "ExecuteTime": {
     "end_time": "2024-12-05T13:52:21.986905Z",
     "start_time": "2024-12-05T13:52:18.254990Z"
    }
   },
   "id": "45de201865197e05"
  },
  {
   "cell_type": "code",
   "execution_count": 4,
   "outputs": [],
   "source": [
    "data_path = \"../data\""
   ],
   "metadata": {
    "collapsed": false,
    "ExecuteTime": {
     "end_time": "2024-12-05T13:52:23.035097Z",
     "start_time": "2024-12-05T13:52:23.008196Z"
    }
   },
   "id": "6f7c9bbe13236e6a"
  },
  {
   "cell_type": "code",
   "execution_count": null,
   "outputs": [],
   "source": [
    "imu_df=pd.read_csv(f'{data_path}/imu.csv')"
   ],
   "metadata": {
    "collapsed": false,
    "ExecuteTime": {
     "start_time": "2024-12-04T15:15:57.662443Z"
    }
   },
   "id": "a0c6863b6751b799"
  },
  {
   "cell_type": "code",
   "execution_count": null,
   "outputs": [],
   "source": [
    "imu_df.head()"
   ],
   "metadata": {
    "collapsed": false,
    "ExecuteTime": {
     "start_time": "2024-12-04T15:15:57.662670Z"
    }
   },
   "id": "385cbd39647173b6"
  },
  {
   "cell_type": "markdown",
   "source": [
    "Use CNN for each task\n",
    "- Cup placing"
   ],
   "metadata": {
    "collapsed": false
   },
   "id": "8ce8b8ab5d37dfd7"
  },
  {
   "cell_type": "code",
   "execution_count": null,
   "outputs": [],
   "source": [
    "imu_cup_df=imu_df[imu_df['task'] == 'Cupplacing']"
   ],
   "metadata": {
    "collapsed": false,
    "ExecuteTime": {
     "start_time": "2024-12-04T15:15:57.665328Z"
    }
   },
   "id": "9e4de2b4b9daadf4"
  },
  {
   "cell_type": "markdown",
   "source": [
    "visualize all accelerometer data"
   ],
   "metadata": {
    "collapsed": false
   },
   "id": "b5166d7879f472ac"
  },
  {
   "cell_type": "code",
   "execution_count": null,
   "outputs": [],
   "source": [
    "for participant in imu_cup_df['participant'].unique():\n",
    "    for body_part in imu_cup_df['body_part'].unique():\n",
    "        for condition in imu_cup_df['condition'].unique():\n",
    "            subset = imu_cup_df[(imu_cup_df['participant'] == participant) &\n",
    "                                (imu_cup_df['body_part'] == body_part) &\n",
    "                                (imu_cup_df['condition'] == condition)]\n",
    "\n",
    "            plt.figure(figsize=(15, 4))\n",
    "            plt.plot(subset['PacketCounter'], subset['Acc_X'], label='Acc_X')\n",
    "            plt.plot(subset['PacketCounter'], subset['Acc_Y'], label='Acc_Y')\n",
    "            plt.plot(subset['PacketCounter'], subset['Acc_Z'], label='Acc_Z')\n",
    "            plt.title(f'{participant} - {body_part} - {condition}')\n",
    "            plt.legend()\n",
    "            # Create a directory named 'images' if it doesn't exist\n",
    "            os.makedirs(f'{data_path}/acc_images', exist_ok=True)\n",
    "            plt.savefig(f'{data_path}/acc_images/{participant}_{body_part}_{condition}.png')  # Save as image\n",
    "            plt.close()"
   ],
   "metadata": {
    "collapsed": false,
    "ExecuteTime": {
     "start_time": "2024-12-04T15:15:57.667852Z"
    }
   },
   "id": "375f7ced66231c8"
  },
  {
   "cell_type": "markdown",
   "source": [
    "visualize all gyroscope data"
   ],
   "metadata": {
    "collapsed": false
   },
   "id": "207fa4e5f5506263"
  },
  {
   "cell_type": "code",
   "execution_count": null,
   "outputs": [],
   "source": [
    "for participant in imu_cup_df['participant'].unique():\n",
    "    for body_part in imu_cup_df['body_part'].unique():\n",
    "        for condition in imu_cup_df['condition'].unique():\n",
    "            subset = imu_cup_df[(imu_cup_df['participant'] == participant) &\n",
    "                                (imu_cup_df['body_part'] == body_part) &\n",
    "                                (imu_cup_df['condition'] == condition)]\n",
    "\n",
    "            plt.figure(figsize=(15, 4))\n",
    "            plt.plot(subset['PacketCounter'], subset['Gyr_X'], label='Gyr_X')\n",
    "            plt.plot(subset['PacketCounter'], subset['Gyr_Y'], label='Gyr_Y')\n",
    "            plt.plot(subset['PacketCounter'], subset['Gyr_Z'], label='Gyr_Z')\n",
    "            plt.title(f'{participant} - {body_part} - {condition}')\n",
    "            plt.legend()\n",
    "            # Create a directory named 'images' if it doesn't exist\n",
    "            os.makedirs(f'{data_path}/gyr_images', exist_ok=True)\n",
    "            plt.savefig(f'{data_path}/gyr_images/{participant}_{body_part}_{condition}.png')  # Save as image\n",
    "            plt.close()"
   ],
   "metadata": {
    "collapsed": false,
    "ExecuteTime": {
     "start_time": "2024-12-04T15:15:57.668964Z"
    }
   },
   "id": "a0526f5bbf5381b0"
  },
  {
   "cell_type": "markdown",
   "source": [
    "visualize all magnetometer data"
   ],
   "metadata": {
    "collapsed": false
   },
   "id": "1549ad3247c9a51d"
  },
  {
   "cell_type": "code",
   "execution_count": null,
   "outputs": [],
   "source": [
    "for participant in imu_cup_df['participant'].unique():\n",
    "    for body_part in imu_cup_df['body_part'].unique():\n",
    "        for condition in imu_cup_df['condition'].unique():\n",
    "            subset = imu_cup_df[(imu_cup_df['participant'] == participant) &\n",
    "                                (imu_cup_df['body_part'] == body_part) &\n",
    "                                (imu_cup_df['condition'] == condition)]\n",
    "\n",
    "            plt.figure(figsize=(15, 4))\n",
    "            plt.plot(subset['PacketCounter'], subset['Mag_X'], label='Mag_X')\n",
    "            plt.plot(subset['PacketCounter'], subset['Mag_Y'], label='Mag_Y')\n",
    "            plt.plot(subset['PacketCounter'], subset['Mag_Z'], label='Mag_Z')\n",
    "            plt.title(f'{participant} - {body_part} - {condition}')\n",
    "            plt.legend()\n",
    "            # Create a directory named 'images' if it doesn't exist\n",
    "            os.makedirs(f'{data_path}/mag_images', exist_ok=True)\n",
    "            plt.savefig(f'{data_path}/mag_images/{participant}_{body_part}_{condition}.png')  # Save as image\n",
    "            plt.close()"
   ],
   "metadata": {
    "collapsed": false,
    "ExecuteTime": {
     "start_time": "2024-12-04T15:15:57.670127Z"
    }
   },
   "id": "8e1974317541194f"
  },
  {
   "cell_type": "markdown",
   "source": [
    "visualize all quaternions data "
   ],
   "metadata": {
    "collapsed": false
   },
   "id": "da9dfb1059723a1d"
  },
  {
   "cell_type": "code",
   "execution_count": null,
   "outputs": [],
   "source": [
    "for participant in imu_cup_df['participant'].unique():\n",
    "    for body_part in imu_cup_df['body_part'].unique():\n",
    "        for condition in imu_cup_df['condition'].unique():\n",
    "            subset = imu_cup_df[(imu_cup_df['participant'] == participant) &\n",
    "                                (imu_cup_df['body_part'] == body_part) &\n",
    "                                (imu_cup_df['condition'] == condition)]\n",
    "\n",
    "            plt.figure(figsize=(15, 4))\n",
    "            plt.plot(subset['PacketCounter'], subset['Quat_W'], label='Quat_W')\n",
    "            plt.plot(subset['PacketCounter'], subset['Quat_X'], label='Quat_X')\n",
    "            plt.plot(subset['PacketCounter'], subset['Quat_Y'], label='Quat_Y')\n",
    "            plt.plot(subset['PacketCounter'], subset['Quat_Z'], label='Quat_Z')\n",
    "            plt.title(f'{participant} - {body_part} - {condition}')\n",
    "            plt.legend()\n",
    "            # Create a directory named 'images' if it doesn't exist\n",
    "            os.makedirs(f'{data_path}/quat_images', exist_ok=True)\n",
    "            plt.savefig(f'{data_path}/quat_images/{participant}_{body_part}_{condition}.png')  # Save as image\n",
    "            plt.close()"
   ],
   "metadata": {
    "collapsed": false,
    "ExecuteTime": {
     "start_time": "2024-12-04T15:15:57.671615Z"
    }
   },
   "id": "596738418eac3e7c"
  },
  {
   "cell_type": "markdown",
   "source": [
    "start to use cnn"
   ],
   "metadata": {
    "collapsed": false
   },
   "id": "a47aa47a7565a4c8"
  },
  {
   "cell_type": "code",
   "execution_count": 4,
   "outputs": [],
   "source": [
    "# Function to extract condition from filename\n",
    "def extract_condition(file_name):\n",
    "    # Conditions to look for in the filename (can add more if needed)\n",
    "    conditions = ['natural', 'comp', 'comp_WE']\n",
    "    \n",
    "    # Iterate through the conditions and check if they are present in the filename\n",
    "    for condition in conditions:\n",
    "        if condition in file_name:\n",
    "            return condition\n",
    "    \n",
    "    # If no condition is found, raise an error or return a default\n",
    "    raise ValueError(f\"Condition not found in filename: {file_name}\")"
   ],
   "metadata": {
    "collapsed": false,
    "ExecuteTime": {
     "end_time": "2024-12-05T08:27:01.351290Z",
     "start_time": "2024-12-05T08:27:01.336522Z"
    }
   },
   "id": "e571ff5610ce3afe"
  },
  {
   "cell_type": "code",
   "execution_count": 5,
   "outputs": [],
   "source": [
    "# Path to folder containing all images\n",
    "acc_folder = f\"{data_path}/acc_images\" \n",
    "gyr_folder = f\"{data_path}/gyr_images\"     \n",
    "mag_folder = f\"{data_path}/mag_images\"    \n",
    "quat_folder = f\"{data_path}/quat_images\" \n",
    "\n",
    "# Parameters\n",
    "img_width, img_height = 128, 128  # Resize all images to 128x128\n",
    "batch_size = 32\n",
    "epochs = 20"
   ],
   "metadata": {
    "collapsed": false,
    "ExecuteTime": {
     "end_time": "2024-12-05T08:27:02.440485Z",
     "start_time": "2024-12-05T08:27:02.398045Z"
    }
   },
   "id": "afce16100d739b81"
  },
  {
   "cell_type": "code",
   "execution_count": 6,
   "outputs": [],
   "source": [
    "# Initialize lists to store images and labels\n",
    "images_combined = []\n",
    "labels = []"
   ],
   "metadata": {
    "collapsed": false,
    "ExecuteTime": {
     "end_time": "2024-12-05T08:27:03.597655Z",
     "start_time": "2024-12-05T08:27:03.577165Z"
    }
   },
   "id": "f0fb82a7fb1f0334"
  },
  {
   "cell_type": "code",
   "execution_count": 7,
   "outputs": [],
   "source": [
    "# Get list of all subfolders in each directory\n",
    "acc_subfolders = set(os.listdir(acc_folder))\n",
    "gyr_subfolders = set(os.listdir(gyr_folder))\n",
    "mag_subfolders = set(os.listdir(mag_folder))\n",
    "quat_subfolders = set(os.listdir(quat_folder))"
   ],
   "metadata": {
    "collapsed": false,
    "ExecuteTime": {
     "end_time": "2024-12-05T08:27:06.226200Z",
     "start_time": "2024-12-05T08:27:06.217737Z"
    }
   },
   "id": "58ba298f6c306d26"
  },
  {
   "cell_type": "code",
   "execution_count": 8,
   "outputs": [
    {
     "name": "stdout",
     "output_type": "stream",
     "text": [
      "Files matched across sensors: 75\n",
      "Missing in ACC folder: set()\n",
      "Missing in GYR folder: set()\n",
      "Missing in MAG folder: set()\n",
      "Missing in QUAT folder: set()\n",
      "Number of images combined: 75\n",
      "Number of labels: 75\n"
     ]
    }
   ],
   "source": [
    "# Function to get file paths for all sensors\n",
    "def get_file_paths(folder):\n",
    "    files = sorted([f for f in os.listdir(folder) if f.endswith('.png')])\n",
    "    return {os.path.splitext(f)[0]: os.path.join(folder, f) for f in files}\n",
    "\n",
    "# Get all file mappings\n",
    "acc_files = get_file_paths(acc_folder)\n",
    "gyr_files = get_file_paths(gyr_folder)\n",
    "mag_files = get_file_paths(mag_folder)\n",
    "quat_files = get_file_paths(quat_folder)\n",
    "\n",
    "# Ensure all files are matched across all folders\n",
    "common_keys = set(acc_files.keys()) & set(gyr_files.keys()) & set(mag_files.keys()) & set(quat_files.keys())\n",
    "missing_in_acc = set(gyr_files.keys()) & set(mag_files.keys()) & set(quat_files.keys()) - set(acc_files.keys())\n",
    "missing_in_gyr = set(acc_files.keys()) & set(mag_files.keys()) & set(quat_files.keys()) - set(gyr_files.keys())\n",
    "missing_in_mag = set(acc_files.keys()) & set(gyr_files.keys()) & set(quat_files.keys()) - set(mag_files.keys())\n",
    "missing_in_quat = set(acc_files.keys()) & set(gyr_files.keys()) & set(mag_files.keys()) - set(quat_files.keys())\n",
    "\n",
    "print(\"Files matched across sensors:\", len(common_keys))\n",
    "print(\"Missing in ACC folder:\", missing_in_acc)\n",
    "print(\"Missing in GYR folder:\", missing_in_gyr)\n",
    "print(\"Missing in MAG folder:\", missing_in_mag)\n",
    "print(\"Missing in QUAT folder:\", missing_in_quat)\n",
    "\n",
    "\n",
    "for key in common_keys:\n",
    "    acc_img = img_to_array(load_img(acc_files[key], target_size=(img_width, img_height)))[:, :, 0]\n",
    "    gyr_img = img_to_array(load_img(gyr_files[key], target_size=(img_width, img_height)))[:, :, 0]\n",
    "    mag_img = img_to_array(load_img(mag_files[key], target_size=(img_width, img_height)))[:, :, 0]\n",
    "    quat_img = img_to_array(load_img(quat_files[key], target_size=(img_width, img_height)))[:, :, 0]\n",
    "    \n",
    "    # Stack the images to form a 4-channel image\n",
    "    combined_img = np.stack([acc_img, gyr_img, mag_img, quat_img], axis=-1)\n",
    "    images_combined.append(combined_img)\n",
    "\n",
    "    # Extract label from the filename (condition is the last part of the key)\n",
    "    condition = key.split('_')[-1]\n",
    "    labels.append(condition)\n",
    "\n",
    "# Convert to NumPy arrays\n",
    "images_combined = np.array(images_combined)\n",
    "labels = np.array(labels)\n",
    "\n",
    "print(\"Number of images combined:\", images_combined.shape[0])\n",
    "print(\"Number of labels:\", labels.shape[0])"
   ],
   "metadata": {
    "collapsed": false,
    "ExecuteTime": {
     "end_time": "2024-12-05T08:27:11.452730Z",
     "start_time": "2024-12-05T08:27:07.255721Z"
    }
   },
   "id": "652d4934b6d6479e"
  },
  {
   "cell_type": "code",
   "execution_count": 9,
   "outputs": [
    {
     "name": "stdout",
     "output_type": "stream",
     "text": [
      "Classes: ['WE' 'comp' 'natural']\n"
     ]
    }
   ],
   "source": [
    "# Encode the labels\n",
    "label_binarizer = LabelBinarizer()\n",
    "labels_encoded = label_binarizer.fit_transform(labels)\n",
    "\n",
    "print(\"Classes:\", label_binarizer.classes_)"
   ],
   "metadata": {
    "collapsed": false,
    "ExecuteTime": {
     "end_time": "2024-12-05T08:27:14.466443Z",
     "start_time": "2024-12-05T08:27:14.453799Z"
    }
   },
   "id": "5f2471b099bae2c"
  },
  {
   "cell_type": "code",
   "execution_count": 10,
   "outputs": [
    {
     "name": "stdout",
     "output_type": "stream",
     "text": [
      "Training data shape: (60, 128, 128, 4)\n",
      "Validation data shape: (15, 128, 128, 4)\n"
     ]
    }
   ],
   "source": [
    "# Split data into training and validation sets\n",
    "X_train, X_val, y_train, y_val = train_test_split(\n",
    "    images_combined, labels_encoded, test_size=0.2, random_state=42, stratify=labels\n",
    ")\n",
    "\n",
    "print(\"Training data shape:\", X_train.shape)\n",
    "print(\"Validation data shape:\", X_val.shape)"
   ],
   "metadata": {
    "collapsed": false,
    "ExecuteTime": {
     "end_time": "2024-12-05T08:27:17.910108Z",
     "start_time": "2024-12-05T08:27:17.879290Z"
    }
   },
   "id": "342898b9a8147a6c"
  },
  {
   "cell_type": "code",
   "execution_count": 11,
   "outputs": [
    {
     "name": "stderr",
     "output_type": "stream",
     "text": [
      "/Users/daikexin/pythonProject/venv/lib/python3.12/site-packages/keras/src/layers/convolutional/base_conv.py:107: UserWarning: Do not pass an `input_shape`/`input_dim` argument to a layer. When using Sequential models, prefer using an `Input(shape)` object as the first layer in the model instead.\n",
      "  super().__init__(activity_regularizer=activity_regularizer, **kwargs)\n"
     ]
    },
    {
     "data": {
      "text/plain": "\u001B[1mModel: \"sequential\"\u001B[0m\n",
      "text/html": "<pre style=\"white-space:pre;overflow-x:auto;line-height:normal;font-family:Menlo,'DejaVu Sans Mono',consolas,'Courier New',monospace\"><span style=\"font-weight: bold\">Model: \"sequential\"</span>\n</pre>\n"
     },
     "metadata": {},
     "output_type": "display_data"
    },
    {
     "data": {
      "text/plain": "┏━━━━━━━━━━━━━━━━━━━━━━━━━━━━━━━━━┳━━━━━━━━━━━━━━━━━━━━━━━━┳━━━━━━━━━━━━━━━┓\n┃\u001B[1m \u001B[0m\u001B[1mLayer (type)                   \u001B[0m\u001B[1m \u001B[0m┃\u001B[1m \u001B[0m\u001B[1mOutput Shape          \u001B[0m\u001B[1m \u001B[0m┃\u001B[1m \u001B[0m\u001B[1m      Param #\u001B[0m\u001B[1m \u001B[0m┃\n┡━━━━━━━━━━━━━━━━━━━━━━━━━━━━━━━━━╇━━━━━━━━━━━━━━━━━━━━━━━━╇━━━━━━━━━━━━━━━┩\n│ conv2d (\u001B[38;5;33mConv2D\u001B[0m)                 │ (\u001B[38;5;45mNone\u001B[0m, \u001B[38;5;34m126\u001B[0m, \u001B[38;5;34m126\u001B[0m, \u001B[38;5;34m32\u001B[0m)   │         \u001B[38;5;34m1,184\u001B[0m │\n├─────────────────────────────────┼────────────────────────┼───────────────┤\n│ max_pooling2d (\u001B[38;5;33mMaxPooling2D\u001B[0m)    │ (\u001B[38;5;45mNone\u001B[0m, \u001B[38;5;34m63\u001B[0m, \u001B[38;5;34m63\u001B[0m, \u001B[38;5;34m32\u001B[0m)     │             \u001B[38;5;34m0\u001B[0m │\n├─────────────────────────────────┼────────────────────────┼───────────────┤\n│ conv2d_1 (\u001B[38;5;33mConv2D\u001B[0m)               │ (\u001B[38;5;45mNone\u001B[0m, \u001B[38;5;34m61\u001B[0m, \u001B[38;5;34m61\u001B[0m, \u001B[38;5;34m64\u001B[0m)     │        \u001B[38;5;34m18,496\u001B[0m │\n├─────────────────────────────────┼────────────────────────┼───────────────┤\n│ max_pooling2d_1 (\u001B[38;5;33mMaxPooling2D\u001B[0m)  │ (\u001B[38;5;45mNone\u001B[0m, \u001B[38;5;34m30\u001B[0m, \u001B[38;5;34m30\u001B[0m, \u001B[38;5;34m64\u001B[0m)     │             \u001B[38;5;34m0\u001B[0m │\n├─────────────────────────────────┼────────────────────────┼───────────────┤\n│ conv2d_2 (\u001B[38;5;33mConv2D\u001B[0m)               │ (\u001B[38;5;45mNone\u001B[0m, \u001B[38;5;34m28\u001B[0m, \u001B[38;5;34m28\u001B[0m, \u001B[38;5;34m128\u001B[0m)    │        \u001B[38;5;34m73,856\u001B[0m │\n├─────────────────────────────────┼────────────────────────┼───────────────┤\n│ max_pooling2d_2 (\u001B[38;5;33mMaxPooling2D\u001B[0m)  │ (\u001B[38;5;45mNone\u001B[0m, \u001B[38;5;34m14\u001B[0m, \u001B[38;5;34m14\u001B[0m, \u001B[38;5;34m128\u001B[0m)    │             \u001B[38;5;34m0\u001B[0m │\n├─────────────────────────────────┼────────────────────────┼───────────────┤\n│ flatten (\u001B[38;5;33mFlatten\u001B[0m)               │ (\u001B[38;5;45mNone\u001B[0m, \u001B[38;5;34m25088\u001B[0m)          │             \u001B[38;5;34m0\u001B[0m │\n├─────────────────────────────────┼────────────────────────┼───────────────┤\n│ dense (\u001B[38;5;33mDense\u001B[0m)                   │ (\u001B[38;5;45mNone\u001B[0m, \u001B[38;5;34m128\u001B[0m)            │     \u001B[38;5;34m3,211,392\u001B[0m │\n├─────────────────────────────────┼────────────────────────┼───────────────┤\n│ dropout (\u001B[38;5;33mDropout\u001B[0m)               │ (\u001B[38;5;45mNone\u001B[0m, \u001B[38;5;34m128\u001B[0m)            │             \u001B[38;5;34m0\u001B[0m │\n├─────────────────────────────────┼────────────────────────┼───────────────┤\n│ dense_1 (\u001B[38;5;33mDense\u001B[0m)                 │ (\u001B[38;5;45mNone\u001B[0m, \u001B[38;5;34m3\u001B[0m)              │           \u001B[38;5;34m387\u001B[0m │\n└─────────────────────────────────┴────────────────────────┴───────────────┘\n",
      "text/html": "<pre style=\"white-space:pre;overflow-x:auto;line-height:normal;font-family:Menlo,'DejaVu Sans Mono',consolas,'Courier New',monospace\">┏━━━━━━━━━━━━━━━━━━━━━━━━━━━━━━━━━┳━━━━━━━━━━━━━━━━━━━━━━━━┳━━━━━━━━━━━━━━━┓\n┃<span style=\"font-weight: bold\"> Layer (type)                    </span>┃<span style=\"font-weight: bold\"> Output Shape           </span>┃<span style=\"font-weight: bold\">       Param # </span>┃\n┡━━━━━━━━━━━━━━━━━━━━━━━━━━━━━━━━━╇━━━━━━━━━━━━━━━━━━━━━━━━╇━━━━━━━━━━━━━━━┩\n│ conv2d (<span style=\"color: #0087ff; text-decoration-color: #0087ff\">Conv2D</span>)                 │ (<span style=\"color: #00d7ff; text-decoration-color: #00d7ff\">None</span>, <span style=\"color: #00af00; text-decoration-color: #00af00\">126</span>, <span style=\"color: #00af00; text-decoration-color: #00af00\">126</span>, <span style=\"color: #00af00; text-decoration-color: #00af00\">32</span>)   │         <span style=\"color: #00af00; text-decoration-color: #00af00\">1,184</span> │\n├─────────────────────────────────┼────────────────────────┼───────────────┤\n│ max_pooling2d (<span style=\"color: #0087ff; text-decoration-color: #0087ff\">MaxPooling2D</span>)    │ (<span style=\"color: #00d7ff; text-decoration-color: #00d7ff\">None</span>, <span style=\"color: #00af00; text-decoration-color: #00af00\">63</span>, <span style=\"color: #00af00; text-decoration-color: #00af00\">63</span>, <span style=\"color: #00af00; text-decoration-color: #00af00\">32</span>)     │             <span style=\"color: #00af00; text-decoration-color: #00af00\">0</span> │\n├─────────────────────────────────┼────────────────────────┼───────────────┤\n│ conv2d_1 (<span style=\"color: #0087ff; text-decoration-color: #0087ff\">Conv2D</span>)               │ (<span style=\"color: #00d7ff; text-decoration-color: #00d7ff\">None</span>, <span style=\"color: #00af00; text-decoration-color: #00af00\">61</span>, <span style=\"color: #00af00; text-decoration-color: #00af00\">61</span>, <span style=\"color: #00af00; text-decoration-color: #00af00\">64</span>)     │        <span style=\"color: #00af00; text-decoration-color: #00af00\">18,496</span> │\n├─────────────────────────────────┼────────────────────────┼───────────────┤\n│ max_pooling2d_1 (<span style=\"color: #0087ff; text-decoration-color: #0087ff\">MaxPooling2D</span>)  │ (<span style=\"color: #00d7ff; text-decoration-color: #00d7ff\">None</span>, <span style=\"color: #00af00; text-decoration-color: #00af00\">30</span>, <span style=\"color: #00af00; text-decoration-color: #00af00\">30</span>, <span style=\"color: #00af00; text-decoration-color: #00af00\">64</span>)     │             <span style=\"color: #00af00; text-decoration-color: #00af00\">0</span> │\n├─────────────────────────────────┼────────────────────────┼───────────────┤\n│ conv2d_2 (<span style=\"color: #0087ff; text-decoration-color: #0087ff\">Conv2D</span>)               │ (<span style=\"color: #00d7ff; text-decoration-color: #00d7ff\">None</span>, <span style=\"color: #00af00; text-decoration-color: #00af00\">28</span>, <span style=\"color: #00af00; text-decoration-color: #00af00\">28</span>, <span style=\"color: #00af00; text-decoration-color: #00af00\">128</span>)    │        <span style=\"color: #00af00; text-decoration-color: #00af00\">73,856</span> │\n├─────────────────────────────────┼────────────────────────┼───────────────┤\n│ max_pooling2d_2 (<span style=\"color: #0087ff; text-decoration-color: #0087ff\">MaxPooling2D</span>)  │ (<span style=\"color: #00d7ff; text-decoration-color: #00d7ff\">None</span>, <span style=\"color: #00af00; text-decoration-color: #00af00\">14</span>, <span style=\"color: #00af00; text-decoration-color: #00af00\">14</span>, <span style=\"color: #00af00; text-decoration-color: #00af00\">128</span>)    │             <span style=\"color: #00af00; text-decoration-color: #00af00\">0</span> │\n├─────────────────────────────────┼────────────────────────┼───────────────┤\n│ flatten (<span style=\"color: #0087ff; text-decoration-color: #0087ff\">Flatten</span>)               │ (<span style=\"color: #00d7ff; text-decoration-color: #00d7ff\">None</span>, <span style=\"color: #00af00; text-decoration-color: #00af00\">25088</span>)          │             <span style=\"color: #00af00; text-decoration-color: #00af00\">0</span> │\n├─────────────────────────────────┼────────────────────────┼───────────────┤\n│ dense (<span style=\"color: #0087ff; text-decoration-color: #0087ff\">Dense</span>)                   │ (<span style=\"color: #00d7ff; text-decoration-color: #00d7ff\">None</span>, <span style=\"color: #00af00; text-decoration-color: #00af00\">128</span>)            │     <span style=\"color: #00af00; text-decoration-color: #00af00\">3,211,392</span> │\n├─────────────────────────────────┼────────────────────────┼───────────────┤\n│ dropout (<span style=\"color: #0087ff; text-decoration-color: #0087ff\">Dropout</span>)               │ (<span style=\"color: #00d7ff; text-decoration-color: #00d7ff\">None</span>, <span style=\"color: #00af00; text-decoration-color: #00af00\">128</span>)            │             <span style=\"color: #00af00; text-decoration-color: #00af00\">0</span> │\n├─────────────────────────────────┼────────────────────────┼───────────────┤\n│ dense_1 (<span style=\"color: #0087ff; text-decoration-color: #0087ff\">Dense</span>)                 │ (<span style=\"color: #00d7ff; text-decoration-color: #00d7ff\">None</span>, <span style=\"color: #00af00; text-decoration-color: #00af00\">3</span>)              │           <span style=\"color: #00af00; text-decoration-color: #00af00\">387</span> │\n└─────────────────────────────────┴────────────────────────┴───────────────┘\n</pre>\n"
     },
     "metadata": {},
     "output_type": "display_data"
    },
    {
     "data": {
      "text/plain": "\u001B[1m Total params: \u001B[0m\u001B[38;5;34m3,305,315\u001B[0m (12.61 MB)\n",
      "text/html": "<pre style=\"white-space:pre;overflow-x:auto;line-height:normal;font-family:Menlo,'DejaVu Sans Mono',consolas,'Courier New',monospace\"><span style=\"font-weight: bold\"> Total params: </span><span style=\"color: #00af00; text-decoration-color: #00af00\">3,305,315</span> (12.61 MB)\n</pre>\n"
     },
     "metadata": {},
     "output_type": "display_data"
    },
    {
     "data": {
      "text/plain": "\u001B[1m Trainable params: \u001B[0m\u001B[38;5;34m3,305,315\u001B[0m (12.61 MB)\n",
      "text/html": "<pre style=\"white-space:pre;overflow-x:auto;line-height:normal;font-family:Menlo,'DejaVu Sans Mono',consolas,'Courier New',monospace\"><span style=\"font-weight: bold\"> Trainable params: </span><span style=\"color: #00af00; text-decoration-color: #00af00\">3,305,315</span> (12.61 MB)\n</pre>\n"
     },
     "metadata": {},
     "output_type": "display_data"
    },
    {
     "data": {
      "text/plain": "\u001B[1m Non-trainable params: \u001B[0m\u001B[38;5;34m0\u001B[0m (0.00 B)\n",
      "text/html": "<pre style=\"white-space:pre;overflow-x:auto;line-height:normal;font-family:Menlo,'DejaVu Sans Mono',consolas,'Courier New',monospace\"><span style=\"font-weight: bold\"> Non-trainable params: </span><span style=\"color: #00af00; text-decoration-color: #00af00\">0</span> (0.00 B)\n</pre>\n"
     },
     "metadata": {},
     "output_type": "display_data"
    }
   ],
   "source": [
    "# CNN Model\n",
    "model = Sequential([\n",
    "    Conv2D(32, (3, 3), activation='relu', input_shape=(128, 128, 4)),\n",
    "    MaxPooling2D(pool_size=(2, 2)),\n",
    "\n",
    "    Conv2D(64, (3, 3), activation='relu'),\n",
    "    MaxPooling2D(pool_size=(2, 2)),\n",
    "\n",
    "    Conv2D(128, (3, 3), activation='relu'),\n",
    "    MaxPooling2D(pool_size=(2, 2)),\n",
    "\n",
    "    Flatten(),\n",
    "    Dense(128, activation='relu'),\n",
    "    Dropout(0.5),\n",
    "    Dense(labels_encoded.shape[1], activation='softmax')  # Output layer for multi-class classification\n",
    "])\n",
    "\n",
    "# Compile the model\n",
    "model.compile(\n",
    "    optimizer='adam',\n",
    "    loss='categorical_crossentropy',\n",
    "    metrics=['accuracy']\n",
    ")\n",
    "\n",
    "model.summary()"
   ],
   "metadata": {
    "collapsed": false,
    "ExecuteTime": {
     "end_time": "2024-12-05T08:29:12.851722Z",
     "start_time": "2024-12-05T08:29:12.713920Z"
    }
   },
   "id": "472688cff2e16a24"
  },
  {
   "cell_type": "code",
   "execution_count": 12,
   "outputs": [
    {
     "name": "stdout",
     "output_type": "stream",
     "text": [
      "Epoch 1/20\n",
      "\u001B[1m2/2\u001B[0m \u001B[32m━━━━━━━━━━━━━━━━━━━━\u001B[0m\u001B[37m\u001B[0m \u001B[1m1s\u001B[0m 381ms/step - accuracy: 0.3583 - loss: 198.2961 - val_accuracy: 0.3333 - val_loss: 369.9503\n",
      "Epoch 2/20\n",
      "\u001B[1m2/2\u001B[0m \u001B[32m━━━━━━━━━━━━━━━━━━━━\u001B[0m\u001B[37m\u001B[0m \u001B[1m0s\u001B[0m 234ms/step - accuracy: 0.3271 - loss: 265.4552 - val_accuracy: 0.3333 - val_loss: 63.9865\n",
      "Epoch 3/20\n",
      "\u001B[1m2/2\u001B[0m \u001B[32m━━━━━━━━━━━━━━━━━━━━\u001B[0m\u001B[37m\u001B[0m \u001B[1m0s\u001B[0m 219ms/step - accuracy: 0.2500 - loss: 49.3794 - val_accuracy: 0.3333 - val_loss: 17.8539\n",
      "Epoch 4/20\n",
      "\u001B[1m2/2\u001B[0m \u001B[32m━━━━━━━━━━━━━━━━━━━━\u001B[0m\u001B[37m\u001B[0m \u001B[1m0s\u001B[0m 237ms/step - accuracy: 0.4132 - loss: 19.4955 - val_accuracy: 0.3333 - val_loss: 16.5640\n",
      "Epoch 5/20\n",
      "\u001B[1m2/2\u001B[0m \u001B[32m━━━━━━━━━━━━━━━━━━━━\u001B[0m\u001B[37m\u001B[0m \u001B[1m0s\u001B[0m 217ms/step - accuracy: 0.3903 - loss: 13.5673 - val_accuracy: 0.3333 - val_loss: 2.7898\n",
      "Epoch 6/20\n",
      "\u001B[1m2/2\u001B[0m \u001B[32m━━━━━━━━━━━━━━━━━━━━\u001B[0m\u001B[37m\u001B[0m \u001B[1m0s\u001B[0m 224ms/step - accuracy: 0.2722 - loss: 5.2284 - val_accuracy: 0.3333 - val_loss: 4.1072\n",
      "Epoch 7/20\n",
      "\u001B[1m2/2\u001B[0m \u001B[32m━━━━━━━━━━━━━━━━━━━━\u001B[0m\u001B[37m\u001B[0m \u001B[1m0s\u001B[0m 216ms/step - accuracy: 0.3910 - loss: 4.2709 - val_accuracy: 0.3333 - val_loss: 1.2136\n",
      "Epoch 8/20\n",
      "\u001B[1m2/2\u001B[0m \u001B[32m━━━━━━━━━━━━━━━━━━━━\u001B[0m\u001B[37m\u001B[0m \u001B[1m0s\u001B[0m 216ms/step - accuracy: 0.3271 - loss: 1.6118 - val_accuracy: 0.3333 - val_loss: 1.3983\n",
      "Epoch 9/20\n",
      "\u001B[1m2/2\u001B[0m \u001B[32m━━━━━━━━━━━━━━━━━━━━\u001B[0m\u001B[37m\u001B[0m \u001B[1m0s\u001B[0m 223ms/step - accuracy: 0.4243 - loss: 1.2970 - val_accuracy: 0.4000 - val_loss: 1.0899\n",
      "Epoch 10/20\n",
      "\u001B[1m2/2\u001B[0m \u001B[32m━━━━━━━━━━━━━━━━━━━━\u001B[0m\u001B[37m\u001B[0m \u001B[1m0s\u001B[0m 223ms/step - accuracy: 0.4139 - loss: 1.0510 - val_accuracy: 0.2000 - val_loss: 1.0847\n",
      "Epoch 11/20\n",
      "\u001B[1m2/2\u001B[0m \u001B[32m━━━━━━━━━━━━━━━━━━━━\u001B[0m\u001B[37m\u001B[0m \u001B[1m0s\u001B[0m 214ms/step - accuracy: 0.5972 - loss: 0.9807 - val_accuracy: 0.4000 - val_loss: 1.0802\n",
      "Epoch 12/20\n",
      "\u001B[1m2/2\u001B[0m \u001B[32m━━━━━━━━━━━━━━━━━━━━\u001B[0m\u001B[37m\u001B[0m \u001B[1m0s\u001B[0m 214ms/step - accuracy: 0.5111 - loss: 0.9785 - val_accuracy: 0.4667 - val_loss: 0.9994\n",
      "Epoch 13/20\n",
      "\u001B[1m2/2\u001B[0m \u001B[32m━━━━━━━━━━━━━━━━━━━━\u001B[0m\u001B[37m\u001B[0m \u001B[1m0s\u001B[0m 216ms/step - accuracy: 0.8146 - loss: 0.7780 - val_accuracy: 0.4667 - val_loss: 1.0347\n",
      "Epoch 14/20\n",
      "\u001B[1m2/2\u001B[0m \u001B[32m━━━━━━━━━━━━━━━━━━━━\u001B[0m\u001B[37m\u001B[0m \u001B[1m0s\u001B[0m 211ms/step - accuracy: 0.7500 - loss: 0.6690 - val_accuracy: 0.2667 - val_loss: 1.2845\n",
      "Epoch 15/20\n",
      "\u001B[1m2/2\u001B[0m \u001B[32m━━━━━━━━━━━━━━━━━━━━\u001B[0m\u001B[37m\u001B[0m \u001B[1m0s\u001B[0m 216ms/step - accuracy: 0.7056 - loss: 0.6553 - val_accuracy: 0.5333 - val_loss: 0.9031\n",
      "Epoch 16/20\n",
      "\u001B[1m2/2\u001B[0m \u001B[32m━━━━━━━━━━━━━━━━━━━━\u001B[0m\u001B[37m\u001B[0m \u001B[1m0s\u001B[0m 215ms/step - accuracy: 0.9125 - loss: 0.5304 - val_accuracy: 0.5333 - val_loss: 0.9424\n",
      "Epoch 17/20\n",
      "\u001B[1m2/2\u001B[0m \u001B[32m━━━━━━━━━━━━━━━━━━━━\u001B[0m\u001B[37m\u001B[0m \u001B[1m0s\u001B[0m 219ms/step - accuracy: 0.9667 - loss: 0.4540 - val_accuracy: 0.4667 - val_loss: 0.9786\n",
      "Epoch 18/20\n",
      "\u001B[1m2/2\u001B[0m \u001B[32m━━━━━━━━━━━━━━━━━━━━\u001B[0m\u001B[37m\u001B[0m \u001B[1m0s\u001B[0m 220ms/step - accuracy: 0.9444 - loss: 0.2555 - val_accuracy: 0.4667 - val_loss: 1.2343\n",
      "Epoch 19/20\n",
      "\u001B[1m2/2\u001B[0m \u001B[32m━━━━━━━━━━━━━━━━━━━━\u001B[0m\u001B[37m\u001B[0m \u001B[1m0s\u001B[0m 213ms/step - accuracy: 0.9236 - loss: 0.1975 - val_accuracy: 0.6667 - val_loss: 1.0027\n",
      "Epoch 20/20\n",
      "\u001B[1m2/2\u001B[0m \u001B[32m━━━━━━━━━━━━━━━━━━━━\u001B[0m\u001B[37m\u001B[0m \u001B[1m0s\u001B[0m 216ms/step - accuracy: 1.0000 - loss: 0.1156 - val_accuracy: 0.6000 - val_loss: 0.9117\n"
     ]
    },
    {
     "data": {
      "text/plain": "<Figure size 1200x400 with 2 Axes>",
      "image/png": "[encoded data removed]"
     },
     "metadata": {},
     "output_type": "display_data"
    }
   ],
   "source": [
    "# Early stopping to prevent overfitting\n",
    "# early_stopping = EarlyStopping(monitor='val_loss', patience=3, restore_best_weights=True)\n",
    "\n",
    "# Train the model\n",
    "history = model.fit(\n",
    "    X_train, y_train,\n",
    "    validation_data=(X_val, y_val),\n",
    "    epochs=20,\n",
    "    batch_size=32,\n",
    "    # callbacks=[early_stopping]\n",
    ")\n",
    "\n",
    "# Plot training and validation accuracy and loss\n",
    "plt.figure(figsize=(12, 4))\n",
    "plt.subplot(1, 2, 1)\n",
    "plt.plot(history.history['accuracy'], label='Train Accuracy')\n",
    "plt.plot(history.history['val_accuracy'], label='Validation Accuracy')\n",
    "plt.legend()\n",
    "plt.title('Accuracy')\n",
    "\n",
    "plt.subplot(1, 2, 2)\n",
    "plt.plot(history.history['loss'], label='Train Loss')\n",
    "plt.plot(history.history['val_loss'], label='Validation Loss')\n",
    "plt.legend()\n",
    "plt.title('Loss')\n",
    "\n",
    "plt.show()"
   ],
   "metadata": {
    "collapsed": false,
    "ExecuteTime": {
     "end_time": "2024-12-05T08:29:26.870224Z",
     "start_time": "2024-12-05T08:29:17.324291Z"
    }
   },
   "id": "3282ac3787b9cdf6"
  },
  {
   "cell_type": "code",
   "execution_count": 13,
   "outputs": [
    {
     "name": "stdout",
     "output_type": "stream",
     "text": [
      "\u001B[1m1/1\u001B[0m \u001B[32m━━━━━━━━━━━━━━━━━━━━\u001B[0m\u001B[37m\u001B[0m \u001B[1m0s\u001B[0m 92ms/step\n",
      "Classification Report:\n",
      "              precision    recall  f1-score   support\n",
      "\n",
      "          WE       0.50      0.40      0.44         5\n",
      "        comp       0.50      0.40      0.44         5\n",
      "     natural       0.71      1.00      0.83         5\n",
      "\n",
      "    accuracy                           0.60        15\n",
      "   macro avg       0.57      0.60      0.57        15\n",
      "weighted avg       0.57      0.60      0.57        15\n",
      "\n",
      "Confusion Matrix:\n",
      "[[2 2 1]\n",
      " [2 2 1]\n",
      " [0 0 5]]\n"
     ]
    }
   ],
   "source": [
    "# Predictions\n",
    "y_pred = np.argmax(model.predict(X_val), axis=1)\n",
    "y_true = np.argmax(y_val, axis=1)\n",
    "\n",
    "# Classification report\n",
    "class_labels = label_binarizer.classes_\n",
    "print(\"Classification Report:\")\n",
    "print(classification_report(y_true, y_pred, target_names=class_labels))\n",
    "\n",
    "# Confusion matrix\n",
    "print(\"Confusion Matrix:\")\n",
    "print(confusion_matrix(y_true, y_pred))"
   ],
   "metadata": {
    "collapsed": false,
    "ExecuteTime": {
     "end_time": "2024-12-05T08:29:41.770954Z",
     "start_time": "2024-12-05T08:29:41.606474Z"
    }
   },
   "id": "1a2c83fa6191d5cc"
  },
  {
   "cell_type": "code",
   "execution_count": 14,
   "outputs": [
    {
     "name": "stderr",
     "output_type": "stream",
     "text": [
      "WARNING:absl:You are saving your model as an HDF5 file via `model.save()` or `keras.saving.save_model(model)`. This file format is considered legacy. We recommend using instead the native Keras format, e.g. `model.save('my_model.keras')` or `keras.saving.save_model(model, 'my_model.keras')`. \n"
     ]
    },
    {
     "name": "stdout",
     "output_type": "stream",
     "text": [
      "Model saved successfully.\n"
     ]
    }
   ],
   "source": [
    "model.save(\"sensor_condition_classifier.h5\")\n",
    "print(\"Model saved successfully.\")"
   ],
   "metadata": {
    "collapsed": false,
    "ExecuteTime": {
     "end_time": "2024-12-05T08:29:49.996992Z",
     "start_time": "2024-12-05T08:29:49.814868Z"
    }
   },
   "id": "55f9dbac178bcf9a"
  },
  {
   "cell_type": "markdown",
   "source": [
    "try to apply cnn model with all the four tasks."
   ],
   "metadata": {
    "collapsed": false
   },
   "id": "38cc89b144d23553"
  },
  {
   "cell_type": "markdown",
   "source": [
    "visualize all the images, under different condition subfolder, and "
   ],
   "metadata": {
    "collapsed": false
   },
   "id": "c94e0c80f7fa9307"
  },
  {
   "cell_type": "code",
   "execution_count": 15,
   "outputs": [],
   "source": [
    "# Define the path to save images\n",
    "image_folder = f'{data_path}/images'  "
   ],
   "metadata": {
    "collapsed": false,
    "ExecuteTime": {
     "end_time": "2024-12-05T08:33:57.106533Z",
     "start_time": "2024-12-05T08:33:57.078371Z"
    }
   },
   "id": "3d9f822916db72c7"
  },
  {
   "cell_type": "code",
   "execution_count": null,
   "outputs": [],
   "source": [
    "# Create the folder if it doesn't exist\n",
    "os.makedirs(image_folder, exist_ok=True)"
   ],
   "metadata": {
    "collapsed": false,
    "ExecuteTime": {
     "start_time": "2024-12-04T15:15:57.689308Z"
    }
   },
   "id": "c44e63f0d408f53b"
  },
  {
   "cell_type": "code",
   "execution_count": null,
   "outputs": [],
   "source": [
    "# Define specific colors for each measurement (Acc, Gyro, Mag, Quat)\n",
    "color_dict = {\n",
    "    'Acc_X': 'r',  # Red for Acc_X\n",
    "    'Acc_Y': 'g',  # Green for Acc_Y\n",
    "    'Acc_Z': 'b',  # Blue for Acc_Z\n",
    "    'Gyr_X': 'c',  # Cyan for Gyr_X\n",
    "    'Gyr_Y': 'm',  # Magenta for Gyr_Y\n",
    "    'Gyr_Z': 'y',  # Yellow for Gyr_Z\n",
    "    'Mag_X': 'k',  # Black for Mag_X\n",
    "    'Mag_Y': 'orange',  # Orange for Mag_Y\n",
    "    'Mag_Z': 'purple',  # Purple for Mag_Z\n",
    "    'Quat_W': 'pink',  # Pink for Quat_W\n",
    "    'Quat_X': 'brown',  # Brown for Quat_X\n",
    "    'Quat_Y': 'gray',  # Gray for Quat_Y\n",
    "    'Quat_Z': 'lime'  # Lime for Quat_Z\n",
    "}\n",
    "\n",
    "# Group the data by participant, body_part, condition, and task\n",
    "for (participant, body_part, condition), group in imu_df.groupby(['participant', 'body_part', 'condition']):\n",
    "    # Ensure you use a unique name for each task\n",
    "    for task in group['task'].unique():\n",
    "        task_group = group[group['task'] == task]\n",
    "        \n",
    "        # Plot the four measurements (Acc, Gyro, Mag, Quat) for the current task\n",
    "        fig, axes = plt.subplots(4, 1, figsize=(15, 10))  # 4 measurements in a column\n",
    "        fig.suptitle(f'{participant}_{body_part}_{condition}_{task}')\n",
    "\n",
    "        # Plot Acc_X, Acc_Y, Acc_Z for accelerometer data\n",
    "        axes[0].plot(task_group['PacketCounter'], task_group['Acc_X'], label='Acc_X', color=color_dict['Acc_X'])\n",
    "        axes[0].plot(task_group['PacketCounter'], task_group['Acc_Y'], label='Acc_Y', color=color_dict['Acc_Y'])\n",
    "        axes[0].plot(task_group['PacketCounter'], task_group['Acc_Z'], label='Acc_Z', color=color_dict['Acc_Z'])\n",
    "        axes[0].set_ylabel('Accelerometer', labelpad=15)\n",
    "        axes[0].legend(loc='upper left', bbox_to_anchor=(1, 1))\n",
    "\n",
    "        # Plot Gyro_X, Gyro_Y, Gyro_Z for gyroscope data\n",
    "        axes[1].plot(task_group['PacketCounter'], task_group['Gyr_X'], label='Gyr_X', color=color_dict['Gyr_X'])\n",
    "        axes[1].plot(task_group['PacketCounter'], task_group['Gyr_Y'], label='Gyr_Y', color=color_dict['Gyr_Y'])\n",
    "        axes[1].plot(task_group['PacketCounter'], task_group['Gyr_Z'], label='Gyr_Z', color=color_dict['Gyr_Z'])\n",
    "        axes[1].set_ylabel('Gyroscope', labelpad=15)\n",
    "        axes[1].legend(loc='upper left', bbox_to_anchor=(1, 1))\n",
    "\n",
    "        # Plot Mag_X, Mag_Y, Mag_Z for magnetometer data\n",
    "        axes[2].plot(task_group['PacketCounter'], task_group['Mag_X'], label='Mag_X', color=color_dict['Mag_X'])\n",
    "        axes[2].plot(task_group['PacketCounter'], task_group['Mag_Y'], label='Mag_Y', color=color_dict['Mag_Y'])\n",
    "        axes[2].plot(task_group['PacketCounter'], task_group['Mag_Z'], label='Mag_Z', color=color_dict['Mag_Z'])\n",
    "        axes[2].set_ylabel('Magnetometer', labelpad=15)\n",
    "        axes[2].legend(loc='upper left', bbox_to_anchor=(1, 1))\n",
    "\n",
    "        # Plot Quat_W, Quat_X, Quat_Y, Quat_Z for quaternion data\n",
    "        axes[3].plot(task_group['PacketCounter'], task_group['Quat_W'], label='Quat_W', color=color_dict['Quat_W'])\n",
    "        axes[3].plot(task_group['PacketCounter'], task_group['Quat_X'], label='Quat_X', color=color_dict['Quat_X'])\n",
    "        axes[3].plot(task_group['PacketCounter'], task_group['Quat_Y'], label='Quat_Y', color=color_dict['Quat_Y'])\n",
    "        axes[3].plot(task_group['PacketCounter'], task_group['Quat_Z'], label='Quat_Z', color=color_dict['Quat_Z'])\n",
    "        axes[3].set_ylabel('Quaternions', labelpad=15)\n",
    "        axes[3].legend(loc='upper left', bbox_to_anchor=(1, 1))\n",
    "\n",
    "        # Save the image with a name based on the participant, body part, condition, and task\n",
    "        image_name = f\"{participant}_{body_part}_{condition}_{task}.png\"\n",
    "        image_path = os.path.join(image_folder, image_name)\n",
    "        plt.savefig(image_path)\n",
    "        plt.close()  # Close the plot to save memory\n",
    "\n",
    "        print(f\"Saved image: {image_path}\")\n"
   ],
   "metadata": {
    "collapsed": false,
    "ExecuteTime": {
     "start_time": "2024-12-04T15:15:57.691003Z"
    }
   },
   "id": "f933b72e977e012"
  },
  {
   "cell_type": "code",
   "execution_count": null,
   "outputs": [],
   "source": [
    "# Organize the folder for image\n",
    "class_folders = ['natural', 'comp', 'comp_WE'] "
   ],
   "metadata": {
    "collapsed": false,
    "ExecuteTime": {
     "start_time": "2024-12-04T15:15:57.693162Z"
    }
   },
   "id": "efa4da6cb55d33e1"
  },
  {
   "cell_type": "code",
   "execution_count": null,
   "outputs": [],
   "source": [
    "# Create subfolders for each class\n",
    "for folder in class_folders:\n",
    "    os.makedirs(os.path.join(image_folder, folder), exist_ok=True)"
   ],
   "metadata": {
    "collapsed": false,
    "ExecuteTime": {
     "start_time": "2024-12-04T15:15:57.697034Z"
    }
   },
   "id": "bc1537ac9340b819"
  },
  {
   "cell_type": "code",
   "execution_count": null,
   "outputs": [],
   "source": [
    "# Move images into corresponding folders based on filename\n",
    "for file_name in os.listdir(image_folder):\n",
    "    if file_name.endswith('.png'):  # Ensure it's a .png file\n",
    "        # Extract the condition from the filename\n",
    "        if 'comp_WE' in file_name:\n",
    "            target_folder = 'comp_WE'\n",
    "        elif 'comp' in file_name:\n",
    "            target_folder = 'comp'\n",
    "        elif 'natural' in file_name:\n",
    "            target_folder = 'natural'\n",
    "        else:\n",
    "            continue  # Skip if no condition is found\n",
    "        \n",
    "        # Move the file to the correct folder\n",
    "        shutil.move(os.path.join(image_folder, file_name), \n",
    "                    os.path.join(image_folder, target_folder, file_name))\n",
    "\n",
    "print(\"Images have been reorganized.\")"
   ],
   "metadata": {
    "collapsed": false,
    "ExecuteTime": {
     "start_time": "2024-12-04T15:15:57.700781Z"
    }
   },
   "id": "ca0d9f97aa0653eb"
  },
  {
   "cell_type": "code",
   "execution_count": 178,
   "outputs": [],
   "source": [
    "# Parameters for the image size\n",
    "img_width, img_height = 128, 128  # Resize all images to 128x128\n",
    "batch_size = 32\n",
    "epochs = 20"
   ],
   "metadata": {
    "collapsed": false,
    "ExecuteTime": {
     "end_time": "2024-12-04T15:24:08.978897Z",
     "start_time": "2024-12-04T15:24:08.968875Z"
    }
   },
   "id": "2ca329cd643d216b"
  },
  {
   "cell_type": "code",
   "execution_count": null,
   "outputs": [],
   "source": [
    "# Step 1: Set up ImageDataGenerator for loading and preprocessing images\n",
    "datagen = ImageDataGenerator(\n",
    "    rescale=1./255,  # Normalize\n",
    "    rotation_range=20,\n",
    "    width_shift_range=0.2,\n",
    "    height_shift_range=0.2,\n",
    "    shear_range=0.2,\n",
    "    zoom_range=0.2,\n",
    "    horizontal_flip=True,\n",
    "    fill_mode='nearest',\n",
    "    validation_split=0.2\n",
    ")"
   ],
   "metadata": {
    "collapsed": false,
    "ExecuteTime": {
     "end_time": "2024-12-04T15:15:57.758379Z",
     "start_time": "2024-12-04T15:15:57.704598Z"
    }
   },
   "id": "6ce3f61797e5374"
  },
  {
   "cell_type": "code",
   "execution_count": null,
   "outputs": [],
   "source": [
    "# Step 2: Load images from folders into train and validation sets\n",
    "train_generator = datagen.flow_from_directory(\n",
    "    image_folder,\n",
    "    target_size=(img_width, img_height),\n",
    "    batch_size=batch_size,\n",
    "    class_mode='categorical',  # Since we're doing multi-class classification\n",
    "    subset='training'  # Use the subset for training\n",
    ")\n",
    "\n",
    "validation_generator = datagen.flow_from_directory(\n",
    "    image_folder,\n",
    "    target_size=(img_width, img_height),\n",
    "    batch_size=batch_size,\n",
    "    class_mode='categorical',  # Same as for training\n",
    "    subset='validation'  # Use the subset for validation\n",
    ")"
   ],
   "metadata": {
    "collapsed": false,
    "ExecuteTime": {
     "start_time": "2024-12-04T15:15:57.705779Z"
    }
   },
   "id": "b568d07bc553a70d"
  },
  {
   "cell_type": "code",
   "execution_count": null,
   "outputs": [],
   "source": [
    "# Step 3: Define the CNN Model\n",
    "model = Sequential([\n",
    "    Conv2D(32, (3, 3), activation='relu', input_shape=(img_width, img_height, 3)),\n",
    "    MaxPooling2D(pool_size=(2, 2)),\n",
    "    \n",
    "    Conv2D(64, (3, 3), activation='relu'),\n",
    "    MaxPooling2D(pool_size=(2, 2)),\n",
    "    \n",
    "    Conv2D(128, (3, 3), activation='relu'),\n",
    "    MaxPooling2D(pool_size=(2, 2)),\n",
    "    \n",
    "    Conv2D(256, (3, 3), activation='relu'),\n",
    "    MaxPooling2D(pool_size=(2, 2)),\n",
    "    \n",
    "    Flatten(),\n",
    "    Dense(512, activation='relu'),\n",
    "    Dropout(0.5),\n",
    "    Dense(3, activation='softmax')  # Assuming 3 classes\n",
    "])\n",
    "\n",
    "model.compile(\n",
    "    optimizer=tf.keras.optimizers.Adam(learning_rate=0.0001),\n",
    "    loss='categorical_crossentropy',\n",
    "    metrics=['accuracy']\n",
    ")"
   ],
   "metadata": {
    "collapsed": false,
    "ExecuteTime": {
     "start_time": "2024-12-04T15:15:57.706996Z"
    }
   },
   "id": "8956d887a497d3c"
  },
  {
   "cell_type": "code",
   "execution_count": null,
   "outputs": [],
   "source": [
    "# Step 4: Early stopping to prevent overfitting\n",
    "early_stopping = EarlyStopping(monitor='val_loss', patience=3, restore_best_weights=True)"
   ],
   "metadata": {
    "collapsed": false,
    "ExecuteTime": {
     "start_time": "2024-12-04T15:15:57.707510Z"
    }
   },
   "id": "7ae19f22d9503d45"
  },
  {
   "cell_type": "code",
   "execution_count": null,
   "outputs": [],
   "source": [
    "# Step 5: Train the model\n",
    "history_all = model.fit(\n",
    "    train_generator,  # The training data generator\n",
    "    validation_data=validation_generator,  # The validation data generator\n",
    "    epochs=epochs,  # Number of epochs\n",
    "    batch_size=batch_size,  # Batch size (this is handled by the generator)\n",
    "    # callbacks=[early_stopping]  # Early stopping to prevent overfitting\n",
    ")"
   ],
   "metadata": {
    "collapsed": false,
    "ExecuteTime": {
     "start_time": "2024-12-04T15:15:57.708232Z"
    }
   },
   "id": "56c5903d0a1b0ed0"
  },
  {
   "cell_type": "code",
   "execution_count": null,
   "outputs": [],
   "source": [
    "# Step 6: Save the trained model\n",
    "model.save(\"cnn_condition_classifier.h5\")"
   ],
   "metadata": {
    "collapsed": false,
    "ExecuteTime": {
     "start_time": "2024-12-04T15:15:57.708908Z"
    }
   },
   "id": "11b9834f4c1b696d"
  },
  {
   "cell_type": "code",
   "execution_count": null,
   "outputs": [],
   "source": [
    "# Step 8: Evaluate the model\n",
    "y_pred = np.argmax(model.predict(validation_generator), axis=1)\n",
    "y_true = validation_generator.classes\n",
    "class_labels = list(validation_generator.class_indices.keys())\n",
    "\n",
    "print(\"Classification Report:\")\n",
    "print(classification_report(y_true, y_pred, target_names=class_labels))\n",
    "\n",
    "print(\"Confusion Matrix:\")\n",
    "print(confusion_matrix(y_true, y_pred))"
   ],
   "metadata": {
    "collapsed": false,
    "ExecuteTime": {
     "start_time": "2024-12-04T15:15:57.709484Z"
    }
   },
   "id": "89268ef4456d7e47"
  },
  {
   "cell_type": "markdown",
   "source": [
    "try to use cnn with separate tasks"
   ],
   "metadata": {
    "collapsed": false
   },
   "id": "7ec5e7f03018ba5d"
  },
  {
   "cell_type": "code",
   "execution_count": 7,
   "outputs": [],
   "source": [
    "# Function to extract task name from the image filename\n",
    "def extract_task_name(image_name):\n",
    "    task_name = image_name.split('.')[0].split('_')[-1]  # Get the last part of the filename \n",
    "    return task_name"
   ],
   "metadata": {
    "collapsed": false,
    "ExecuteTime": {
     "end_time": "2024-12-05T13:54:31.948714Z",
     "start_time": "2024-12-05T13:54:31.915996Z"
    }
   },
   "id": "e83e7f2e8b742d9"
  },
  {
   "cell_type": "code",
   "execution_count": 8,
   "outputs": [],
   "source": [
    "# Iterate through the condition folders in the image folder\n",
    "for condition_folder in os.listdir(image_folder):\n",
    "    condition_path = os.path.join(image_folder, condition_folder)\n",
    "    \n",
    "    # Check if the folder is a directory (condition folder)\n",
    "    if os.path.isdir(condition_path):\n",
    "        # Iterate through the images in each condition folder\n",
    "        for image_name in os.listdir(condition_path):\n",
    "            if image_name.endswith('.png'):  # Only process PNG images\n",
    "                # Extract the task name from the image file\n",
    "                task = extract_task_name(image_name)\n",
    "\n",
    "                # Create the task folder inside the condition folder if it doesn't exist\n",
    "                task_folder = os.path.join(condition_path, task)\n",
    "                if not os.path.exists(task_folder):\n",
    "                    os.makedirs(task_folder)\n",
    "\n",
    "                # Move the image into the task folder\n",
    "                source_path = os.path.join(condition_path, image_name)\n",
    "                destination_path = os.path.join(task_folder, image_name)\n",
    "                shutil.move(source_path, destination_path)\n",
    "\n",
    "                print(f\"Moved {image_name} to {destination_path}\")"
   ],
   "metadata": {
    "collapsed": false,
    "ExecuteTime": {
     "end_time": "2024-12-05T13:54:33.059982Z",
     "start_time": "2024-12-05T13:54:33.032771Z"
    }
   },
   "id": "41a64045af58044"
  },
  {
   "cell_type": "code",
   "execution_count": 9,
   "outputs": [],
   "source": [
    "# Set image size and batch size\n",
    "img_width, img_height = 150, 150  # Image size for CNN input\n",
    "batch_size = 32"
   ],
   "metadata": {
    "collapsed": false,
    "ExecuteTime": {
     "end_time": "2024-12-05T13:54:33.801635Z",
     "start_time": "2024-12-05T13:54:33.774041Z"
    }
   },
   "id": "2f5a640c7b187e52"
  },
  {
   "cell_type": "code",
   "execution_count": 10,
   "outputs": [],
   "source": [
    "# Step 1: Prepare the ImageDataGenerator for training and validation\n",
    "datagen = ImageDataGenerator(\n",
    "    rescale=1./255,  # Normalize the image pixels to [0, 1]\n",
    "    validation_split=0.2  # 80% for training, 20% for validation\n",
    ")"
   ],
   "metadata": {
    "collapsed": false,
    "ExecuteTime": {
     "end_time": "2024-12-05T13:54:36.313541Z",
     "start_time": "2024-12-05T13:54:36.285137Z"
    }
   },
   "id": "e6a4911bf97c18b7"
  },
  {
   "cell_type": "code",
   "execution_count": 11,
   "outputs": [],
   "source": [
    "# Step 2: Load images from directories\n",
    "train_generator = datagen.flow_from_directory(\n",
    "    image_folder,\n",
    "    target_size=(img_width, img_height),  # Resize images to fit the model input\n",
    "    batch_size=batch_size,\n",
    "    class_mode='categorical',  # Multi-class classification\n",
    "    subset='training'  # Specify training data\n",
    ")\n",
    "\n",
    "validation_generator = datagen.flow_from_directory(\n",
    "    image_folder,\n",
    "    target_size=(img_width, img_height),\n",
    "    batch_size=batch_size,\n",
    "    class_mode='categorical',  # Same as for training\n",
    "    subset='validation'  # Specify validation data\n",
    ")"
   ],
   "metadata": {
    "collapsed": false,
    "ExecuteTime": {
     "end_time": "2024-12-05T13:54:37.866730Z",
     "start_time": "2024-12-05T13:54:37.839011Z"
    }
   },
   "id": "69cdf2d3c54c32cd"
  },
  {
   "cell_type": "code",
   "execution_count": 12,
   "outputs": [
    {
     "name": "stdout",
     "output_type": "stream",
     "text": [
      "Found 240 images belonging to 3 classes.\n",
      "Found 60 images belonging to 3 classes.\n"
     ]
    }
   ],
   "source": [
    "# Step 3: Build the CNN Model\n",
    "from tensorflow.keras import layers, models\n",
    "model = models.Sequential([\n",
    "    layers.Conv2D(32, (3, 3), activation='relu', input_shape=(img_width, img_height, 3)),\n",
    "    layers.MaxPooling2D((2, 2)),\n",
    "    layers.Conv2D(64, (3, 3), activation='relu'),\n",
    "    layers.MaxPooling2D((2, 2)),\n",
    "    layers.Conv2D(128, (3, 3), activation='relu'),\n",
    "    layers.MaxPooling2D((2, 2)),\n",
    "    layers.Flatten(),\n",
    "    layers.Dense(128, activation='relu'),\n",
    "    layers.Dense(train_generator.num_classes, activation='softmax')  # Output layer: number of classes\n",
    "])"
   ],
   "metadata": {
    "collapsed": false,
    "ExecuteTime": {
     "end_time": "2024-12-05T13:54:45.068503Z",
     "start_time": "2024-12-05T13:54:45.030283Z"
    }
   },
   "id": "2e3715be9b233148"
  },
  {
   "cell_type": "code",
   "execution_count": 22,
   "outputs": [],
   "source": [
    "# Step 4: Compile the Model\n",
    "model.compile(\n",
    "    optimizer='adam',  # Optimizer for training\n",
    "    loss='categorical_crossentropy',  # Loss function for multi-class classification\n",
    "    metrics=['accuracy']  # Metrics to track during training\n",
    ")"
   ],
   "metadata": {
    "collapsed": false,
    "ExecuteTime": {
     "end_time": "2024-12-05T08:34:42.219818Z",
     "start_time": "2024-12-05T08:34:42.202439Z"
    }
   },
   "id": "8ad9b710b2f54dd3"
  },
  {
   "cell_type": "code",
   "execution_count": 24,
   "outputs": [
    {
     "name": "stdout",
     "output_type": "stream",
     "text": [
      "Epoch 1/50\n",
      "\u001B[1m8/8\u001B[0m \u001B[32m━━━━━━━━━━━━━━━━━━━━\u001B[0m\u001B[37m\u001B[0m \u001B[1m11s\u001B[0m 1s/step - accuracy: 0.9881 - loss: 0.0394 - val_accuracy: 0.4688 - val_loss: 2.7748\n",
      "Epoch 2/50\n",
      "\u001B[1m8/8\u001B[0m \u001B[32m━━━━━━━━━━━━━━━━━━━━\u001B[0m\u001B[37m\u001B[0m \u001B[1m9s\u001B[0m 1s/step - accuracy: 0.9979 - loss: 0.0179 - val_accuracy: 0.4688 - val_loss: 2.0141\n",
      "Epoch 3/50\n",
      "\u001B[1m8/8\u001B[0m \u001B[32m━━━━━━━━━━━━━━━━━━━━\u001B[0m\u001B[37m\u001B[0m \u001B[1m9s\u001B[0m 1s/step - accuracy: 1.0000 - loss: 0.0084 - val_accuracy: 0.3125 - val_loss: 3.4698\n",
      "Epoch 4/50\n",
      "\u001B[1m8/8\u001B[0m \u001B[32m━━━━━━━━━━━━━━━━━━━━\u001B[0m\u001B[37m\u001B[0m \u001B[1m9s\u001B[0m 1s/step - accuracy: 1.0000 - loss: 0.0066 - val_accuracy: 0.3438 - val_loss: 3.7915\n",
      "Epoch 5/50\n",
      "\u001B[1m8/8\u001B[0m \u001B[32m━━━━━━━━━━━━━━━━━━━━\u001B[0m\u001B[37m\u001B[0m \u001B[1m9s\u001B[0m 1s/step - accuracy: 0.9935 - loss: 0.0101 - val_accuracy: 0.3750 - val_loss: 3.3146\n",
      "Epoch 6/50\n",
      "\u001B[1m8/8\u001B[0m \u001B[32m━━━━━━━━━━━━━━━━━━━━\u001B[0m\u001B[37m\u001B[0m \u001B[1m9s\u001B[0m 1s/step - accuracy: 1.0000 - loss: 0.0054 - val_accuracy: 0.5312 - val_loss: 2.5946\n",
      "Epoch 7/50\n",
      "\u001B[1m8/8\u001B[0m \u001B[32m━━━━━━━━━━━━━━━━━━━━\u001B[0m\u001B[37m\u001B[0m \u001B[1m10s\u001B[0m 1s/step - accuracy: 1.0000 - loss: 5.6177e-04 - val_accuracy: 0.4688 - val_loss: 2.9133\n",
      "Epoch 8/50\n",
      "\u001B[1m8/8\u001B[0m \u001B[32m━━━━━━━━━━━━━━━━━━━━\u001B[0m\u001B[37m\u001B[0m \u001B[1m10s\u001B[0m 1s/step - accuracy: 1.0000 - loss: 9.0425e-04 - val_accuracy: 0.4375 - val_loss: 2.8049\n",
      "Epoch 9/50\n",
      "\u001B[1m8/8\u001B[0m \u001B[32m━━━━━━━━━━━━━━━━━━━━\u001B[0m\u001B[37m\u001B[0m \u001B[1m10s\u001B[0m 1s/step - accuracy: 1.0000 - loss: 2.6402e-04 - val_accuracy: 0.3438 - val_loss: 4.3424\n",
      "Epoch 10/50\n",
      "\u001B[1m8/8\u001B[0m \u001B[32m━━━━━━━━━━━━━━━━━━━━\u001B[0m\u001B[37m\u001B[0m \u001B[1m10s\u001B[0m 1s/step - accuracy: 1.0000 - loss: 1.8471e-04 - val_accuracy: 0.4688 - val_loss: 3.2393\n",
      "Epoch 11/50\n",
      "\u001B[1m8/8\u001B[0m \u001B[32m━━━━━━━━━━━━━━━━━━━━\u001B[0m\u001B[37m\u001B[0m \u001B[1m10s\u001B[0m 1s/step - accuracy: 1.0000 - loss: 1.5380e-04 - val_accuracy: 0.5312 - val_loss: 2.8507\n",
      "Epoch 12/50\n",
      "\u001B[1m8/8\u001B[0m \u001B[32m━━━━━━━━━━━━━━━━━━━━\u001B[0m\u001B[37m\u001B[0m \u001B[1m10s\u001B[0m 1s/step - accuracy: 1.0000 - loss: 1.4351e-04 - val_accuracy: 0.4062 - val_loss: 4.0651\n",
      "Epoch 13/50\n",
      "\u001B[1m8/8\u001B[0m \u001B[32m━━━━━━━━━━━━━━━━━━━━\u001B[0m\u001B[37m\u001B[0m \u001B[1m10s\u001B[0m 1s/step - accuracy: 1.0000 - loss: 1.0850e-04 - val_accuracy: 0.4062 - val_loss: 4.2768\n",
      "Epoch 14/50\n",
      "\u001B[1m8/8\u001B[0m \u001B[32m━━━━━━━━━━━━━━━━━━━━\u001B[0m\u001B[37m\u001B[0m \u001B[1m10s\u001B[0m 1s/step - accuracy: 1.0000 - loss: 1.1195e-04 - val_accuracy: 0.5312 - val_loss: 3.3937\n",
      "Epoch 15/50\n",
      "\u001B[1m8/8\u001B[0m \u001B[32m━━━━━━━━━━━━━━━━━━━━\u001B[0m\u001B[37m\u001B[0m \u001B[1m9s\u001B[0m 1s/step - accuracy: 1.0000 - loss: 1.1014e-04 - val_accuracy: 0.4062 - val_loss: 3.9695\n",
      "Epoch 16/50\n",
      "\u001B[1m8/8\u001B[0m \u001B[32m━━━━━━━━━━━━━━━━━━━━\u001B[0m\u001B[37m\u001B[0m \u001B[1m9s\u001B[0m 1s/step - accuracy: 1.0000 - loss: 9.4986e-05 - val_accuracy: 0.4375 - val_loss: 4.3752\n",
      "Epoch 17/50\n",
      "\u001B[1m8/8\u001B[0m \u001B[32m━━━━━━━━━━━━━━━━━━━━\u001B[0m\u001B[37m\u001B[0m \u001B[1m10s\u001B[0m 1s/step - accuracy: 1.0000 - loss: 7.6055e-05 - val_accuracy: 0.4062 - val_loss: 3.9204\n",
      "Epoch 18/50\n",
      "\u001B[1m8/8\u001B[0m \u001B[32m━━━━━━━━━━━━━━━━━━━━\u001B[0m\u001B[37m\u001B[0m \u001B[1m10s\u001B[0m 1s/step - accuracy: 1.0000 - loss: 7.3427e-05 - val_accuracy: 0.4688 - val_loss: 3.7955\n",
      "Epoch 19/50\n",
      "\u001B[1m8/8\u001B[0m \u001B[32m━━━━━━━━━━━━━━━━━━━━\u001B[0m\u001B[37m\u001B[0m \u001B[1m9s\u001B[0m 1s/step - accuracy: 1.0000 - loss: 6.5780e-05 - val_accuracy: 0.3750 - val_loss: 4.1483\n",
      "Epoch 20/50\n",
      "\u001B[1m8/8\u001B[0m \u001B[32m━━━━━━━━━━━━━━━━━━━━\u001B[0m\u001B[37m\u001B[0m \u001B[1m9s\u001B[0m 1s/step - accuracy: 1.0000 - loss: 6.6434e-05 - val_accuracy: 0.3438 - val_loss: 4.4936\n",
      "Epoch 21/50\n",
      "\u001B[1m8/8\u001B[0m \u001B[32m━━━━━━━━━━━━━━━━━━━━\u001B[0m\u001B[37m\u001B[0m \u001B[1m9s\u001B[0m 1s/step - accuracy: 1.0000 - loss: 7.3082e-05 - val_accuracy: 0.4375 - val_loss: 3.8276\n",
      "Epoch 22/50\n",
      "\u001B[1m8/8\u001B[0m \u001B[32m━━━━━━━━━━━━━━━━━━━━\u001B[0m\u001B[37m\u001B[0m \u001B[1m9s\u001B[0m 1s/step - accuracy: 1.0000 - loss: 6.0791e-05 - val_accuracy: 0.4688 - val_loss: 3.9347\n",
      "Epoch 23/50\n",
      "\u001B[1m8/8\u001B[0m \u001B[32m━━━━━━━━━━━━━━━━━━━━\u001B[0m\u001B[37m\u001B[0m \u001B[1m10s\u001B[0m 1s/step - accuracy: 1.0000 - loss: 5.2994e-05 - val_accuracy: 0.4375 - val_loss: 3.7996\n",
      "Epoch 24/50\n",
      "\u001B[1m8/8\u001B[0m \u001B[32m━━━━━━━━━━━━━━━━━━━━\u001B[0m\u001B[37m\u001B[0m \u001B[1m9s\u001B[0m 1s/step - accuracy: 1.0000 - loss: 5.4629e-05 - val_accuracy: 0.4062 - val_loss: 3.8358\n",
      "Epoch 25/50\n",
      "\u001B[1m8/8\u001B[0m \u001B[32m━━━━━━━━━━━━━━━━━━━━\u001B[0m\u001B[37m\u001B[0m \u001B[1m9s\u001B[0m 1s/step - accuracy: 1.0000 - loss: 4.1629e-05 - val_accuracy: 0.4375 - val_loss: 3.9635\n",
      "Epoch 26/50\n",
      "\u001B[1m8/8\u001B[0m \u001B[32m━━━━━━━━━━━━━━━━━━━━\u001B[0m\u001B[37m\u001B[0m \u001B[1m9s\u001B[0m 1s/step - accuracy: 1.0000 - loss: 4.6458e-05 - val_accuracy: 0.3438 - val_loss: 4.0205\n",
      "Epoch 27/50\n",
      "\u001B[1m8/8\u001B[0m \u001B[32m━━━━━━━━━━━━━━━━━━━━\u001B[0m\u001B[37m\u001B[0m \u001B[1m10s\u001B[0m 1s/step - accuracy: 1.0000 - loss: 4.4418e-05 - val_accuracy: 0.4062 - val_loss: 4.1473\n",
      "Epoch 28/50\n",
      "\u001B[1m8/8\u001B[0m \u001B[32m━━━━━━━━━━━━━━━━━━━━\u001B[0m\u001B[37m\u001B[0m \u001B[1m9s\u001B[0m 1s/step - accuracy: 1.0000 - loss: 4.4571e-05 - val_accuracy: 0.2812 - val_loss: 5.4002\n",
      "Epoch 29/50\n",
      "\u001B[1m8/8\u001B[0m \u001B[32m━━━━━━━━━━━━━━━━━━━━\u001B[0m\u001B[37m\u001B[0m \u001B[1m10s\u001B[0m 1s/step - accuracy: 1.0000 - loss: 4.0448e-05 - val_accuracy: 0.2500 - val_loss: 5.8535\n",
      "Epoch 30/50\n",
      "\u001B[1m8/8\u001B[0m \u001B[32m━━━━━━━━━━━━━━━━━━━━\u001B[0m\u001B[37m\u001B[0m \u001B[1m10s\u001B[0m 1s/step - accuracy: 1.0000 - loss: 4.2059e-05 - val_accuracy: 0.4375 - val_loss: 5.1780\n",
      "Epoch 31/50\n",
      "\u001B[1m8/8\u001B[0m \u001B[32m━━━━━━━━━━━━━━━━━━━━\u001B[0m\u001B[37m\u001B[0m \u001B[1m9s\u001B[0m 1s/step - accuracy: 1.0000 - loss: 3.5638e-05 - val_accuracy: 0.4375 - val_loss: 4.0693\n",
      "Epoch 32/50\n",
      "\u001B[1m8/8\u001B[0m \u001B[32m━━━━━━━━━━━━━━━━━━━━\u001B[0m\u001B[37m\u001B[0m \u001B[1m9s\u001B[0m 1s/step - accuracy: 1.0000 - loss: 3.3660e-05 - val_accuracy: 0.4688 - val_loss: 3.9196\n",
      "Epoch 33/50\n",
      "\u001B[1m8/8\u001B[0m \u001B[32m━━━━━━━━━━━━━━━━━━━━\u001B[0m\u001B[37m\u001B[0m \u001B[1m10s\u001B[0m 1s/step - accuracy: 1.0000 - loss: 3.2797e-05 - val_accuracy: 0.3750 - val_loss: 5.0449\n",
      "Epoch 34/50\n",
      "\u001B[1m8/8\u001B[0m \u001B[32m━━━━━━━━━━━━━━━━━━━━\u001B[0m\u001B[37m\u001B[0m \u001B[1m10s\u001B[0m 1s/step - accuracy: 1.0000 - loss: 3.3668e-05 - val_accuracy: 0.3750 - val_loss: 4.2558\n",
      "Epoch 35/50\n",
      "\u001B[1m8/8\u001B[0m \u001B[32m━━━━━━━━━━━━━━━━━━━━\u001B[0m\u001B[37m\u001B[0m \u001B[1m9s\u001B[0m 1s/step - accuracy: 1.0000 - loss: 3.2017e-05 - val_accuracy: 0.4375 - val_loss: 4.1175\n",
      "Epoch 36/50\n",
      "\u001B[1m8/8\u001B[0m \u001B[32m━━━━━━━━━━━━━━━━━━━━\u001B[0m\u001B[37m\u001B[0m \u001B[1m10s\u001B[0m 1s/step - accuracy: 1.0000 - loss: 3.4163e-05 - val_accuracy: 0.3125 - val_loss: 5.2902\n",
      "Epoch 37/50\n",
      "\u001B[1m8/8\u001B[0m \u001B[32m━━━━━━━━━━━━━━━━━━━━\u001B[0m\u001B[37m\u001B[0m \u001B[1m10s\u001B[0m 1s/step - accuracy: 1.0000 - loss: 2.9000e-05 - val_accuracy: 0.3438 - val_loss: 4.7742\n",
      "Epoch 38/50\n",
      "\u001B[1m8/8\u001B[0m \u001B[32m━━━━━━━━━━━━━━━━━━━━\u001B[0m\u001B[37m\u001B[0m \u001B[1m10s\u001B[0m 1s/step - accuracy: 1.0000 - loss: 3.0939e-05 - val_accuracy: 0.4688 - val_loss: 3.7840\n",
      "Epoch 39/50\n",
      "\u001B[1m8/8\u001B[0m \u001B[32m━━━━━━━━━━━━━━━━━━━━\u001B[0m\u001B[37m\u001B[0m \u001B[1m10s\u001B[0m 1s/step - accuracy: 1.0000 - loss: 2.8102e-05 - val_accuracy: 0.3750 - val_loss: 4.2618\n",
      "Epoch 40/50\n",
      "\u001B[1m8/8\u001B[0m \u001B[32m━━━━━━━━━━━━━━━━━━━━\u001B[0m\u001B[37m\u001B[0m \u001B[1m10s\u001B[0m 1s/step - accuracy: 1.0000 - loss: 2.3788e-05 - val_accuracy: 0.4688 - val_loss: 3.0532\n",
      "Epoch 41/50\n",
      "\u001B[1m8/8\u001B[0m \u001B[32m━━━━━━━━━━━━━━━━━━━━\u001B[0m\u001B[37m\u001B[0m \u001B[1m10s\u001B[0m 1s/step - accuracy: 1.0000 - loss: 2.3905e-05 - val_accuracy: 0.4062 - val_loss: 4.6189\n",
      "Epoch 42/50\n",
      "\u001B[1m8/8\u001B[0m \u001B[32m━━━━━━━━━━━━━━━━━━━━\u001B[0m\u001B[37m\u001B[0m \u001B[1m10s\u001B[0m 1s/step - accuracy: 1.0000 - loss: 2.4059e-05 - val_accuracy: 0.3750 - val_loss: 4.2217\n",
      "Epoch 43/50\n",
      "\u001B[1m8/8\u001B[0m \u001B[32m━━━━━━━━━━━━━━━━━━━━\u001B[0m\u001B[37m\u001B[0m \u001B[1m10s\u001B[0m 1s/step - accuracy: 1.0000 - loss: 2.5516e-05 - val_accuracy: 0.4688 - val_loss: 4.0969\n",
      "Epoch 44/50\n",
      "\u001B[1m8/8\u001B[0m \u001B[32m━━━━━━━━━━━━━━━━━━━━\u001B[0m\u001B[37m\u001B[0m \u001B[1m10s\u001B[0m 1s/step - accuracy: 1.0000 - loss: 2.2265e-05 - val_accuracy: 0.4375 - val_loss: 4.1873\n",
      "Epoch 45/50\n",
      "\u001B[1m8/8\u001B[0m \u001B[32m━━━━━━━━━━━━━━━━━━━━\u001B[0m\u001B[37m\u001B[0m \u001B[1m10s\u001B[0m 1s/step - accuracy: 1.0000 - loss: 2.4409e-05 - val_accuracy: 0.4062 - val_loss: 4.1090\n",
      "Epoch 46/50\n",
      "\u001B[1m8/8\u001B[0m \u001B[32m━━━━━━━━━━━━━━━━━━━━\u001B[0m\u001B[37m\u001B[0m \u001B[1m10s\u001B[0m 1s/step - accuracy: 1.0000 - loss: 2.2799e-05 - val_accuracy: 0.4062 - val_loss: 4.5464\n",
      "Epoch 47/50\n",
      "\u001B[1m8/8\u001B[0m \u001B[32m━━━━━━━━━━━━━━━━━━━━\u001B[0m\u001B[37m\u001B[0m \u001B[1m10s\u001B[0m 1s/step - accuracy: 1.0000 - loss: 2.0776e-05 - val_accuracy: 0.3438 - val_loss: 5.5577\n",
      "Epoch 48/50\n",
      "\u001B[1m8/8\u001B[0m \u001B[32m━━━━━━━━━━━━━━━━━━━━\u001B[0m\u001B[37m\u001B[0m \u001B[1m10s\u001B[0m 1s/step - accuracy: 1.0000 - loss: 1.7915e-05 - val_accuracy: 0.3438 - val_loss: 4.9306\n",
      "Epoch 49/50\n",
      "\u001B[1m8/8\u001B[0m \u001B[32m━━━━━━━━━━━━━━━━━━━━\u001B[0m\u001B[37m\u001B[0m \u001B[1m10s\u001B[0m 1s/step - accuracy: 1.0000 - loss: 1.8550e-05 - val_accuracy: 0.4062 - val_loss: 3.7894\n",
      "Epoch 50/50\n",
      "\u001B[1m8/8\u001B[0m \u001B[32m━━━━━━━━━━━━━━━━━━━━\u001B[0m\u001B[37m\u001B[0m \u001B[1m9s\u001B[0m 1s/step - accuracy: 1.0000 - loss: 2.0213e-05 - val_accuracy: 0.4375 - val_loss: 3.4834\n"
     ]
    }
   ],
   "source": [
    "# Step 5: Train the Model\n",
    "history = model.fit(\n",
    "    train_generator,\n",
    "    steps_per_epoch = len(train_generator) // batch_size,\n",
    "    epochs=50,  # Number of epochs to train for\n",
    "    validation_data=validation_generator,\n",
    "    validation_steps=validation_generator.samples // batch_size\n",
    ")"
   ],
   "metadata": {
    "collapsed": false,
    "ExecuteTime": {
     "end_time": "2024-12-05T08:46:00.507180Z",
     "start_time": "2024-12-05T08:37:57.349778Z"
    }
   },
   "id": "92261b90e1280ca1"
  },
  {
   "cell_type": "code",
   "execution_count": 25,
   "outputs": [
    {
     "name": "stderr",
     "output_type": "stream",
     "text": [
      "WARNING:absl:You are saving your model as an HDF5 file via `model.save()` or `keras.saving.save_model(model)`. This file format is considered legacy. We recommend using instead the native Keras format, e.g. `model.save('my_model.keras')` or `keras.saving.save_model(model, 'my_model.keras')`. \n"
     ]
    }
   ],
   "source": [
    "# Step 6: Save the trained model\n",
    "model.save('task_cnn_model.h5')"
   ],
   "metadata": {
    "collapsed": false,
    "ExecuteTime": {
     "end_time": "2024-12-05T08:46:08.579196Z",
     "start_time": "2024-12-05T08:46:08.471917Z"
    }
   },
   "id": "7d48185c32568ccf"
  },
  {
   "cell_type": "code",
   "execution_count": 14,
   "outputs": [
    {
     "name": "stderr",
     "output_type": "stream",
     "text": [
      "/Users/daikexin/pythonProject/venv/lib/python3.12/site-packages/keras/src/trainers/data_adapters/py_dataset_adapter.py:121: UserWarning: Your `PyDataset` class should call `super().__init__(**kwargs)` in its constructor. `**kwargs` can include `workers`, `use_multiprocessing`, `max_queue_size`. Do not pass these arguments to `fit()`, as they will be ignored.\n",
      "  self._warn_if_super_not_called()\n"
     ]
    },
    {
     "name": "stdout",
     "output_type": "stream",
     "text": [
      "Epoch 1/50\n",
      "\u001B[1m8/8\u001B[0m \u001B[32m━━━━━━━━━━━━━━━━━━━━\u001B[0m\u001B[37m\u001B[0m \u001B[1m10s\u001B[0m 1s/step - accuracy: 0.2867 - loss: 1.1256 - val_accuracy: 0.2812 - val_loss: 1.1042\n",
      "Epoch 2/50\n",
      "\u001B[1m8/8\u001B[0m \u001B[32m━━━━━━━━━━━━━━━━━━━━\u001B[0m\u001B[37m\u001B[0m \u001B[1m9s\u001B[0m 1s/step - accuracy: 0.3448 - loss: 1.1076 - val_accuracy: 0.3125 - val_loss: 1.1027\n",
      "Epoch 3/50\n",
      "\u001B[1m8/8\u001B[0m \u001B[32m━━━━━━━━━━━━━━━━━━━━\u001B[0m\u001B[37m\u001B[0m \u001B[1m8s\u001B[0m 991ms/step - accuracy: 0.3648 - loss: 1.0920 - val_accuracy: 0.2812 - val_loss: 1.1006\n",
      "Epoch 4/50\n",
      "\u001B[1m8/8\u001B[0m \u001B[32m━━━━━━━━━━━━━━━━━━━━\u001B[0m\u001B[37m\u001B[0m \u001B[1m8s\u001B[0m 983ms/step - accuracy: 0.3064 - loss: 1.1094 - val_accuracy: 0.3750 - val_loss: 1.0924\n",
      "Epoch 5/50\n",
      "\u001B[1m8/8\u001B[0m \u001B[32m━━━━━━━━━━━━━━━━━━━━\u001B[0m\u001B[37m\u001B[0m \u001B[1m8s\u001B[0m 968ms/step - accuracy: 0.2892 - loss: 1.1052 - val_accuracy: 0.3750 - val_loss: 1.0920\n",
      "Epoch 6/50\n",
      "\u001B[1m8/8\u001B[0m \u001B[32m━━━━━━━━━━━━━━━━━━━━\u001B[0m\u001B[37m\u001B[0m \u001B[1m8s\u001B[0m 1s/step - accuracy: 0.3551 - loss: 1.0989 - val_accuracy: 0.3125 - val_loss: 1.1015\n",
      "Epoch 7/50\n",
      "\u001B[1m8/8\u001B[0m \u001B[32m━━━━━━━━━━━━━━━━━━━━\u001B[0m\u001B[37m\u001B[0m \u001B[1m8s\u001B[0m 962ms/step - accuracy: 0.3342 - loss: 1.0940 - val_accuracy: 0.4375 - val_loss: 1.0983\n",
      "Epoch 8/50\n",
      "\u001B[1m8/8\u001B[0m \u001B[32m━━━━━━━━━━━━━━━━━━━━\u001B[0m\u001B[37m\u001B[0m \u001B[1m8s\u001B[0m 953ms/step - accuracy: 0.3588 - loss: 1.0922 - val_accuracy: 0.4688 - val_loss: 1.0950\n",
      "Epoch 9/50\n",
      "\u001B[1m8/8\u001B[0m \u001B[32m━━━━━━━━━━━━━━━━━━━━\u001B[0m\u001B[37m\u001B[0m \u001B[1m8s\u001B[0m 978ms/step - accuracy: 0.4343 - loss: 1.0887 - val_accuracy: 0.3438 - val_loss: 1.0993\n",
      "Epoch 10/50\n",
      "\u001B[1m8/8\u001B[0m \u001B[32m━━━━━━━━━━━━━━━━━━━━\u001B[0m\u001B[37m\u001B[0m \u001B[1m9s\u001B[0m 1s/step - accuracy: 0.4602 - loss: 1.0866 - val_accuracy: 0.4688 - val_loss: 1.0953\n",
      "Epoch 11/50\n",
      "\u001B[1m8/8\u001B[0m \u001B[32m━━━━━━━━━━━━━━━━━━━━\u001B[0m\u001B[37m\u001B[0m \u001B[1m8s\u001B[0m 956ms/step - accuracy: 0.3794 - loss: 1.0894 - val_accuracy: 0.4062 - val_loss: 1.0898\n",
      "Epoch 12/50\n",
      "\u001B[1m8/8\u001B[0m \u001B[32m━━━━━━━━━━━━━━━━━━━━\u001B[0m\u001B[37m\u001B[0m \u001B[1m9s\u001B[0m 1s/step - accuracy: 0.4592 - loss: 1.0808 - val_accuracy: 0.3750 - val_loss: 1.0961\n",
      "Epoch 13/50\n",
      "\u001B[1m8/8\u001B[0m \u001B[32m━━━━━━━━━━━━━━━━━━━━\u001B[0m\u001B[37m\u001B[0m \u001B[1m9s\u001B[0m 1s/step - accuracy: 0.4193 - loss: 1.0827 - val_accuracy: 0.2812 - val_loss: 1.1000\n",
      "Epoch 14/50\n",
      "\u001B[1m8/8\u001B[0m \u001B[32m━━━━━━━━━━━━━━━━━━━━\u001B[0m\u001B[37m\u001B[0m \u001B[1m9s\u001B[0m 1s/step - accuracy: 0.3710 - loss: 1.0865 - val_accuracy: 0.3438 - val_loss: 1.0942\n",
      "Epoch 15/50\n",
      "\u001B[1m8/8\u001B[0m \u001B[32m━━━━━━━━━━━━━━━━━━━━\u001B[0m\u001B[37m\u001B[0m \u001B[1m9s\u001B[0m 1s/step - accuracy: 0.4921 - loss: 1.0664 - val_accuracy: 0.4062 - val_loss: 1.0964\n",
      "Epoch 16/50\n",
      "\u001B[1m8/8\u001B[0m \u001B[32m━━━━━━━━━━━━━━━━━━━━\u001B[0m\u001B[37m\u001B[0m \u001B[1m8s\u001B[0m 1s/step - accuracy: 0.5378 - loss: 1.0618 - val_accuracy: 0.4375 - val_loss: 1.0926\n",
      "Epoch 17/50\n",
      "\u001B[1m8/8\u001B[0m \u001B[32m━━━━━━━━━━━━━━━━━━━━\u001B[0m\u001B[37m\u001B[0m \u001B[1m9s\u001B[0m 1s/step - accuracy: 0.4312 - loss: 1.0699 - val_accuracy: 0.4688 - val_loss: 1.0898\n",
      "Epoch 18/50\n",
      "\u001B[1m8/8\u001B[0m \u001B[32m━━━━━━━━━━━━━━━━━━━━\u001B[0m\u001B[37m\u001B[0m \u001B[1m9s\u001B[0m 997ms/step - accuracy: 0.4792 - loss: 1.0604 - val_accuracy: 0.3750 - val_loss: 1.0879\n",
      "Epoch 19/50\n",
      "\u001B[1m8/8\u001B[0m \u001B[32m━━━━━━━━━━━━━━━━━━━━\u001B[0m\u001B[37m\u001B[0m \u001B[1m9s\u001B[0m 1s/step - accuracy: 0.4862 - loss: 1.0508 - val_accuracy: 0.4062 - val_loss: 1.0733\n",
      "Epoch 20/50\n",
      "\u001B[1m8/8\u001B[0m \u001B[32m━━━━━━━━━━━━━━━━━━━━\u001B[0m\u001B[37m\u001B[0m \u001B[1m8s\u001B[0m 950ms/step - accuracy: 0.5161 - loss: 1.0392 - val_accuracy: 0.3750 - val_loss: 1.0859\n",
      "Epoch 21/50\n",
      "\u001B[1m8/8\u001B[0m \u001B[32m━━━━━━━━━━━━━━━━━━━━\u001B[0m\u001B[37m\u001B[0m \u001B[1m8s\u001B[0m 973ms/step - accuracy: 0.5056 - loss: 1.0390 - val_accuracy: 0.4062 - val_loss: 1.0729\n",
      "Epoch 22/50\n",
      "\u001B[1m8/8\u001B[0m \u001B[32m━━━━━━━━━━━━━━━━━━━━\u001B[0m\u001B[37m\u001B[0m \u001B[1m8s\u001B[0m 972ms/step - accuracy: 0.5358 - loss: 1.0074 - val_accuracy: 0.4375 - val_loss: 1.0761\n",
      "Epoch 23/50\n",
      "\u001B[1m8/8\u001B[0m \u001B[32m━━━━━━━━━━━━━━━━━━━━\u001B[0m\u001B[37m\u001B[0m \u001B[1m8s\u001B[0m 971ms/step - accuracy: 0.5652 - loss: 1.0001 - val_accuracy: 0.4062 - val_loss: 1.0926\n",
      "Epoch 24/50\n",
      "\u001B[1m8/8\u001B[0m \u001B[32m━━━━━━━━━━━━━━━━━━━━\u001B[0m\u001B[37m\u001B[0m \u001B[1m8s\u001B[0m 1s/step - accuracy: 0.6107 - loss: 0.9672 - val_accuracy: 0.4688 - val_loss: 1.0626\n",
      "Epoch 25/50\n",
      "\u001B[1m8/8\u001B[0m \u001B[32m━━━━━━━━━━━━━━━━━━━━\u001B[0m\u001B[37m\u001B[0m \u001B[1m8s\u001B[0m 997ms/step - accuracy: 0.5605 - loss: 0.9884 - val_accuracy: 0.3750 - val_loss: 1.0753\n",
      "Epoch 26/50\n",
      "\u001B[1m8/8\u001B[0m \u001B[32m━━━━━━━━━━━━━━━━━━━━\u001B[0m\u001B[37m\u001B[0m \u001B[1m9s\u001B[0m 1s/step - accuracy: 0.6030 - loss: 0.9421 - val_accuracy: 0.3438 - val_loss: 1.0617\n",
      "Epoch 27/50\n",
      "\u001B[1m8/8\u001B[0m \u001B[32m━━━━━━━━━━━━━━━━━━━━\u001B[0m\u001B[37m\u001B[0m \u001B[1m9s\u001B[0m 1s/step - accuracy: 0.5635 - loss: 0.9063 - val_accuracy: 0.4375 - val_loss: 1.0660\n",
      "Epoch 28/50\n",
      "\u001B[1m8/8\u001B[0m \u001B[32m━━━━━━━━━━━━━━━━━━━━\u001B[0m\u001B[37m\u001B[0m \u001B[1m9s\u001B[0m 1s/step - accuracy: 0.6203 - loss: 0.8856 - val_accuracy: 0.4062 - val_loss: 1.1101\n",
      "Epoch 29/50\n",
      "\u001B[1m8/8\u001B[0m \u001B[32m━━━━━━━━━━━━━━━━━━━━\u001B[0m\u001B[37m\u001B[0m \u001B[1m9s\u001B[0m 1s/step - accuracy: 0.6259 - loss: 0.8781 - val_accuracy: 0.4688 - val_loss: 1.0074\n",
      "Epoch 30/50\n",
      "\u001B[1m8/8\u001B[0m \u001B[32m━━━━━━━━━━━━━━━━━━━━\u001B[0m\u001B[37m\u001B[0m \u001B[1m8s\u001B[0m 1s/step - accuracy: 0.6459 - loss: 0.8388 - val_accuracy: 0.5000 - val_loss: 0.9990\n",
      "Epoch 31/50\n",
      "\u001B[1m8/8\u001B[0m \u001B[32m━━━━━━━━━━━━━━━━━━━━\u001B[0m\u001B[37m\u001B[0m \u001B[1m9s\u001B[0m 1s/step - accuracy: 0.6531 - loss: 0.7995 - val_accuracy: 0.4375 - val_loss: 1.0358\n",
      "Epoch 32/50\n",
      "\u001B[1m8/8\u001B[0m \u001B[32m━━━━━━━━━━━━━━━━━━━━\u001B[0m\u001B[37m\u001B[0m \u001B[1m8s\u001B[0m 1s/step - accuracy: 0.7208 - loss: 0.7569 - val_accuracy: 0.4688 - val_loss: 0.9704\n",
      "Epoch 33/50\n",
      "\u001B[1m8/8\u001B[0m \u001B[32m━━━━━━━━━━━━━━━━━━━━\u001B[0m\u001B[37m\u001B[0m \u001B[1m9s\u001B[0m 1s/step - accuracy: 0.7984 - loss: 0.6953 - val_accuracy: 0.4062 - val_loss: 1.0192\n",
      "Epoch 34/50\n",
      "\u001B[1m8/8\u001B[0m \u001B[32m━━━━━━━━━━━━━━━━━━━━\u001B[0m\u001B[37m\u001B[0m \u001B[1m10s\u001B[0m 1s/step - accuracy: 0.6981 - loss: 0.7553 - val_accuracy: 0.5000 - val_loss: 0.9539\n",
      "Epoch 35/50\n",
      "\u001B[1m8/8\u001B[0m \u001B[32m━━━━━━━━━━━━━━━━━━━━\u001B[0m\u001B[37m\u001B[0m \u001B[1m10s\u001B[0m 1s/step - accuracy: 0.7880 - loss: 0.6440 - val_accuracy: 0.3750 - val_loss: 1.1406\n",
      "Epoch 36/50\n",
      "\u001B[1m8/8\u001B[0m \u001B[32m━━━━━━━━━━━━━━━━━━━━\u001B[0m\u001B[37m\u001B[0m \u001B[1m8s\u001B[0m 991ms/step - accuracy: 0.7633 - loss: 0.6427 - val_accuracy: 0.4062 - val_loss: 1.0121\n",
      "Epoch 37/50\n",
      "\u001B[1m8/8\u001B[0m \u001B[32m━━━━━━━━━━━━━━━━━━━━\u001B[0m\u001B[37m\u001B[0m \u001B[1m8s\u001B[0m 978ms/step - accuracy: 0.8250 - loss: 0.5984 - val_accuracy: 0.5000 - val_loss: 0.9992\n",
      "Epoch 38/50\n",
      "\u001B[1m8/8\u001B[0m \u001B[32m━━━━━━━━━━━━━━━━━━━━\u001B[0m\u001B[37m\u001B[0m \u001B[1m8s\u001B[0m 977ms/step - accuracy: 0.8335 - loss: 0.5604 - val_accuracy: 0.4375 - val_loss: 1.1089\n",
      "Epoch 39/50\n",
      "\u001B[1m8/8\u001B[0m \u001B[32m━━━━━━━━━━━━━━━━━━━━\u001B[0m\u001B[37m\u001B[0m \u001B[1m8s\u001B[0m 991ms/step - accuracy: 0.7913 - loss: 0.5275 - val_accuracy: 0.4375 - val_loss: 1.0638\n",
      "Epoch 40/50\n",
      "\u001B[1m8/8\u001B[0m \u001B[32m━━━━━━━━━━━━━━━━━━━━\u001B[0m\u001B[37m\u001B[0m \u001B[1m8s\u001B[0m 1s/step - accuracy: 0.8484 - loss: 0.4676 - val_accuracy: 0.4688 - val_loss: 0.9781\n",
      "Epoch 41/50\n",
      "\u001B[1m8/8\u001B[0m \u001B[32m━━━━━━━━━━━━━━━━━━━━\u001B[0m\u001B[37m\u001B[0m \u001B[1m9s\u001B[0m 1s/step - accuracy: 0.8669 - loss: 0.4400 - val_accuracy: 0.5000 - val_loss: 0.9692\n",
      "Epoch 42/50\n",
      "\u001B[1m8/8\u001B[0m \u001B[32m━━━━━━━━━━━━━━━━━━━━\u001B[0m\u001B[37m\u001B[0m \u001B[1m8s\u001B[0m 977ms/step - accuracy: 0.9093 - loss: 0.3956 - val_accuracy: 0.4062 - val_loss: 0.9836\n",
      "Epoch 43/50\n",
      "\u001B[1m8/8\u001B[0m \u001B[32m━━━━━━━━━━━━━━━━━━━━\u001B[0m\u001B[37m\u001B[0m \u001B[1m8s\u001B[0m 982ms/step - accuracy: 0.9485 - loss: 0.3030 - val_accuracy: 0.5938 - val_loss: 0.9477\n",
      "Epoch 44/50\n",
      "\u001B[1m8/8\u001B[0m \u001B[32m━━━━━━━━━━━━━━━━━━━━\u001B[0m\u001B[37m\u001B[0m \u001B[1m8s\u001B[0m 991ms/step - accuracy: 0.9425 - loss: 0.2809 - val_accuracy: 0.6250 - val_loss: 0.7051\n",
      "Epoch 45/50\n",
      "\u001B[1m8/8\u001B[0m \u001B[32m━━━━━━━━━━━━━━━━━━━━\u001B[0m\u001B[37m\u001B[0m \u001B[1m8s\u001B[0m 990ms/step - accuracy: 0.9737 - loss: 0.2447 - val_accuracy: 0.3125 - val_loss: 1.1636\n",
      "Epoch 46/50\n",
      "\u001B[1m8/8\u001B[0m \u001B[32m━━━━━━━━━━━━━━━━━━━━\u001B[0m\u001B[37m\u001B[0m \u001B[1m8s\u001B[0m 1s/step - accuracy: 0.9544 - loss: 0.2461 - val_accuracy: 0.4062 - val_loss: 1.1127\n",
      "Epoch 47/50\n",
      "\u001B[1m8/8\u001B[0m \u001B[32m━━━━━━━━━━━━━━━━━━━━\u001B[0m\u001B[37m\u001B[0m \u001B[1m8s\u001B[0m 978ms/step - accuracy: 0.9771 - loss: 0.2086 - val_accuracy: 0.4688 - val_loss: 1.0029\n",
      "Epoch 48/50\n",
      "\u001B[1m8/8\u001B[0m \u001B[32m━━━━━━━━━━━━━━━━━━━━\u001B[0m\u001B[37m\u001B[0m \u001B[1m8s\u001B[0m 971ms/step - accuracy: 0.9822 - loss: 0.1773 - val_accuracy: 0.5625 - val_loss: 1.0510\n",
      "Epoch 49/50\n",
      "\u001B[1m8/8\u001B[0m \u001B[32m━━━━━━━━━━━━━━━━━━━━\u001B[0m\u001B[37m\u001B[0m \u001B[1m8s\u001B[0m 974ms/step - accuracy: 0.9697 - loss: 0.1940 - val_accuracy: 0.5938 - val_loss: 1.0238\n",
      "Epoch 50/50\n",
      "\u001B[1m8/8\u001B[0m \u001B[32m━━━━━━━━━━━━━━━━━━━━\u001B[0m\u001B[37m\u001B[0m \u001B[1m9s\u001B[0m 1s/step - accuracy: 0.9766 - loss: 0.1573 - val_accuracy: 0.5625 - val_loss: 1.3180\n"
     ]
    }
   ],
   "source": [
    "# Step 7: Evaluate the Model \n",
    "test_loss, test_acc = model.evaluate(validation_generator)\n",
    "print(f\"Test Accuracy: {test_acc * 100:.2f}%\")"
   ],
   "metadata": {
    "collapsed": false,
    "ExecuteTime": {
     "end_time": "2024-12-05T14:02:32.382918Z",
     "start_time": "2024-12-05T13:55:24.998238Z"
    }
   },
   "id": "a433f985e7486aaf"
  },
  {
   "cell_type": "code",
   "execution_count": null,
   "outputs": [],
   "source": [],
   "metadata": {
    "collapsed": false,
    "ExecuteTime": {
     "start_time": "2024-12-04T15:15:57.716089Z"
    }
   },
   "id": "aa10331aa495f270"
  }
 ],
 "metadata": {
  "kernelspec": {
   "display_name": "Python 3",
   "language": "python",
   "name": "python3"
  },
  "language_info": {
   "codemirror_mode": {
    "name": "ipython",
    "version": 2
   },
   "file_extension": ".py",
   "mimetype": "text/x-python",
   "name": "python",
   "nbconvert_exporter": "python",
   "pygments_lexer": "ipython2",
   "version": "2.7.6"
  }
 },
 "nbformat": 4,
 "nbformat_minor": 5
}
