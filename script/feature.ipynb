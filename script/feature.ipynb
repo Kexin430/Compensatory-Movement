{
 "cells": [
  {
   "cell_type": "code",
   "execution_count": 108,
   "id": "initial_id",
   "metadata": {
    "collapsed": true,
    "ExecuteTime": {
     "end_time": "2024-12-05T20:31:57.124897Z",
     "start_time": "2024-12-05T20:31:57.085293Z"
    }
   },
   "outputs": [],
   "source": [
    "import pandas as pd\n",
    "import numpy as np\n",
    "import matplotlib.pyplot as plt\n",
    "import seaborn as sns"
   ]
  },
  {
   "cell_type": "code",
   "execution_count": 110,
   "outputs": [],
   "source": [
    "from sklearn.preprocessing import OneHotEncoder, LabelEncoder\n",
    "from sklearn.metrics import accuracy_score, classification_report, confusion_matrix\n",
    "from scipy.stats import skew, kurtosis\n",
    "from scipy.signal import find_peaks, welch\n",
    "from sklearn.model_selection import train_test_split, cross_val_score\n",
    "from sklearn.ensemble import RandomForestClassifier, GradientBoostingClassifier\n",
    "from sklearn.preprocessing import StandardScaler\n",
    "from sklearn.model_selection import RandomizedSearchCV\n",
    "from sklearn.model_selection import GridSearchCV\n",
    "from sklearn.svm import SVC\n",
    "from sklearn.neural_network import MLPClassifier\n",
    "from sklearn.linear_model import LogisticRegression\n",
    "from sklearn.metrics import classification_report, accuracy_score\n",
    "from scipy.fftpack import fft"
   ],
   "metadata": {
    "collapsed": false,
    "ExecuteTime": {
     "end_time": "2024-12-05T20:37:58.819930Z",
     "start_time": "2024-12-05T20:37:58.764108Z"
    }
   },
   "id": "d8db9d3504e43ba8"
  },
  {
   "cell_type": "code",
   "execution_count": 2,
   "outputs": [],
   "source": [
    "data_path = \"../data\""
   ],
   "metadata": {
    "collapsed": false,
    "ExecuteTime": {
     "end_time": "2024-12-05T13:23:14.098968Z",
     "start_time": "2024-12-05T13:23:14.090939Z"
    }
   },
   "id": "b030e5d0b3c89bd5"
  },
  {
   "cell_type": "code",
   "execution_count": 70,
   "outputs": [],
   "source": [
    "imu_df=pd.read_csv(f'{data_path}/imu.csv')"
   ],
   "metadata": {
    "collapsed": false,
    "ExecuteTime": {
     "end_time": "2024-12-05T19:59:46.160404Z",
     "start_time": "2024-12-05T19:59:43.439106Z"
    }
   },
   "id": "2f90c958b17c29c7"
  },
  {
   "cell_type": "code",
   "execution_count": 71,
   "outputs": [
    {
     "data": {
      "text/plain": "  participant body_part condition        task  \\\n0        P_02     arm_l   natural  Cupplacing   \n1        P_02     arm_l   natural  Cupplacing   \n2        P_02     arm_l   natural  Cupplacing   \n3        P_02     arm_l   natural  Cupplacing   \n4        P_02     arm_l   natural  Cupplacing   \n\n                                           file_path  PacketCounter  \\\n0  /Users/daikexin/pythonProject/CompensatoryMove...              0   \n1  /Users/daikexin/pythonProject/CompensatoryMove...              1   \n2  /Users/daikexin/pythonProject/CompensatoryMove...              2   \n3  /Users/daikexin/pythonProject/CompensatoryMove...              3   \n4  /Users/daikexin/pythonProject/CompensatoryMove...              4   \n\n        SampleTimeFine    Quat_W    Quat_X    Quat_Y  ...     Acc_X     Acc_Y  \\\n0  1970-01-01 21:07:25 -0.736210  0.183717  0.638716  ...  0.000000  0.000000   \n1  1970-01-02 01:45:12 -0.736222  0.183720  0.638712  ...  9.708877 -1.067807   \n2  1970-01-02 06:22:59 -0.736170  0.183847  0.638716  ...  9.700046 -1.093796   \n3  1970-01-02 11:00:46 -0.736107  0.183970  0.638727  ...  9.719351 -1.097965   \n4  1970-01-02 15:38:33 -0.736076  0.183974  0.638764  ...  9.745931 -1.099311   \n\n      Acc_Z     Gyr_X     Gyr_Y     Gyr_Z     Mag_X     Mag_Y     Mag_Z  \\\n0  0.000000  0.000000  0.000000  0.000000 -0.262207  0.231201 -0.031738   \n1  1.129502 -1.429176  0.690589  0.529434 -0.262695  0.232666 -0.031250   \n2  1.111337 -1.696598  0.339913  0.393840 -0.263672  0.232178 -0.031250   \n3  1.145534 -1.721801  0.291210  0.197749 -0.262207  0.233643 -0.032959   \n4  1.121240 -1.277600  0.308383  0.286817 -0.260254  0.232666 -0.030273   \n\n   Unnamed: 15  \n0               \n1               \n2               \n3               \n4               \n\n[5 rows x 21 columns]",
      "text/html": "<div>\n<style scoped>\n    .dataframe tbody tr th:only-of-type {\n        vertical-align: middle;\n    }\n\n    .dataframe tbody tr th {\n        vertical-align: top;\n    }\n\n    .dataframe thead th {\n        text-align: right;\n    }\n</style>\n<table border=\"1\" class=\"dataframe\">\n  <thead>\n    <tr style=\"text-align: right;\">\n      <th></th>\n      <th>participant</th>\n      <th>body_part</th>\n      <th>condition</th>\n      <th>task</th>\n      <th>file_path</th>\n      <th>PacketCounter</th>\n      <th>SampleTimeFine</th>\n      <th>Quat_W</th>\n      <th>Quat_X</th>\n      <th>Quat_Y</th>\n      <th>...</th>\n      <th>Acc_X</th>\n      <th>Acc_Y</th>\n      <th>Acc_Z</th>\n      <th>Gyr_X</th>\n      <th>Gyr_Y</th>\n      <th>Gyr_Z</th>\n      <th>Mag_X</th>\n      <th>Mag_Y</th>\n      <th>Mag_Z</th>\n      <th>Unnamed: 15</th>\n    </tr>\n  </thead>\n  <tbody>\n    <tr>\n      <th>0</th>\n      <td>P_02</td>\n      <td>arm_l</td>\n      <td>natural</td>\n      <td>Cupplacing</td>\n      <td>/Users/daikexin/pythonProject/CompensatoryMove...</td>\n      <td>0</td>\n      <td>1970-01-01 21:07:25</td>\n      <td>-0.736210</td>\n      <td>0.183717</td>\n      <td>0.638716</td>\n      <td>...</td>\n      <td>0.000000</td>\n      <td>0.000000</td>\n      <td>0.000000</td>\n      <td>0.000000</td>\n      <td>0.000000</td>\n      <td>0.000000</td>\n      <td>-0.262207</td>\n      <td>0.231201</td>\n      <td>-0.031738</td>\n      <td></td>\n    </tr>\n    <tr>\n      <th>1</th>\n      <td>P_02</td>\n      <td>arm_l</td>\n      <td>natural</td>\n      <td>Cupplacing</td>\n      <td>/Users/daikexin/pythonProject/CompensatoryMove...</td>\n      <td>1</td>\n      <td>1970-01-02 01:45:12</td>\n      <td>-0.736222</td>\n      <td>0.183720</td>\n      <td>0.638712</td>\n      <td>...</td>\n      <td>9.708877</td>\n      <td>-1.067807</td>\n      <td>1.129502</td>\n      <td>-1.429176</td>\n      <td>0.690589</td>\n      <td>0.529434</td>\n      <td>-0.262695</td>\n      <td>0.232666</td>\n      <td>-0.031250</td>\n      <td></td>\n    </tr>\n    <tr>\n      <th>2</th>\n      <td>P_02</td>\n      <td>arm_l</td>\n      <td>natural</td>\n      <td>Cupplacing</td>\n      <td>/Users/daikexin/pythonProject/CompensatoryMove...</td>\n      <td>2</td>\n      <td>1970-01-02 06:22:59</td>\n      <td>-0.736170</td>\n      <td>0.183847</td>\n      <td>0.638716</td>\n      <td>...</td>\n      <td>9.700046</td>\n      <td>-1.093796</td>\n      <td>1.111337</td>\n      <td>-1.696598</td>\n      <td>0.339913</td>\n      <td>0.393840</td>\n      <td>-0.263672</td>\n      <td>0.232178</td>\n      <td>-0.031250</td>\n      <td></td>\n    </tr>\n    <tr>\n      <th>3</th>\n      <td>P_02</td>\n      <td>arm_l</td>\n      <td>natural</td>\n      <td>Cupplacing</td>\n      <td>/Users/daikexin/pythonProject/CompensatoryMove...</td>\n      <td>3</td>\n      <td>1970-01-02 11:00:46</td>\n      <td>-0.736107</td>\n      <td>0.183970</td>\n      <td>0.638727</td>\n      <td>...</td>\n      <td>9.719351</td>\n      <td>-1.097965</td>\n      <td>1.145534</td>\n      <td>-1.721801</td>\n      <td>0.291210</td>\n      <td>0.197749</td>\n      <td>-0.262207</td>\n      <td>0.233643</td>\n      <td>-0.032959</td>\n      <td></td>\n    </tr>\n    <tr>\n      <th>4</th>\n      <td>P_02</td>\n      <td>arm_l</td>\n      <td>natural</td>\n      <td>Cupplacing</td>\n      <td>/Users/daikexin/pythonProject/CompensatoryMove...</td>\n      <td>4</td>\n      <td>1970-01-02 15:38:33</td>\n      <td>-0.736076</td>\n      <td>0.183974</td>\n      <td>0.638764</td>\n      <td>...</td>\n      <td>9.745931</td>\n      <td>-1.099311</td>\n      <td>1.121240</td>\n      <td>-1.277600</td>\n      <td>0.308383</td>\n      <td>0.286817</td>\n      <td>-0.260254</td>\n      <td>0.232666</td>\n      <td>-0.030273</td>\n      <td></td>\n    </tr>\n  </tbody>\n</table>\n<p>5 rows × 21 columns</p>\n</div>"
     },
     "execution_count": 71,
     "metadata": {},
     "output_type": "execute_result"
    }
   ],
   "source": [
    "imu_df.head()"
   ],
   "metadata": {
    "collapsed": false,
    "ExecuteTime": {
     "end_time": "2024-12-05T19:59:51.595148Z",
     "start_time": "2024-12-05T19:59:51.562274Z"
    }
   },
   "id": "b67adf3109b83359"
  },
  {
   "cell_type": "code",
   "execution_count": 72,
   "outputs": [],
   "source": [
    "data=imu_df.drop(columns=[\"file_path\", \"SampleTimeFine\", \"Unnamed: 15\"])"
   ],
   "metadata": {
    "collapsed": false,
    "ExecuteTime": {
     "end_time": "2024-12-05T19:59:54.314605Z",
     "start_time": "2024-12-05T19:59:54.233015Z"
    }
   },
   "id": "96c0339252262898"
  },
  {
   "cell_type": "code",
   "execution_count": 73,
   "outputs": [
    {
     "data": {
      "text/plain": "Index(['participant', 'body_part', 'condition', 'task', 'PacketCounter',\n       'Quat_W', 'Quat_X', 'Quat_Y', 'Quat_Z', 'Acc_X', 'Acc_Y', 'Acc_Z',\n       'Gyr_X', 'Gyr_Y', 'Gyr_Z', 'Mag_X', 'Mag_Y', 'Mag_Z'],\n      dtype='object')"
     },
     "execution_count": 73,
     "metadata": {},
     "output_type": "execute_result"
    }
   ],
   "source": [
    "data.columns"
   ],
   "metadata": {
    "collapsed": false,
    "ExecuteTime": {
     "end_time": "2024-12-05T19:59:59.093627Z",
     "start_time": "2024-12-05T19:59:59.048941Z"
    }
   },
   "id": "f2e641befcb84be5"
  },
  {
   "cell_type": "markdown",
   "source": [
    "Feature extraction"
   ],
   "metadata": {
    "collapsed": false
   },
   "id": "ba0e3f8c64bdfd75"
  },
  {
   "cell_type": "code",
   "execution_count": 74,
   "outputs": [
    {
     "data": {
      "text/plain": "    participant body_part        task condition  PacketCounter\n0          P_02     arm_l  Cupplacing      comp           3180\n1          P_02     arm_l  Cupplacing   comp_WE           3184\n2          P_02     arm_l  Cupplacing   natural           3412\n3          P_02     arm_l         Pin      comp           3068\n4          P_02     arm_l         Pin   comp_WE           2723\n..          ...       ...         ...       ...            ...\n295        P_06   wrist_r     Pouring   comp_WE           2047\n296        P_06   wrist_r     Pouring   natural           2695\n297        P_06   wrist_r      Wiping      comp           1714\n298        P_06   wrist_r      Wiping   comp_WE           1244\n299        P_06   wrist_r      Wiping   natural           1654\n\n[300 rows x 5 columns]",
      "text/html": "<div>\n<style scoped>\n    .dataframe tbody tr th:only-of-type {\n        vertical-align: middle;\n    }\n\n    .dataframe tbody tr th {\n        vertical-align: top;\n    }\n\n    .dataframe thead th {\n        text-align: right;\n    }\n</style>\n<table border=\"1\" class=\"dataframe\">\n  <thead>\n    <tr style=\"text-align: right;\">\n      <th></th>\n      <th>participant</th>\n      <th>body_part</th>\n      <th>task</th>\n      <th>condition</th>\n      <th>PacketCounter</th>\n    </tr>\n  </thead>\n  <tbody>\n    <tr>\n      <th>0</th>\n      <td>P_02</td>\n      <td>arm_l</td>\n      <td>Cupplacing</td>\n      <td>comp</td>\n      <td>3180</td>\n    </tr>\n    <tr>\n      <th>1</th>\n      <td>P_02</td>\n      <td>arm_l</td>\n      <td>Cupplacing</td>\n      <td>comp_WE</td>\n      <td>3184</td>\n    </tr>\n    <tr>\n      <th>2</th>\n      <td>P_02</td>\n      <td>arm_l</td>\n      <td>Cupplacing</td>\n      <td>natural</td>\n      <td>3412</td>\n    </tr>\n    <tr>\n      <th>3</th>\n      <td>P_02</td>\n      <td>arm_l</td>\n      <td>Pin</td>\n      <td>comp</td>\n      <td>3068</td>\n    </tr>\n    <tr>\n      <th>4</th>\n      <td>P_02</td>\n      <td>arm_l</td>\n      <td>Pin</td>\n      <td>comp_WE</td>\n      <td>2723</td>\n    </tr>\n    <tr>\n      <th>...</th>\n      <td>...</td>\n      <td>...</td>\n      <td>...</td>\n      <td>...</td>\n      <td>...</td>\n    </tr>\n    <tr>\n      <th>295</th>\n      <td>P_06</td>\n      <td>wrist_r</td>\n      <td>Pouring</td>\n      <td>comp_WE</td>\n      <td>2047</td>\n    </tr>\n    <tr>\n      <th>296</th>\n      <td>P_06</td>\n      <td>wrist_r</td>\n      <td>Pouring</td>\n      <td>natural</td>\n      <td>2695</td>\n    </tr>\n    <tr>\n      <th>297</th>\n      <td>P_06</td>\n      <td>wrist_r</td>\n      <td>Wiping</td>\n      <td>comp</td>\n      <td>1714</td>\n    </tr>\n    <tr>\n      <th>298</th>\n      <td>P_06</td>\n      <td>wrist_r</td>\n      <td>Wiping</td>\n      <td>comp_WE</td>\n      <td>1244</td>\n    </tr>\n    <tr>\n      <th>299</th>\n      <td>P_06</td>\n      <td>wrist_r</td>\n      <td>Wiping</td>\n      <td>natural</td>\n      <td>1654</td>\n    </tr>\n  </tbody>\n</table>\n<p>300 rows × 5 columns</p>\n</div>"
     },
     "execution_count": 74,
     "metadata": {},
     "output_type": "execute_result"
    }
   ],
   "source": [
    "# Group by relevant columns and find the max PacketCounter for each group\n",
    "max_packet_counters = data.groupby(['participant', 'body_part', 'task', 'condition'])['PacketCounter'].max().reset_index()\n",
    "max_packet_counters"
   ],
   "metadata": {
    "collapsed": false,
    "ExecuteTime": {
     "end_time": "2024-12-05T20:02:22.924654Z",
     "start_time": "2024-12-05T20:02:22.744963Z"
    }
   },
   "id": "9ebf20010fd12c76"
  },
  {
   "cell_type": "code",
   "execution_count": 69,
   "outputs": [],
   "source": [
    "# Define a function to compute features for a group\n",
    "def compute_features(group):\n",
    "    features = {}\n",
    "    \n",
    "    # Time-domain features\n",
    "    for col in ['Quat_W', 'Quat_X', 'Quat_Y', 'Quat_Z', \n",
    "                'Acc_X', 'Acc_Y', 'Acc_Z', \n",
    "                'Gyr_X', 'Gyr_Y', 'Gyr_Z', \n",
    "                'Mag_X', 'Mag_Y', 'Mag_Z']:\n",
    "        signal = group[col]\n",
    "        features[f'{col}_mean'] = np.mean(signal)\n",
    "        features[f'{col}_var'] = np.var(signal)\n",
    "        features[f'{col}_rms'] = np.sqrt(np.mean(signal**2))\n",
    "        features[f'{col}_range'] = np.max(signal) - np.min(signal)\n",
    "        features[f'{col}_skew'] = skew(signal)\n",
    "        features[f'{col}_kurt'] = kurtosis(signal)\n",
    "        features[f'{col}_max'] = np.max(signal)\n",
    "\n",
    "    # Frequency-domain features (Welch's method for power spectral density)\n",
    "    for col in ['Acc_X', 'Acc_Y', 'Acc_Z', 'Gyr_X', 'Gyr_Y', 'Gyr_Z']:\n",
    "        freqs, psd = welch(group[col], fs=50)  # Adjust fs to your sampling rate\n",
    "        features[f'{col}_spectral_energy'] = np.sum(psd)\n",
    "        features[f'{col}_dominant_freq'] = freqs[np.argmax(psd)]\n",
    "\n",
    "    # Signal Vector Magnitude (SVM) for acceleration\n",
    "    svm = np.sqrt(group['Acc_X']**2 + group['Acc_Y']**2 + group['Acc_Z']**2)\n",
    "    features['Acc_SVM_mean'] = np.mean(svm)\n",
    "    features['Acc_SVM_var'] = np.var(svm)\n",
    "\n",
    "    return pd.Series(features)"
   ],
   "metadata": {
    "collapsed": false,
    "ExecuteTime": {
     "end_time": "2024-12-05T19:56:52.752480Z",
     "start_time": "2024-12-05T19:56:52.738281Z"
    }
   },
   "id": "7e8fdf0c92f3e531"
  },
  {
   "cell_type": "code",
   "execution_count": 78,
   "outputs": [
    {
     "data": {
      "text/plain": "<pandas.core.groupby.generic.DataFrameGroupBy object at 0x3023ba690>"
     },
     "execution_count": 78,
     "metadata": {},
     "output_type": "execute_result"
    }
   ],
   "source": [
    "# Group the data for feature extraction\n",
    "grouped = data.groupby(['participant', 'body_part', 'task', 'condition'])"
   ],
   "metadata": {
    "collapsed": false,
    "ExecuteTime": {
     "end_time": "2024-12-05T20:04:26.225842Z",
     "start_time": "2024-12-05T20:04:26.194055Z"
    }
   },
   "id": "dd7c1f77fcae56f4"
  },
  {
   "cell_type": "code",
   "execution_count": 79,
   "outputs": [
    {
     "name": "stderr",
     "output_type": "stream",
     "text": [
      "/var/folders/pd/s71ldfz102g17fmv0mgf1tc40000gn/T/ipykernel_12765/2626215039.py:2: DeprecationWarning: DataFrameGroupBy.apply operated on the grouping columns. This behavior is deprecated, and in a future version of pandas the grouping columns will be excluded from the operation. Either pass `include_groups=False` to exclude the groupings or explicitly select the grouping columns after groupby to silence this warning.\n",
      "  features_df = grouped.apply(compute_features).reset_index()\n"
     ]
    }
   ],
   "source": [
    "# Compute features\n",
    "features_df = grouped.apply(compute_features).reset_index()"
   ],
   "metadata": {
    "collapsed": false,
    "ExecuteTime": {
     "end_time": "2024-12-05T20:05:34.404292Z",
     "start_time": "2024-12-05T20:05:28.926041Z"
    }
   },
   "id": "d06a9ab1565ac391"
  },
  {
   "cell_type": "code",
   "execution_count": 81,
   "outputs": [],
   "source": [
    "# Save the computed features to a new CSV\n",
    "features_df.to_csv(f'{data_path}/computed_features.csv', index=False)"
   ],
   "metadata": {
    "collapsed": false,
    "ExecuteTime": {
     "end_time": "2024-12-05T20:06:44.479008Z",
     "start_time": "2024-12-05T20:06:44.422114Z"
    }
   },
   "id": "d51505bc4a6c08eb"
  },
  {
   "cell_type": "markdown",
   "source": [
    "Use One-hot to encode the category columns (participant, body_part, task,condition)"
   ],
   "metadata": {
    "collapsed": false
   },
   "id": "cbb72f7d7eea0c8a"
  },
  {
   "cell_type": "code",
   "execution_count": null,
   "outputs": [],
   "source": [
    "features_df=pd.read_csv(f'{data_path}/computed_features.csv')"
   ],
   "metadata": {
    "collapsed": false
   },
   "id": "6de58fe09da97674"
  },
  {
   "cell_type": "code",
   "execution_count": 82,
   "outputs": [
    {
     "data": {
      "text/plain": "  participant body_part        task condition  Quat_W_mean  Quat_W_var  \\\n0        P_02     arm_l  Cupplacing      comp    -0.767555    0.000292   \n1        P_02     arm_l  Cupplacing   comp_WE    -0.774570    0.000200   \n2        P_02     arm_l  Cupplacing   natural    -0.742027    0.000155   \n3        P_02     arm_l         Pin      comp    -0.759761    0.000324   \n4        P_02     arm_l         Pin   comp_WE    -0.734621    0.000446   \n\n   Quat_W_rms  Quat_W_range  Quat_W_skew  Quat_W_kurt  ...  \\\n0    0.767746      0.085431    -1.085372     1.017358  ...   \n1    0.774699      0.081870    -0.455353     0.589303  ...   \n2    0.742132      0.093685    -2.249484     5.730606  ...   \n3    0.759974      0.088499    -1.873579     2.158500  ...   \n4    0.734924      0.089529    -1.572033     1.222080  ...   \n\n   Acc_Z_spectral_energy  Acc_Z_dominant_freq  Gyr_X_spectral_energy  \\\n0               0.785015             0.195312            1280.490882   \n1               0.922279             0.195312            1100.379045   \n2               0.487908             0.195312             662.211986   \n3               0.516621             2.148438            1140.060029   \n4               0.798055             2.148438            1889.241905   \n\n   Gyr_X_dominant_freq  Gyr_Y_spectral_energy  Gyr_Y_dominant_freq  \\\n0             4.101562             217.777279             0.390625   \n1             4.101562             189.954955             0.390625   \n2             1.953125             202.915105             1.953125   \n3             4.296875             133.199605             2.148438   \n4             2.148438             213.897176             2.148438   \n\n   Gyr_Z_spectral_energy  Gyr_Z_dominant_freq  Acc_SVM_mean  Acc_SVM_var  \n0             396.711870             0.390625      9.912421     0.096901  \n1             537.814808             0.390625      9.912909     0.065498  \n2              85.524840             3.906250      9.895929     0.080696  \n3              81.489395             0.195312      9.906819     0.091274  \n4             100.797740             0.390625      9.894033     0.086365  \n\n[5 rows x 109 columns]",
      "text/html": "<div>\n<style scoped>\n    .dataframe tbody tr th:only-of-type {\n        vertical-align: middle;\n    }\n\n    .dataframe tbody tr th {\n        vertical-align: top;\n    }\n\n    .dataframe thead th {\n        text-align: right;\n    }\n</style>\n<table border=\"1\" class=\"dataframe\">\n  <thead>\n    <tr style=\"text-align: right;\">\n      <th></th>\n      <th>participant</th>\n      <th>body_part</th>\n      <th>task</th>\n      <th>condition</th>\n      <th>Quat_W_mean</th>\n      <th>Quat_W_var</th>\n      <th>Quat_W_rms</th>\n      <th>Quat_W_range</th>\n      <th>Quat_W_skew</th>\n      <th>Quat_W_kurt</th>\n      <th>...</th>\n      <th>Acc_Z_spectral_energy</th>\n      <th>Acc_Z_dominant_freq</th>\n      <th>Gyr_X_spectral_energy</th>\n      <th>Gyr_X_dominant_freq</th>\n      <th>Gyr_Y_spectral_energy</th>\n      <th>Gyr_Y_dominant_freq</th>\n      <th>Gyr_Z_spectral_energy</th>\n      <th>Gyr_Z_dominant_freq</th>\n      <th>Acc_SVM_mean</th>\n      <th>Acc_SVM_var</th>\n    </tr>\n  </thead>\n  <tbody>\n    <tr>\n      <th>0</th>\n      <td>P_02</td>\n      <td>arm_l</td>\n      <td>Cupplacing</td>\n      <td>comp</td>\n      <td>-0.767555</td>\n      <td>0.000292</td>\n      <td>0.767746</td>\n      <td>0.085431</td>\n      <td>-1.085372</td>\n      <td>1.017358</td>\n      <td>...</td>\n      <td>0.785015</td>\n      <td>0.195312</td>\n      <td>1280.490882</td>\n      <td>4.101562</td>\n      <td>217.777279</td>\n      <td>0.390625</td>\n      <td>396.711870</td>\n      <td>0.390625</td>\n      <td>9.912421</td>\n      <td>0.096901</td>\n    </tr>\n    <tr>\n      <th>1</th>\n      <td>P_02</td>\n      <td>arm_l</td>\n      <td>Cupplacing</td>\n      <td>comp_WE</td>\n      <td>-0.774570</td>\n      <td>0.000200</td>\n      <td>0.774699</td>\n      <td>0.081870</td>\n      <td>-0.455353</td>\n      <td>0.589303</td>\n      <td>...</td>\n      <td>0.922279</td>\n      <td>0.195312</td>\n      <td>1100.379045</td>\n      <td>4.101562</td>\n      <td>189.954955</td>\n      <td>0.390625</td>\n      <td>537.814808</td>\n      <td>0.390625</td>\n      <td>9.912909</td>\n      <td>0.065498</td>\n    </tr>\n    <tr>\n      <th>2</th>\n      <td>P_02</td>\n      <td>arm_l</td>\n      <td>Cupplacing</td>\n      <td>natural</td>\n      <td>-0.742027</td>\n      <td>0.000155</td>\n      <td>0.742132</td>\n      <td>0.093685</td>\n      <td>-2.249484</td>\n      <td>5.730606</td>\n      <td>...</td>\n      <td>0.487908</td>\n      <td>0.195312</td>\n      <td>662.211986</td>\n      <td>1.953125</td>\n      <td>202.915105</td>\n      <td>1.953125</td>\n      <td>85.524840</td>\n      <td>3.906250</td>\n      <td>9.895929</td>\n      <td>0.080696</td>\n    </tr>\n    <tr>\n      <th>3</th>\n      <td>P_02</td>\n      <td>arm_l</td>\n      <td>Pin</td>\n      <td>comp</td>\n      <td>-0.759761</td>\n      <td>0.000324</td>\n      <td>0.759974</td>\n      <td>0.088499</td>\n      <td>-1.873579</td>\n      <td>2.158500</td>\n      <td>...</td>\n      <td>0.516621</td>\n      <td>2.148438</td>\n      <td>1140.060029</td>\n      <td>4.296875</td>\n      <td>133.199605</td>\n      <td>2.148438</td>\n      <td>81.489395</td>\n      <td>0.195312</td>\n      <td>9.906819</td>\n      <td>0.091274</td>\n    </tr>\n    <tr>\n      <th>4</th>\n      <td>P_02</td>\n      <td>arm_l</td>\n      <td>Pin</td>\n      <td>comp_WE</td>\n      <td>-0.734621</td>\n      <td>0.000446</td>\n      <td>0.734924</td>\n      <td>0.089529</td>\n      <td>-1.572033</td>\n      <td>1.222080</td>\n      <td>...</td>\n      <td>0.798055</td>\n      <td>2.148438</td>\n      <td>1889.241905</td>\n      <td>2.148438</td>\n      <td>213.897176</td>\n      <td>2.148438</td>\n      <td>100.797740</td>\n      <td>0.390625</td>\n      <td>9.894033</td>\n      <td>0.086365</td>\n    </tr>\n  </tbody>\n</table>\n<p>5 rows × 109 columns</p>\n</div>"
     },
     "execution_count": 82,
     "metadata": {},
     "output_type": "execute_result"
    }
   ],
   "source": [
    "features_df.head()"
   ],
   "metadata": {
    "collapsed": false,
    "ExecuteTime": {
     "end_time": "2024-12-05T20:11:34.644351Z",
     "start_time": "2024-12-05T20:11:34.627768Z"
    }
   },
   "id": "7501929682e0f933"
  },
  {
   "cell_type": "code",
   "execution_count": 83,
   "outputs": [],
   "source": [
    "# Initialize LabelEncoder for the target column\n",
    "target_encoder = LabelEncoder()\n",
    "\n",
    "# Encode the target column\n",
    "features_df['condition'] = target_encoder.fit_transform(features_df['condition'])"
   ],
   "metadata": {
    "collapsed": false,
    "ExecuteTime": {
     "end_time": "2024-12-05T20:13:10.152943Z",
     "start_time": "2024-12-05T20:13:10.140886Z"
    }
   },
   "id": "379ac338bd59fd5a"
  },
  {
   "cell_type": "markdown",
   "source": [
    "for the condition column: nature is 2, comp is 0, comp_WE is 1"
   ],
   "metadata": {
    "collapsed": false
   },
   "id": "45d89d67fda38247"
  },
  {
   "cell_type": "code",
   "execution_count": 85,
   "outputs": [],
   "source": [
    "# Initialize OneHotEncoder for categorical columns\n",
    "categorical_columns = ['participant', 'body_part', 'task']\n",
    "encoder = OneHotEncoder(sparse_output=False)  "
   ],
   "metadata": {
    "collapsed": false,
    "ExecuteTime": {
     "end_time": "2024-12-05T20:13:33.693927Z",
     "start_time": "2024-12-05T20:13:33.658054Z"
    }
   },
   "id": "8a7d900fc59ff74b"
  },
  {
   "cell_type": "code",
   "execution_count": 86,
   "outputs": [],
   "source": [
    "# Apply one-hot encoding to categorical columns\n",
    "encoded_data = encoder.fit_transform(features_df[categorical_columns])"
   ],
   "metadata": {
    "collapsed": false,
    "ExecuteTime": {
     "end_time": "2024-12-05T20:13:49.466904Z",
     "start_time": "2024-12-05T20:13:49.443807Z"
    }
   },
   "id": "71d815acea9fb63a"
  },
  {
   "cell_type": "code",
   "execution_count": 87,
   "outputs": [],
   "source": [
    "# Create a DataFrame for the encoded categorical data\n",
    "encoded_columns = encoder.get_feature_names_out(categorical_columns)\n",
    "encoded_df = pd.DataFrame(encoded_data, columns=encoded_columns)"
   ],
   "metadata": {
    "collapsed": false,
    "ExecuteTime": {
     "end_time": "2024-12-05T20:14:13.337847Z",
     "start_time": "2024-12-05T20:14:13.312269Z"
    }
   },
   "id": "c2722c8dc744ccbe"
  },
  {
   "cell_type": "code",
   "execution_count": 90,
   "outputs": [],
   "source": [
    "# Drop the original categorical columns and concatenate the encoded data\n",
    "data_encoded = pd.concat([encoded_df, features_df.drop(columns=categorical_columns)], axis=1)"
   ],
   "metadata": {
    "collapsed": false,
    "ExecuteTime": {
     "end_time": "2024-12-05T20:15:41.613477Z",
     "start_time": "2024-12-05T20:15:41.594937Z"
    }
   },
   "id": "978782b0ce86423a"
  },
  {
   "cell_type": "code",
   "execution_count": 91,
   "outputs": [
    {
     "data": {
      "text/plain": "     participant_P_02  participant_P_03  participant_P_04  participant_P_05  \\\n0                 1.0               0.0               0.0               0.0   \n1                 1.0               0.0               0.0               0.0   \n2                 1.0               0.0               0.0               0.0   \n3                 1.0               0.0               0.0               0.0   \n4                 1.0               0.0               0.0               0.0   \n..                ...               ...               ...               ...   \n295               0.0               0.0               0.0               0.0   \n296               0.0               0.0               0.0               0.0   \n297               0.0               0.0               0.0               0.0   \n298               0.0               0.0               0.0               0.0   \n299               0.0               0.0               0.0               0.0   \n\n     participant_P_06  body_part_arm_l  body_part_arm_r  body_part_trunk  \\\n0                 0.0              1.0              0.0              0.0   \n1                 0.0              1.0              0.0              0.0   \n2                 0.0              1.0              0.0              0.0   \n3                 0.0              1.0              0.0              0.0   \n4                 0.0              1.0              0.0              0.0   \n..                ...              ...              ...              ...   \n295               1.0              0.0              0.0              0.0   \n296               1.0              0.0              0.0              0.0   \n297               1.0              0.0              0.0              0.0   \n298               1.0              0.0              0.0              0.0   \n299               1.0              0.0              0.0              0.0   \n\n     body_part_wrist_l  body_part_wrist_r  ...  Acc_Z_spectral_energy  \\\n0                  0.0                0.0  ...               0.785015   \n1                  0.0                0.0  ...               0.922279   \n2                  0.0                0.0  ...               0.487908   \n3                  0.0                0.0  ...               0.516621   \n4                  0.0                0.0  ...               0.798055   \n..                 ...                ...  ...                    ...   \n295                0.0                1.0  ...              12.222144   \n296                0.0                1.0  ...               3.660535   \n297                0.0                1.0  ...               0.513398   \n298                0.0                1.0  ...               0.895019   \n299                0.0                1.0  ...               2.094716   \n\n     Acc_Z_dominant_freq  Gyr_X_spectral_energy  Gyr_X_dominant_freq  \\\n0               0.195312            1280.490882             4.101562   \n1               0.195312            1100.379045             4.101562   \n2               0.195312             662.211986             1.953125   \n3               2.148438            1140.060029             4.296875   \n4               2.148438            1889.241905             2.148438   \n..                   ...                    ...                  ...   \n295             0.195312           14474.448752             0.195312   \n296             0.195312            8002.691085             0.195312   \n297             0.195312             258.480403             0.195312   \n298             0.390625             625.158303             0.976562   \n299             0.195312            1037.422298             0.195312   \n\n     Gyr_Y_spectral_energy  Gyr_Y_dominant_freq  Gyr_Z_spectral_energy  \\\n0               217.777279             0.390625             396.711870   \n1               189.954955             0.390625             537.814808   \n2               202.915105             1.953125              85.524840   \n3               133.199605             2.148438              81.489395   \n4               213.897176             2.148438             100.797740   \n..                     ...                  ...                    ...   \n295             957.582700             0.781250            1070.050430   \n296            1161.843794             0.781250            1335.891493   \n297             208.133562             0.390625             170.040254   \n298             178.686917             0.781250             520.712408   \n299            1380.789607             0.195312            1416.640077   \n\n     Gyr_Z_dominant_freq  Acc_SVM_mean  Acc_SVM_var  \n0               0.390625      9.912421     0.096901  \n1               0.390625      9.912909     0.065498  \n2               3.906250      9.895929     0.080696  \n3               0.195312      9.906819     0.091274  \n4               0.390625      9.894033     0.086365  \n..                   ...           ...          ...  \n295             0.195312      9.773867     0.305658  \n296             0.195312      9.774712     0.373336  \n297             0.390625      9.746223     0.185695  \n298             0.195312      9.765918     0.228332  \n299             0.195312      9.774377     0.290622  \n\n[300 rows x 120 columns]",
      "text/html": "<div>\n<style scoped>\n    .dataframe tbody tr th:only-of-type {\n        vertical-align: middle;\n    }\n\n    .dataframe tbody tr th {\n        vertical-align: top;\n    }\n\n    .dataframe thead th {\n        text-align: right;\n    }\n</style>\n<table border=\"1\" class=\"dataframe\">\n  <thead>\n    <tr style=\"text-align: right;\">\n      <th></th>\n      <th>participant_P_02</th>\n      <th>participant_P_03</th>\n      <th>participant_P_04</th>\n      <th>participant_P_05</th>\n      <th>participant_P_06</th>\n      <th>body_part_arm_l</th>\n      <th>body_part_arm_r</th>\n      <th>body_part_trunk</th>\n      <th>body_part_wrist_l</th>\n      <th>body_part_wrist_r</th>\n      <th>...</th>\n      <th>Acc_Z_spectral_energy</th>\n      <th>Acc_Z_dominant_freq</th>\n      <th>Gyr_X_spectral_energy</th>\n      <th>Gyr_X_dominant_freq</th>\n      <th>Gyr_Y_spectral_energy</th>\n      <th>Gyr_Y_dominant_freq</th>\n      <th>Gyr_Z_spectral_energy</th>\n      <th>Gyr_Z_dominant_freq</th>\n      <th>Acc_SVM_mean</th>\n      <th>Acc_SVM_var</th>\n    </tr>\n  </thead>\n  <tbody>\n    <tr>\n      <th>0</th>\n      <td>1.0</td>\n      <td>0.0</td>\n      <td>0.0</td>\n      <td>0.0</td>\n      <td>0.0</td>\n      <td>1.0</td>\n      <td>0.0</td>\n      <td>0.0</td>\n      <td>0.0</td>\n      <td>0.0</td>\n      <td>...</td>\n      <td>0.785015</td>\n      <td>0.195312</td>\n      <td>1280.490882</td>\n      <td>4.101562</td>\n      <td>217.777279</td>\n      <td>0.390625</td>\n      <td>396.711870</td>\n      <td>0.390625</td>\n      <td>9.912421</td>\n      <td>0.096901</td>\n    </tr>\n    <tr>\n      <th>1</th>\n      <td>1.0</td>\n      <td>0.0</td>\n      <td>0.0</td>\n      <td>0.0</td>\n      <td>0.0</td>\n      <td>1.0</td>\n      <td>0.0</td>\n      <td>0.0</td>\n      <td>0.0</td>\n      <td>0.0</td>\n      <td>...</td>\n      <td>0.922279</td>\n      <td>0.195312</td>\n      <td>1100.379045</td>\n      <td>4.101562</td>\n      <td>189.954955</td>\n      <td>0.390625</td>\n      <td>537.814808</td>\n      <td>0.390625</td>\n      <td>9.912909</td>\n      <td>0.065498</td>\n    </tr>\n    <tr>\n      <th>2</th>\n      <td>1.0</td>\n      <td>0.0</td>\n      <td>0.0</td>\n      <td>0.0</td>\n      <td>0.0</td>\n      <td>1.0</td>\n      <td>0.0</td>\n      <td>0.0</td>\n      <td>0.0</td>\n      <td>0.0</td>\n      <td>...</td>\n      <td>0.487908</td>\n      <td>0.195312</td>\n      <td>662.211986</td>\n      <td>1.953125</td>\n      <td>202.915105</td>\n      <td>1.953125</td>\n      <td>85.524840</td>\n      <td>3.906250</td>\n      <td>9.895929</td>\n      <td>0.080696</td>\n    </tr>\n    <tr>\n      <th>3</th>\n      <td>1.0</td>\n      <td>0.0</td>\n      <td>0.0</td>\n      <td>0.0</td>\n      <td>0.0</td>\n      <td>1.0</td>\n      <td>0.0</td>\n      <td>0.0</td>\n      <td>0.0</td>\n      <td>0.0</td>\n      <td>...</td>\n      <td>0.516621</td>\n      <td>2.148438</td>\n      <td>1140.060029</td>\n      <td>4.296875</td>\n      <td>133.199605</td>\n      <td>2.148438</td>\n      <td>81.489395</td>\n      <td>0.195312</td>\n      <td>9.906819</td>\n      <td>0.091274</td>\n    </tr>\n    <tr>\n      <th>4</th>\n      <td>1.0</td>\n      <td>0.0</td>\n      <td>0.0</td>\n      <td>0.0</td>\n      <td>0.0</td>\n      <td>1.0</td>\n      <td>0.0</td>\n      <td>0.0</td>\n      <td>0.0</td>\n      <td>0.0</td>\n      <td>...</td>\n      <td>0.798055</td>\n      <td>2.148438</td>\n      <td>1889.241905</td>\n      <td>2.148438</td>\n      <td>213.897176</td>\n      <td>2.148438</td>\n      <td>100.797740</td>\n      <td>0.390625</td>\n      <td>9.894033</td>\n      <td>0.086365</td>\n    </tr>\n    <tr>\n      <th>...</th>\n      <td>...</td>\n      <td>...</td>\n      <td>...</td>\n      <td>...</td>\n      <td>...</td>\n      <td>...</td>\n      <td>...</td>\n      <td>...</td>\n      <td>...</td>\n      <td>...</td>\n      <td>...</td>\n      <td>...</td>\n      <td>...</td>\n      <td>...</td>\n      <td>...</td>\n      <td>...</td>\n      <td>...</td>\n      <td>...</td>\n      <td>...</td>\n      <td>...</td>\n      <td>...</td>\n    </tr>\n    <tr>\n      <th>295</th>\n      <td>0.0</td>\n      <td>0.0</td>\n      <td>0.0</td>\n      <td>0.0</td>\n      <td>1.0</td>\n      <td>0.0</td>\n      <td>0.0</td>\n      <td>0.0</td>\n      <td>0.0</td>\n      <td>1.0</td>\n      <td>...</td>\n      <td>12.222144</td>\n      <td>0.195312</td>\n      <td>14474.448752</td>\n      <td>0.195312</td>\n      <td>957.582700</td>\n      <td>0.781250</td>\n      <td>1070.050430</td>\n      <td>0.195312</td>\n      <td>9.773867</td>\n      <td>0.305658</td>\n    </tr>\n    <tr>\n      <th>296</th>\n      <td>0.0</td>\n      <td>0.0</td>\n      <td>0.0</td>\n      <td>0.0</td>\n      <td>1.0</td>\n      <td>0.0</td>\n      <td>0.0</td>\n      <td>0.0</td>\n      <td>0.0</td>\n      <td>1.0</td>\n      <td>...</td>\n      <td>3.660535</td>\n      <td>0.195312</td>\n      <td>8002.691085</td>\n      <td>0.195312</td>\n      <td>1161.843794</td>\n      <td>0.781250</td>\n      <td>1335.891493</td>\n      <td>0.195312</td>\n      <td>9.774712</td>\n      <td>0.373336</td>\n    </tr>\n    <tr>\n      <th>297</th>\n      <td>0.0</td>\n      <td>0.0</td>\n      <td>0.0</td>\n      <td>0.0</td>\n      <td>1.0</td>\n      <td>0.0</td>\n      <td>0.0</td>\n      <td>0.0</td>\n      <td>0.0</td>\n      <td>1.0</td>\n      <td>...</td>\n      <td>0.513398</td>\n      <td>0.195312</td>\n      <td>258.480403</td>\n      <td>0.195312</td>\n      <td>208.133562</td>\n      <td>0.390625</td>\n      <td>170.040254</td>\n      <td>0.390625</td>\n      <td>9.746223</td>\n      <td>0.185695</td>\n    </tr>\n    <tr>\n      <th>298</th>\n      <td>0.0</td>\n      <td>0.0</td>\n      <td>0.0</td>\n      <td>0.0</td>\n      <td>1.0</td>\n      <td>0.0</td>\n      <td>0.0</td>\n      <td>0.0</td>\n      <td>0.0</td>\n      <td>1.0</td>\n      <td>...</td>\n      <td>0.895019</td>\n      <td>0.390625</td>\n      <td>625.158303</td>\n      <td>0.976562</td>\n      <td>178.686917</td>\n      <td>0.781250</td>\n      <td>520.712408</td>\n      <td>0.195312</td>\n      <td>9.765918</td>\n      <td>0.228332</td>\n    </tr>\n    <tr>\n      <th>299</th>\n      <td>0.0</td>\n      <td>0.0</td>\n      <td>0.0</td>\n      <td>0.0</td>\n      <td>1.0</td>\n      <td>0.0</td>\n      <td>0.0</td>\n      <td>0.0</td>\n      <td>0.0</td>\n      <td>1.0</td>\n      <td>...</td>\n      <td>2.094716</td>\n      <td>0.195312</td>\n      <td>1037.422298</td>\n      <td>0.195312</td>\n      <td>1380.789607</td>\n      <td>0.195312</td>\n      <td>1416.640077</td>\n      <td>0.195312</td>\n      <td>9.774377</td>\n      <td>0.290622</td>\n    </tr>\n  </tbody>\n</table>\n<p>300 rows × 120 columns</p>\n</div>"
     },
     "execution_count": 91,
     "metadata": {},
     "output_type": "execute_result"
    }
   ],
   "source": [
    "data_encoded"
   ],
   "metadata": {
    "collapsed": false,
    "ExecuteTime": {
     "end_time": "2024-12-05T20:15:43.432840Z",
     "start_time": "2024-12-05T20:15:43.396131Z"
    }
   },
   "id": "f9b4223693ffdfd"
  },
  {
   "cell_type": "code",
   "execution_count": 92,
   "outputs": [
    {
     "data": {
      "text/plain": "condition\n0    100\n1    100\n2    100\nName: count, dtype: int64"
     },
     "execution_count": 92,
     "metadata": {},
     "output_type": "execute_result"
    }
   ],
   "source": [
    "data_encoded['condition'].value_counts()"
   ],
   "metadata": {
    "collapsed": false,
    "ExecuteTime": {
     "end_time": "2024-12-05T20:16:23.644774Z",
     "start_time": "2024-12-05T20:16:23.615308Z"
    }
   },
   "id": "c9f0104858faa821"
  },
  {
   "cell_type": "code",
   "execution_count": 93,
   "outputs": [],
   "source": [
    "# export the imu dataframe\n",
    "data_encoded.to_csv(f'{data_path}/data_encoded.csv', index=False)"
   ],
   "metadata": {
    "collapsed": false,
    "ExecuteTime": {
     "end_time": "2024-12-05T20:16:54.076235Z",
     "start_time": "2024-12-05T20:16:54.034575Z"
    }
   },
   "id": "aa49661c43e38f4a"
  },
  {
   "cell_type": "markdown",
   "source": [
    "Use machine learning model for prediction"
   ],
   "metadata": {
    "collapsed": false
   },
   "id": "fd5e25cf1fb388dd"
  },
  {
   "cell_type": "code",
   "execution_count": 189,
   "outputs": [],
   "source": [
    "data=pd.read_csv(f'{data_path}/data_encoded.csv')"
   ],
   "metadata": {
    "collapsed": false,
    "ExecuteTime": {
     "end_time": "2024-12-05T22:10:46.854576Z",
     "start_time": "2024-12-05T22:10:46.816485Z"
    }
   },
   "id": "d41509e5239c039f"
  },
  {
   "cell_type": "code",
   "execution_count": 190,
   "outputs": [],
   "source": [
    "# Drop columns containing \"participant\", \"body_part\", or \"task\"\n",
    "columns_to_drop = data.filter(regex='participant|body_part|task').columns\n",
    "data = data.drop(columns=columns_to_drop)"
   ],
   "metadata": {
    "collapsed": false,
    "ExecuteTime": {
     "end_time": "2024-12-05T22:10:47.696784Z",
     "start_time": "2024-12-05T22:10:47.647819Z"
    }
   },
   "id": "c9212223c9ce2cf9"
  },
  {
   "cell_type": "code",
   "execution_count": 191,
   "outputs": [
    {
     "data": {
      "text/plain": "     condition  Quat_W_mean  Quat_W_var  Quat_W_rms  Quat_W_range  \\\n0            0    -0.767555    0.000292    0.767746      0.085431   \n1            1    -0.774570    0.000200    0.774699      0.081870   \n2            2    -0.742027    0.000155    0.742132      0.093685   \n3            0    -0.759761    0.000324    0.759974      0.088499   \n4            1    -0.734621    0.000446    0.734924      0.089529   \n..         ...          ...         ...         ...           ...   \n295          1     0.924497    0.002197    0.925685      0.153218   \n296          2    -0.968711    0.000539    0.968989      0.191876   \n297          0    -0.948044    0.000127    0.948111      0.041406   \n298          1     0.936373    0.000705    0.936749      0.071118   \n299          2    -0.985354    0.000042    0.985375      0.027403   \n\n     Quat_W_skew  Quat_W_kurt  Quat_W_max  Quat_X_mean  Quat_X_var  ...  \\\n0      -1.085372     1.017358   -0.739256     0.137589    0.001380  ...   \n1      -0.455353     0.589303   -0.742787     0.101660    0.001259  ...   \n2      -2.249484     5.730606   -0.719047     0.171880    0.000701  ...   \n3      -1.873579     2.158500   -0.738504     0.108002    0.000697  ...   \n4      -1.572033     1.222080   -0.706721     0.094506    0.000972  ...   \n..           ...          ...         ...          ...         ...  ...   \n295    -0.146561    -1.480618    0.982134    -0.211007    0.023073  ...   \n296     1.650751     6.201473   -0.800820     0.144593    0.016010  ...   \n297     0.321092    -1.098520   -0.926872     0.265217    0.003794  ...   \n298     0.631287    -1.501612    0.978660    -0.105988    0.003051  ...   \n299     0.988673     0.495202   -0.967691     0.069697    0.002716  ...   \n\n     Acc_Z_spectral_energy  Acc_Z_dominant_freq  Gyr_X_spectral_energy  \\\n0                 0.785015             0.195312            1280.490882   \n1                 0.922279             0.195312            1100.379045   \n2                 0.487908             0.195312             662.211986   \n3                 0.516621             2.148438            1140.060029   \n4                 0.798055             2.148438            1889.241905   \n..                     ...                  ...                    ...   \n295              12.222144             0.195312           14474.448752   \n296               3.660535             0.195312            8002.691085   \n297               0.513398             0.195312             258.480403   \n298               0.895019             0.390625             625.158303   \n299               2.094716             0.195312            1037.422298   \n\n     Gyr_X_dominant_freq  Gyr_Y_spectral_energy  Gyr_Y_dominant_freq  \\\n0               4.101562             217.777279             0.390625   \n1               4.101562             189.954955             0.390625   \n2               1.953125             202.915105             1.953125   \n3               4.296875             133.199605             2.148438   \n4               2.148438             213.897176             2.148438   \n..                   ...                    ...                  ...   \n295             0.195312             957.582700             0.781250   \n296             0.195312            1161.843794             0.781250   \n297             0.195312             208.133562             0.390625   \n298             0.976562             178.686917             0.781250   \n299             0.195312            1380.789607             0.195312   \n\n     Gyr_Z_spectral_energy  Gyr_Z_dominant_freq  Acc_SVM_mean  Acc_SVM_var  \n0               396.711870             0.390625      9.912421     0.096901  \n1               537.814808             0.390625      9.912909     0.065498  \n2                85.524840             3.906250      9.895929     0.080696  \n3                81.489395             0.195312      9.906819     0.091274  \n4               100.797740             0.390625      9.894033     0.086365  \n..                     ...                  ...           ...          ...  \n295            1070.050430             0.195312      9.773867     0.305658  \n296            1335.891493             0.195312      9.774712     0.373336  \n297             170.040254             0.390625      9.746223     0.185695  \n298             520.712408             0.195312      9.765918     0.228332  \n299            1416.640077             0.195312      9.774377     0.290622  \n\n[300 rows x 106 columns]",
      "text/html": "<div>\n<style scoped>\n    .dataframe tbody tr th:only-of-type {\n        vertical-align: middle;\n    }\n\n    .dataframe tbody tr th {\n        vertical-align: top;\n    }\n\n    .dataframe thead th {\n        text-align: right;\n    }\n</style>\n<table border=\"1\" class=\"dataframe\">\n  <thead>\n    <tr style=\"text-align: right;\">\n      <th></th>\n      <th>condition</th>\n      <th>Quat_W_mean</th>\n      <th>Quat_W_var</th>\n      <th>Quat_W_rms</th>\n      <th>Quat_W_range</th>\n      <th>Quat_W_skew</th>\n      <th>Quat_W_kurt</th>\n      <th>Quat_W_max</th>\n      <th>Quat_X_mean</th>\n      <th>Quat_X_var</th>\n      <th>...</th>\n      <th>Acc_Z_spectral_energy</th>\n      <th>Acc_Z_dominant_freq</th>\n      <th>Gyr_X_spectral_energy</th>\n      <th>Gyr_X_dominant_freq</th>\n      <th>Gyr_Y_spectral_energy</th>\n      <th>Gyr_Y_dominant_freq</th>\n      <th>Gyr_Z_spectral_energy</th>\n      <th>Gyr_Z_dominant_freq</th>\n      <th>Acc_SVM_mean</th>\n      <th>Acc_SVM_var</th>\n    </tr>\n  </thead>\n  <tbody>\n    <tr>\n      <th>0</th>\n      <td>0</td>\n      <td>-0.767555</td>\n      <td>0.000292</td>\n      <td>0.767746</td>\n      <td>0.085431</td>\n      <td>-1.085372</td>\n      <td>1.017358</td>\n      <td>-0.739256</td>\n      <td>0.137589</td>\n      <td>0.001380</td>\n      <td>...</td>\n      <td>0.785015</td>\n      <td>0.195312</td>\n      <td>1280.490882</td>\n      <td>4.101562</td>\n      <td>217.777279</td>\n      <td>0.390625</td>\n      <td>396.711870</td>\n      <td>0.390625</td>\n      <td>9.912421</td>\n      <td>0.096901</td>\n    </tr>\n    <tr>\n      <th>1</th>\n      <td>1</td>\n      <td>-0.774570</td>\n      <td>0.000200</td>\n      <td>0.774699</td>\n      <td>0.081870</td>\n      <td>-0.455353</td>\n      <td>0.589303</td>\n      <td>-0.742787</td>\n      <td>0.101660</td>\n      <td>0.001259</td>\n      <td>...</td>\n      <td>0.922279</td>\n      <td>0.195312</td>\n      <td>1100.379045</td>\n      <td>4.101562</td>\n      <td>189.954955</td>\n      <td>0.390625</td>\n      <td>537.814808</td>\n      <td>0.390625</td>\n      <td>9.912909</td>\n      <td>0.065498</td>\n    </tr>\n    <tr>\n      <th>2</th>\n      <td>2</td>\n      <td>-0.742027</td>\n      <td>0.000155</td>\n      <td>0.742132</td>\n      <td>0.093685</td>\n      <td>-2.249484</td>\n      <td>5.730606</td>\n      <td>-0.719047</td>\n      <td>0.171880</td>\n      <td>0.000701</td>\n      <td>...</td>\n      <td>0.487908</td>\n      <td>0.195312</td>\n      <td>662.211986</td>\n      <td>1.953125</td>\n      <td>202.915105</td>\n      <td>1.953125</td>\n      <td>85.524840</td>\n      <td>3.906250</td>\n      <td>9.895929</td>\n      <td>0.080696</td>\n    </tr>\n    <tr>\n      <th>3</th>\n      <td>0</td>\n      <td>-0.759761</td>\n      <td>0.000324</td>\n      <td>0.759974</td>\n      <td>0.088499</td>\n      <td>-1.873579</td>\n      <td>2.158500</td>\n      <td>-0.738504</td>\n      <td>0.108002</td>\n      <td>0.000697</td>\n      <td>...</td>\n      <td>0.516621</td>\n      <td>2.148438</td>\n      <td>1140.060029</td>\n      <td>4.296875</td>\n      <td>133.199605</td>\n      <td>2.148438</td>\n      <td>81.489395</td>\n      <td>0.195312</td>\n      <td>9.906819</td>\n      <td>0.091274</td>\n    </tr>\n    <tr>\n      <th>4</th>\n      <td>1</td>\n      <td>-0.734621</td>\n      <td>0.000446</td>\n      <td>0.734924</td>\n      <td>0.089529</td>\n      <td>-1.572033</td>\n      <td>1.222080</td>\n      <td>-0.706721</td>\n      <td>0.094506</td>\n      <td>0.000972</td>\n      <td>...</td>\n      <td>0.798055</td>\n      <td>2.148438</td>\n      <td>1889.241905</td>\n      <td>2.148438</td>\n      <td>213.897176</td>\n      <td>2.148438</td>\n      <td>100.797740</td>\n      <td>0.390625</td>\n      <td>9.894033</td>\n      <td>0.086365</td>\n    </tr>\n    <tr>\n      <th>...</th>\n      <td>...</td>\n      <td>...</td>\n      <td>...</td>\n      <td>...</td>\n      <td>...</td>\n      <td>...</td>\n      <td>...</td>\n      <td>...</td>\n      <td>...</td>\n      <td>...</td>\n      <td>...</td>\n      <td>...</td>\n      <td>...</td>\n      <td>...</td>\n      <td>...</td>\n      <td>...</td>\n      <td>...</td>\n      <td>...</td>\n      <td>...</td>\n      <td>...</td>\n      <td>...</td>\n    </tr>\n    <tr>\n      <th>295</th>\n      <td>1</td>\n      <td>0.924497</td>\n      <td>0.002197</td>\n      <td>0.925685</td>\n      <td>0.153218</td>\n      <td>-0.146561</td>\n      <td>-1.480618</td>\n      <td>0.982134</td>\n      <td>-0.211007</td>\n      <td>0.023073</td>\n      <td>...</td>\n      <td>12.222144</td>\n      <td>0.195312</td>\n      <td>14474.448752</td>\n      <td>0.195312</td>\n      <td>957.582700</td>\n      <td>0.781250</td>\n      <td>1070.050430</td>\n      <td>0.195312</td>\n      <td>9.773867</td>\n      <td>0.305658</td>\n    </tr>\n    <tr>\n      <th>296</th>\n      <td>2</td>\n      <td>-0.968711</td>\n      <td>0.000539</td>\n      <td>0.968989</td>\n      <td>0.191876</td>\n      <td>1.650751</td>\n      <td>6.201473</td>\n      <td>-0.800820</td>\n      <td>0.144593</td>\n      <td>0.016010</td>\n      <td>...</td>\n      <td>3.660535</td>\n      <td>0.195312</td>\n      <td>8002.691085</td>\n      <td>0.195312</td>\n      <td>1161.843794</td>\n      <td>0.781250</td>\n      <td>1335.891493</td>\n      <td>0.195312</td>\n      <td>9.774712</td>\n      <td>0.373336</td>\n    </tr>\n    <tr>\n      <th>297</th>\n      <td>0</td>\n      <td>-0.948044</td>\n      <td>0.000127</td>\n      <td>0.948111</td>\n      <td>0.041406</td>\n      <td>0.321092</td>\n      <td>-1.098520</td>\n      <td>-0.926872</td>\n      <td>0.265217</td>\n      <td>0.003794</td>\n      <td>...</td>\n      <td>0.513398</td>\n      <td>0.195312</td>\n      <td>258.480403</td>\n      <td>0.195312</td>\n      <td>208.133562</td>\n      <td>0.390625</td>\n      <td>170.040254</td>\n      <td>0.390625</td>\n      <td>9.746223</td>\n      <td>0.185695</td>\n    </tr>\n    <tr>\n      <th>298</th>\n      <td>1</td>\n      <td>0.936373</td>\n      <td>0.000705</td>\n      <td>0.936749</td>\n      <td>0.071118</td>\n      <td>0.631287</td>\n      <td>-1.501612</td>\n      <td>0.978660</td>\n      <td>-0.105988</td>\n      <td>0.003051</td>\n      <td>...</td>\n      <td>0.895019</td>\n      <td>0.390625</td>\n      <td>625.158303</td>\n      <td>0.976562</td>\n      <td>178.686917</td>\n      <td>0.781250</td>\n      <td>520.712408</td>\n      <td>0.195312</td>\n      <td>9.765918</td>\n      <td>0.228332</td>\n    </tr>\n    <tr>\n      <th>299</th>\n      <td>2</td>\n      <td>-0.985354</td>\n      <td>0.000042</td>\n      <td>0.985375</td>\n      <td>0.027403</td>\n      <td>0.988673</td>\n      <td>0.495202</td>\n      <td>-0.967691</td>\n      <td>0.069697</td>\n      <td>0.002716</td>\n      <td>...</td>\n      <td>2.094716</td>\n      <td>0.195312</td>\n      <td>1037.422298</td>\n      <td>0.195312</td>\n      <td>1380.789607</td>\n      <td>0.195312</td>\n      <td>1416.640077</td>\n      <td>0.195312</td>\n      <td>9.774377</td>\n      <td>0.290622</td>\n    </tr>\n  </tbody>\n</table>\n<p>300 rows × 106 columns</p>\n</div>"
     },
     "execution_count": 191,
     "metadata": {},
     "output_type": "execute_result"
    }
   ],
   "source": [
    "data"
   ],
   "metadata": {
    "collapsed": false,
    "ExecuteTime": {
     "end_time": "2024-12-05T22:10:48.786934Z",
     "start_time": "2024-12-05T22:10:48.740940Z"
    }
   },
   "id": "e39e32134cd55953"
  },
  {
   "cell_type": "markdown",
   "source": [
    "there are too many features (105)"
   ],
   "metadata": {
    "collapsed": false
   },
   "id": "5fc1a3adcd03945f"
  },
  {
   "cell_type": "code",
   "execution_count": 192,
   "outputs": [],
   "source": [
    "# drop high correlated features\n",
    "correlation_matrix = data.corr()"
   ],
   "metadata": {
    "collapsed": false,
    "ExecuteTime": {
     "end_time": "2024-12-05T22:10:56.282245Z",
     "start_time": "2024-12-05T22:10:56.250557Z"
    }
   },
   "id": "50a266835dffb3a0"
  },
  {
   "cell_type": "code",
   "execution_count": 193,
   "outputs": [
    {
     "name": "stdout",
     "output_type": "stream",
     "text": [
      "Dropped columns with high correlation: ['Gyr_X_spectral_energy', 'Acc_X_rms', 'Quat_Z_max', 'Acc_Y_max', 'Acc_Z_rms', 'Quat_Y_max', 'Acc_Y_spectral_energy', 'Gyr_Y_spectral_energy', 'Gyr_X_range', 'Acc_SVM_var', 'Gyr_X_rms', 'Gyr_Z_spectral_energy', 'Mag_Z_range', 'Mag_Z_max', 'Gyr_X_var', 'Gyr_X_max', 'Gyr_Y_rms', 'Mag_X_max', 'Acc_Z_range', 'Gyr_Y_max', 'Acc_Z_mean', 'Gyr_Z_rms', 'Mag_Y_max', 'Quat_W_max', 'Acc_X_kurt', 'Acc_Z_spectral_energy', 'Gyr_Z_max']\n"
     ]
    }
   ],
   "source": [
    "# Create a mask to exclude the diagonal (self-correlations)\n",
    "mask = np.triu(np.ones_like(correlation_matrix, dtype=bool), k=1)\n",
    "\n",
    "# Find pairs of highly correlated features (correlation > 0.9)\n",
    "high_corr_features = []\n",
    "for column in correlation_matrix.columns:\n",
    "    # Get the index of the features that are highly correlated with the current column\n",
    "    high_corr = correlation_matrix[column][mask[:, correlation_matrix.columns.get_loc(column)]]\n",
    "    for idx, corr_value in high_corr.items():\n",
    "        if abs(corr_value) > 0.9:\n",
    "            high_corr_features.append(column)\n",
    "\n",
    "# Remove duplicates since a feature can be in the list multiple times\n",
    "high_corr_features = list(set(high_corr_features))\n",
    "\n",
    "# Drop the highly correlated features from the data\n",
    "data_reduced = data.drop(columns=high_corr_features)\n",
    "\n",
    "# Verify the result\n",
    "print(f\"Dropped columns with high correlation: {high_corr_features}\")"
   ],
   "metadata": {
    "collapsed": false,
    "ExecuteTime": {
     "end_time": "2024-12-05T22:10:57.004282Z",
     "start_time": "2024-12-05T22:10:56.979959Z"
    }
   },
   "id": "8ed5099444b0c73d"
  },
  {
   "cell_type": "code",
   "execution_count": 194,
   "outputs": [
    {
     "data": {
      "text/plain": "   condition  Quat_W_mean  Quat_W_var  Quat_W_rms  Quat_W_range  Quat_W_skew  \\\n0          0    -0.767555    0.000292    0.767746      0.085431    -1.085372   \n1          1    -0.774570    0.000200    0.774699      0.081870    -0.455353   \n2          2    -0.742027    0.000155    0.742132      0.093685    -2.249484   \n3          0    -0.759761    0.000324    0.759974      0.088499    -1.873579   \n4          1    -0.734621    0.000446    0.734924      0.089529    -1.572033   \n\n   Quat_W_kurt  Quat_X_mean  Quat_X_var  Quat_X_rms  ...  Mag_Z_skew  \\\n0     1.017358     0.137589    0.001380    0.142515  ...   -1.508371   \n1     0.589303     0.101660    0.001259    0.107673  ...   -0.982910   \n2     5.730606     0.171880    0.000701    0.173907  ...   -2.479454   \n3     2.158500     0.108002    0.000697    0.111183  ...   -2.071275   \n4     1.222080     0.094506    0.000972    0.099517  ...   -1.836457   \n\n   Mag_Z_kurt  Acc_X_spectral_energy  Acc_X_dominant_freq  \\\n0    1.949684               0.325965             0.195312   \n1    1.448894               0.173581             0.195312   \n2    5.674852               0.212769             4.101562   \n3    2.644999               0.187372             4.296875   \n4    1.860220               0.193347             4.296875   \n\n   Acc_Y_dominant_freq  Acc_Z_dominant_freq  Gyr_X_dominant_freq  \\\n0             0.195312             0.195312             4.101562   \n1             0.195312             0.195312             4.101562   \n2             4.101562             0.195312             1.953125   \n3             4.296875             2.148438             4.296875   \n4             0.195312             2.148438             2.148438   \n\n   Gyr_Y_dominant_freq  Gyr_Z_dominant_freq  Acc_SVM_mean  \n0             0.390625             0.390625      9.912421  \n1             0.390625             0.390625      9.912909  \n2             1.953125             3.906250      9.895929  \n3             2.148438             0.195312      9.906819  \n4             2.148438             0.390625      9.894033  \n\n[5 rows x 79 columns]",
      "text/html": "<div>\n<style scoped>\n    .dataframe tbody tr th:only-of-type {\n        vertical-align: middle;\n    }\n\n    .dataframe tbody tr th {\n        vertical-align: top;\n    }\n\n    .dataframe thead th {\n        text-align: right;\n    }\n</style>\n<table border=\"1\" class=\"dataframe\">\n  <thead>\n    <tr style=\"text-align: right;\">\n      <th></th>\n      <th>condition</th>\n      <th>Quat_W_mean</th>\n      <th>Quat_W_var</th>\n      <th>Quat_W_rms</th>\n      <th>Quat_W_range</th>\n      <th>Quat_W_skew</th>\n      <th>Quat_W_kurt</th>\n      <th>Quat_X_mean</th>\n      <th>Quat_X_var</th>\n      <th>Quat_X_rms</th>\n      <th>...</th>\n      <th>Mag_Z_skew</th>\n      <th>Mag_Z_kurt</th>\n      <th>Acc_X_spectral_energy</th>\n      <th>Acc_X_dominant_freq</th>\n      <th>Acc_Y_dominant_freq</th>\n      <th>Acc_Z_dominant_freq</th>\n      <th>Gyr_X_dominant_freq</th>\n      <th>Gyr_Y_dominant_freq</th>\n      <th>Gyr_Z_dominant_freq</th>\n      <th>Acc_SVM_mean</th>\n    </tr>\n  </thead>\n  <tbody>\n    <tr>\n      <th>0</th>\n      <td>0</td>\n      <td>-0.767555</td>\n      <td>0.000292</td>\n      <td>0.767746</td>\n      <td>0.085431</td>\n      <td>-1.085372</td>\n      <td>1.017358</td>\n      <td>0.137589</td>\n      <td>0.001380</td>\n      <td>0.142515</td>\n      <td>...</td>\n      <td>-1.508371</td>\n      <td>1.949684</td>\n      <td>0.325965</td>\n      <td>0.195312</td>\n      <td>0.195312</td>\n      <td>0.195312</td>\n      <td>4.101562</td>\n      <td>0.390625</td>\n      <td>0.390625</td>\n      <td>9.912421</td>\n    </tr>\n    <tr>\n      <th>1</th>\n      <td>1</td>\n      <td>-0.774570</td>\n      <td>0.000200</td>\n      <td>0.774699</td>\n      <td>0.081870</td>\n      <td>-0.455353</td>\n      <td>0.589303</td>\n      <td>0.101660</td>\n      <td>0.001259</td>\n      <td>0.107673</td>\n      <td>...</td>\n      <td>-0.982910</td>\n      <td>1.448894</td>\n      <td>0.173581</td>\n      <td>0.195312</td>\n      <td>0.195312</td>\n      <td>0.195312</td>\n      <td>4.101562</td>\n      <td>0.390625</td>\n      <td>0.390625</td>\n      <td>9.912909</td>\n    </tr>\n    <tr>\n      <th>2</th>\n      <td>2</td>\n      <td>-0.742027</td>\n      <td>0.000155</td>\n      <td>0.742132</td>\n      <td>0.093685</td>\n      <td>-2.249484</td>\n      <td>5.730606</td>\n      <td>0.171880</td>\n      <td>0.000701</td>\n      <td>0.173907</td>\n      <td>...</td>\n      <td>-2.479454</td>\n      <td>5.674852</td>\n      <td>0.212769</td>\n      <td>4.101562</td>\n      <td>4.101562</td>\n      <td>0.195312</td>\n      <td>1.953125</td>\n      <td>1.953125</td>\n      <td>3.906250</td>\n      <td>9.895929</td>\n    </tr>\n    <tr>\n      <th>3</th>\n      <td>0</td>\n      <td>-0.759761</td>\n      <td>0.000324</td>\n      <td>0.759974</td>\n      <td>0.088499</td>\n      <td>-1.873579</td>\n      <td>2.158500</td>\n      <td>0.108002</td>\n      <td>0.000697</td>\n      <td>0.111183</td>\n      <td>...</td>\n      <td>-2.071275</td>\n      <td>2.644999</td>\n      <td>0.187372</td>\n      <td>4.296875</td>\n      <td>4.296875</td>\n      <td>2.148438</td>\n      <td>4.296875</td>\n      <td>2.148438</td>\n      <td>0.195312</td>\n      <td>9.906819</td>\n    </tr>\n    <tr>\n      <th>4</th>\n      <td>1</td>\n      <td>-0.734621</td>\n      <td>0.000446</td>\n      <td>0.734924</td>\n      <td>0.089529</td>\n      <td>-1.572033</td>\n      <td>1.222080</td>\n      <td>0.094506</td>\n      <td>0.000972</td>\n      <td>0.099517</td>\n      <td>...</td>\n      <td>-1.836457</td>\n      <td>1.860220</td>\n      <td>0.193347</td>\n      <td>4.296875</td>\n      <td>0.195312</td>\n      <td>2.148438</td>\n      <td>2.148438</td>\n      <td>2.148438</td>\n      <td>0.390625</td>\n      <td>9.894033</td>\n    </tr>\n  </tbody>\n</table>\n<p>5 rows × 79 columns</p>\n</div>"
     },
     "execution_count": 194,
     "metadata": {},
     "output_type": "execute_result"
    }
   ],
   "source": [
    "data_reduced.head()"
   ],
   "metadata": {
    "collapsed": false,
    "ExecuteTime": {
     "end_time": "2024-12-05T22:10:58.105713Z",
     "start_time": "2024-12-05T22:10:58.050027Z"
    }
   },
   "id": "bab8b51af7d28f43"
  },
  {
   "cell_type": "code",
   "execution_count": 195,
   "outputs": [],
   "source": [
    "data=data_reduced"
   ],
   "metadata": {
    "collapsed": false,
    "ExecuteTime": {
     "end_time": "2024-12-05T22:11:04.955148Z",
     "start_time": "2024-12-05T22:11:04.937685Z"
    }
   },
   "id": "bf4b1e2581ed18b4"
  },
  {
   "cell_type": "code",
   "execution_count": 188,
   "outputs": [],
   "source": [
    "#data.loc[data['condition'] == 0, 'condition'] = 1"
   ],
   "metadata": {
    "collapsed": false,
    "ExecuteTime": {
     "end_time": "2024-12-05T22:10:36.972340Z",
     "start_time": "2024-12-05T22:10:36.925156Z"
    }
   },
   "id": "cf557fd5e9a59742"
  },
  {
   "cell_type": "code",
   "execution_count": 196,
   "outputs": [],
   "source": [
    "# Split features and target\n",
    "X = data.drop(columns=['condition'])  # Features (all columns except the target)\n",
    "y = data['condition']  # Target (condition column)"
   ],
   "metadata": {
    "collapsed": false,
    "ExecuteTime": {
     "end_time": "2024-12-05T22:11:11.400255Z",
     "start_time": "2024-12-05T22:11:11.351975Z"
    }
   },
   "id": "fdc6c7ce30140efc"
  },
  {
   "cell_type": "code",
   "execution_count": 197,
   "outputs": [],
   "source": [
    "# Train-test split\n",
    "X_train, X_test, y_train, y_test = train_test_split(X, y, test_size=0.2, random_state=42, stratify=y)"
   ],
   "metadata": {
    "collapsed": false,
    "ExecuteTime": {
     "end_time": "2024-12-05T22:11:12.174195Z",
     "start_time": "2024-12-05T22:11:12.119216Z"
    }
   },
   "id": "57971f1a7c7f34d7"
  },
  {
   "cell_type": "code",
   "execution_count": 198,
   "outputs": [],
   "source": [
    "# Standardize \n",
    "# Initialize the scaler\n",
    "scaler = StandardScaler()\n",
    "\n",
    "# Fit and transform the training data\n",
    "X_train_scaled = scaler.fit_transform(X_train)\n",
    "\n",
    "# Transform the test data using the parameters learned from the training data\n",
    "X_test_scaled = scaler.transform(X_test)"
   ],
   "metadata": {
    "collapsed": false,
    "ExecuteTime": {
     "end_time": "2024-12-05T22:11:12.817995Z",
     "start_time": "2024-12-05T22:11:12.767219Z"
    }
   },
   "id": "4613efae65343e0e"
  },
  {
   "cell_type": "code",
   "execution_count": 199,
   "outputs": [],
   "source": [
    "# Define the models\n",
    "models = {\n",
    "    \"Random Forest\": RandomForestClassifier(n_estimators=100, random_state=42),\n",
    "    \"Gradient Boosting\": GradientBoostingClassifier(n_estimators=100, random_state=42),\n",
    "    \"SVM\": SVC(kernel='rbf', probability=True, random_state=42),\n",
    "    \"MLP\": MLPClassifier(hidden_layer_sizes=(128, 64), activation='relu', max_iter=300, random_state=42),\n",
    "    \"Logistic Regression\": LogisticRegression(max_iter=500, random_state=42)\n",
    "}"
   ],
   "metadata": {
    "collapsed": false,
    "ExecuteTime": {
     "end_time": "2024-12-05T22:11:13.752625Z",
     "start_time": "2024-12-05T22:11:13.720805Z"
    }
   },
   "id": "d0879afd1258df3"
  },
  {
   "cell_type": "code",
   "execution_count": 200,
   "outputs": [
    {
     "name": "stdout",
     "output_type": "stream",
     "text": [
      "Evaluating Random Forest...\n",
      "Cross-Validation Accuracy for Random Forest: 0.43 ± 0.01\n",
      "Classification Report for Random Forest:\n",
      "              precision    recall  f1-score   support\n",
      "\n",
      "           0       0.17      0.15      0.16        20\n",
      "           1       0.35      0.45      0.39        20\n",
      "           2       0.50      0.40      0.44        20\n",
      "\n",
      "    accuracy                           0.33        60\n",
      "   macro avg       0.34      0.33      0.33        60\n",
      "weighted avg       0.34      0.33      0.33        60\n",
      "\n",
      "Evaluating Gradient Boosting...\n",
      "Cross-Validation Accuracy for Gradient Boosting: 0.43 ± 0.05\n",
      "Classification Report for Gradient Boosting:\n",
      "              precision    recall  f1-score   support\n",
      "\n",
      "           0       0.28      0.35      0.31        20\n",
      "           1       0.33      0.40      0.36        20\n",
      "           2       0.64      0.35      0.45        20\n",
      "\n",
      "    accuracy                           0.37        60\n",
      "   macro avg       0.42      0.37      0.38        60\n",
      "weighted avg       0.42      0.37      0.38        60\n",
      "\n",
      "Evaluating SVM...\n",
      "Cross-Validation Accuracy for SVM: 0.39 ± 0.05\n",
      "Classification Report for SVM:\n",
      "              precision    recall  f1-score   support\n",
      "\n",
      "           0       0.17      0.05      0.08        20\n",
      "           1       0.33      0.65      0.43        20\n",
      "           2       0.36      0.25      0.29        20\n",
      "\n",
      "    accuracy                           0.32        60\n",
      "   macro avg       0.28      0.32      0.27        60\n",
      "weighted avg       0.28      0.32      0.27        60\n",
      "\n",
      "Evaluating MLP...\n",
      "Cross-Validation Accuracy for MLP: 0.41 ± 0.05\n",
      "Classification Report for MLP:\n",
      "              precision    recall  f1-score   support\n",
      "\n",
      "           0       0.10      0.05      0.07        20\n",
      "           1       0.36      0.70      0.47        20\n",
      "           2       0.45      0.25      0.32        20\n",
      "\n",
      "    accuracy                           0.33        60\n",
      "   macro avg       0.30      0.33      0.29        60\n",
      "weighted avg       0.30      0.33      0.29        60\n",
      "\n",
      "Evaluating Logistic Regression...\n"
     ]
    },
    {
     "name": "stderr",
     "output_type": "stream",
     "text": [
      "/Users/daikexin/pythonProject/venv/lib/python3.12/site-packages/sklearn/linear_model/_logistic.py:469: ConvergenceWarning: lbfgs failed to converge (status=1):\n",
      "STOP: TOTAL NO. of ITERATIONS REACHED LIMIT.\n",
      "\n",
      "Increase the number of iterations (max_iter) or scale the data as shown in:\n",
      "    https://scikit-learn.org/stable/modules/preprocessing.html\n",
      "Please also refer to the documentation for alternative solver options:\n",
      "    https://scikit-learn.org/stable/modules/linear_model.html#logistic-regression\n",
      "  n_iter_i = _check_optimize_result(\n",
      "/Users/daikexin/pythonProject/venv/lib/python3.12/site-packages/sklearn/linear_model/_logistic.py:469: ConvergenceWarning: lbfgs failed to converge (status=1):\n",
      "STOP: TOTAL NO. of ITERATIONS REACHED LIMIT.\n",
      "\n",
      "Increase the number of iterations (max_iter) or scale the data as shown in:\n",
      "    https://scikit-learn.org/stable/modules/preprocessing.html\n",
      "Please also refer to the documentation for alternative solver options:\n",
      "    https://scikit-learn.org/stable/modules/linear_model.html#logistic-regression\n",
      "  n_iter_i = _check_optimize_result(\n",
      "/Users/daikexin/pythonProject/venv/lib/python3.12/site-packages/sklearn/linear_model/_logistic.py:469: ConvergenceWarning: lbfgs failed to converge (status=1):\n",
      "STOP: TOTAL NO. of ITERATIONS REACHED LIMIT.\n",
      "\n",
      "Increase the number of iterations (max_iter) or scale the data as shown in:\n",
      "    https://scikit-learn.org/stable/modules/preprocessing.html\n",
      "Please also refer to the documentation for alternative solver options:\n",
      "    https://scikit-learn.org/stable/modules/linear_model.html#logistic-regression\n",
      "  n_iter_i = _check_optimize_result(\n"
     ]
    },
    {
     "name": "stdout",
     "output_type": "stream",
     "text": [
      "Cross-Validation Accuracy for Logistic Regression: 0.44 ± 0.05\n",
      "Classification Report for Logistic Regression:\n",
      "              precision    recall  f1-score   support\n",
      "\n",
      "           0       0.47      0.45      0.46        20\n",
      "           1       0.45      0.50      0.48        20\n",
      "           2       0.47      0.45      0.46        20\n",
      "\n",
      "    accuracy                           0.47        60\n",
      "   macro avg       0.47      0.47      0.47        60\n",
      "weighted avg       0.47      0.47      0.47        60\n"
     ]
    },
    {
     "name": "stderr",
     "output_type": "stream",
     "text": [
      "/Users/daikexin/pythonProject/venv/lib/python3.12/site-packages/sklearn/linear_model/_logistic.py:469: ConvergenceWarning: lbfgs failed to converge (status=1):\n",
      "STOP: TOTAL NO. of ITERATIONS REACHED LIMIT.\n",
      "\n",
      "Increase the number of iterations (max_iter) or scale the data as shown in:\n",
      "    https://scikit-learn.org/stable/modules/preprocessing.html\n",
      "Please also refer to the documentation for alternative solver options:\n",
      "    https://scikit-learn.org/stable/modules/linear_model.html#logistic-regression\n",
      "  n_iter_i = _check_optimize_result(\n",
      "/Users/daikexin/pythonProject/venv/lib/python3.12/site-packages/sklearn/linear_model/_logistic.py:469: ConvergenceWarning: lbfgs failed to converge (status=1):\n",
      "STOP: TOTAL NO. of ITERATIONS REACHED LIMIT.\n",
      "\n",
      "Increase the number of iterations (max_iter) or scale the data as shown in:\n",
      "    https://scikit-learn.org/stable/modules/preprocessing.html\n",
      "Please also refer to the documentation for alternative solver options:\n",
      "    https://scikit-learn.org/stable/modules/linear_model.html#logistic-regression\n",
      "  n_iter_i = _check_optimize_result(\n",
      "/Users/daikexin/pythonProject/venv/lib/python3.12/site-packages/sklearn/linear_model/_logistic.py:469: ConvergenceWarning: lbfgs failed to converge (status=1):\n",
      "STOP: TOTAL NO. of ITERATIONS REACHED LIMIT.\n",
      "\n",
      "Increase the number of iterations (max_iter) or scale the data as shown in:\n",
      "    https://scikit-learn.org/stable/modules/preprocessing.html\n",
      "Please also refer to the documentation for alternative solver options:\n",
      "    https://scikit-learn.org/stable/modules/linear_model.html#logistic-regression\n",
      "  n_iter_i = _check_optimize_result(\n"
     ]
    }
   ],
   "source": [
    "# Train and evaluate each model using cross-validation\n",
    "results = {}\n",
    "\n",
    "for model_name, model in models.items():\n",
    "    print(f\"Evaluating {model_name}...\")\n",
    "    \n",
    "    # Perform cross-validation (5-fold) and compute accuracy scores\n",
    "    cv_scores = cross_val_score(model, X, y, cv=5, scoring='accuracy')  # Use your full dataset (X, y)\n",
    "    \n",
    "    # Get mean and standard deviation of cross-validation accuracy scores\n",
    "    mean_cv_score = cv_scores.mean()\n",
    "    std_cv_score = cv_scores.std()\n",
    "    \n",
    "    print(f\"Cross-Validation Accuracy for {model_name}: {mean_cv_score:.2f} ± {std_cv_score:.2f}\")\n",
    "    \n",
    "    # Train the model on the full training data and evaluate on the test set\n",
    "    model.fit(X_train, y_train)\n",
    "    y_pred = model.predict(X_test)\n",
    "    \n",
    "    # Print classification report\n",
    "    print(f\"Classification Report for {model_name}:\\n{classification_report(y_test, y_pred)}\")\n",
    "    \n",
    "    # Store results\n",
    "    results[model_name] = mean_cv_score"
   ],
   "metadata": {
    "collapsed": false,
    "ExecuteTime": {
     "end_time": "2024-12-05T22:11:30.056716Z",
     "start_time": "2024-12-05T22:11:14.474556Z"
    }
   },
   "id": "d0c4dbca0194a755"
  },
  {
   "cell_type": "markdown",
   "source": [
    "All these models have low accuracy,\n",
    "Checking"
   ],
   "metadata": {
    "collapsed": false
   },
   "id": "74da213c1f375030"
  },
  {
   "cell_type": "markdown",
   "source": [
    "Random Forrest"
   ],
   "metadata": {
    "collapsed": false
   },
   "id": "ea41b206cf4d8d11"
  },
  {
   "cell_type": "code",
   "execution_count": 100,
   "outputs": [],
   "source": [
    "# Define the model\n",
    "rf = RandomForestClassifier(random_state=42)"
   ],
   "metadata": {
    "collapsed": false,
    "ExecuteTime": {
     "end_time": "2024-12-05T20:24:35.567595Z",
     "start_time": "2024-12-05T20:24:35.527746Z"
    }
   },
   "id": "d5dcc42bae029e1b"
  },
  {
   "cell_type": "code",
   "execution_count": 101,
   "outputs": [],
   "source": [
    "# Define hyperparameter grid\n",
    "param_grid = {\n",
    "    'n_estimators': [50, 100, 200],\n",
    "    'max_depth': [None, 10, 20, 30],\n",
    "    'min_samples_split': [2, 5, 10],\n",
    "    'min_samples_leaf': [1, 2, 4],\n",
    "    'class_weight': ['balanced', None]\n",
    "}"
   ],
   "metadata": {
    "collapsed": false,
    "ExecuteTime": {
     "end_time": "2024-12-05T20:24:44.414054Z",
     "start_time": "2024-12-05T20:24:44.324436Z"
    }
   },
   "id": "a2e435578d8b9cca"
  },
  {
   "cell_type": "code",
   "execution_count": 162,
   "outputs": [
    {
     "name": "stdout",
     "output_type": "stream",
     "text": [
      "Fitting 5 folds for each of 216 candidates, totalling 1080 fits\n"
     ]
    },
    {
     "data": {
      "text/plain": "GridSearchCV(cv=5, estimator=RandomForestClassifier(random_state=42), n_jobs=-1,\n             param_grid={'class_weight': ['balanced', None],\n                         'max_depth': [None, 10, 20, 30],\n                         'min_samples_leaf': [1, 2, 4],\n                         'min_samples_split': [2, 5, 10],\n                         'n_estimators': [50, 100, 200]},\n             scoring='accuracy', verbose=2)",
      "text/html": "<style>#sk-container-id-4 {\n  /* Definition of color scheme common for light and dark mode */\n  --sklearn-color-text: black;\n  --sklearn-color-line: gray;\n  /* Definition of color scheme for unfitted estimators */\n  --sklearn-color-unfitted-level-0: #fff5e6;\n  --sklearn-color-unfitted-level-1: #f6e4d2;\n  --sklearn-color-unfitted-level-2: #ffe0b3;\n  --sklearn-color-unfitted-level-3: chocolate;\n  /* Definition of color scheme for fitted estimators */\n  --sklearn-color-fitted-level-0: #f0f8ff;\n  --sklearn-color-fitted-level-1: #d4ebff;\n  --sklearn-color-fitted-level-2: #b3dbfd;\n  --sklearn-color-fitted-level-3: cornflowerblue;\n\n  /* Specific color for light theme */\n  --sklearn-color-text-on-default-background: var(--sg-text-color, var(--theme-code-foreground, var(--jp-content-font-color1, black)));\n  --sklearn-color-background: var(--sg-background-color, var(--theme-background, var(--jp-layout-color0, white)));\n  --sklearn-color-border-box: var(--sg-text-color, var(--theme-code-foreground, var(--jp-content-font-color1, black)));\n  --sklearn-color-icon: #696969;\n\n  @media (prefers-color-scheme: dark) {\n    /* Redefinition of color scheme for dark theme */\n    --sklearn-color-text-on-default-background: var(--sg-text-color, var(--theme-code-foreground, var(--jp-content-font-color1, white)));\n    --sklearn-color-background: var(--sg-background-color, var(--theme-background, var(--jp-layout-color0, #111)));\n    --sklearn-color-border-box: var(--sg-text-color, var(--theme-code-foreground, var(--jp-content-font-color1, white)));\n    --sklearn-color-icon: #878787;\n  }\n}\n\n#sk-container-id-4 {\n  color: var(--sklearn-color-text);\n}\n\n#sk-container-id-4 pre {\n  padding: 0;\n}\n\n#sk-container-id-4 input.sk-hidden--visually {\n  border: 0;\n  clip: rect(1px 1px 1px 1px);\n  clip: rect(1px, 1px, 1px, 1px);\n  height: 1px;\n  margin: -1px;\n  overflow: hidden;\n  padding: 0;\n  position: absolute;\n  width: 1px;\n}\n\n#sk-container-id-4 div.sk-dashed-wrapped {\n  border: 1px dashed var(--sklearn-color-line);\n  margin: 0 0.4em 0.5em 0.4em;\n  box-sizing: border-box;\n  padding-bottom: 0.4em;\n  background-color: var(--sklearn-color-background);\n}\n\n#sk-container-id-4 div.sk-container {\n  /* jupyter's `normalize.less` sets `[hidden] { display: none; }`\n     but bootstrap.min.css set `[hidden] { display: none !important; }`\n     so we also need the `!important` here to be able to override the\n     default hidden behavior on the sphinx rendered scikit-learn.org.\n     See: https://github.com/scikit-learn/scikit-learn/issues/21755 */\n  display: inline-block !important;\n  position: relative;\n}\n\n#sk-container-id-4 div.sk-text-repr-fallback {\n  display: none;\n}\n\ndiv.sk-parallel-item,\ndiv.sk-serial,\ndiv.sk-item {\n  /* draw centered vertical line to link estimators */\n  background-image: linear-gradient(var(--sklearn-color-text-on-default-background), var(--sklearn-color-text-on-default-background));\n  background-size: 2px 100%;\n  background-repeat: no-repeat;\n  background-position: center center;\n}\n\n/* Parallel-specific style estimator block */\n\n#sk-container-id-4 div.sk-parallel-item::after {\n  content: \"\";\n  width: 100%;\n  border-bottom: 2px solid var(--sklearn-color-text-on-default-background);\n  flex-grow: 1;\n}\n\n#sk-container-id-4 div.sk-parallel {\n  display: flex;\n  align-items: stretch;\n  justify-content: center;\n  background-color: var(--sklearn-color-background);\n  position: relative;\n}\n\n#sk-container-id-4 div.sk-parallel-item {\n  display: flex;\n  flex-direction: column;\n}\n\n#sk-container-id-4 div.sk-parallel-item:first-child::after {\n  align-self: flex-end;\n  width: 50%;\n}\n\n#sk-container-id-4 div.sk-parallel-item:last-child::after {\n  align-self: flex-start;\n  width: 50%;\n}\n\n#sk-container-id-4 div.sk-parallel-item:only-child::after {\n  width: 0;\n}\n\n/* Serial-specific style estimator block */\n\n#sk-container-id-4 div.sk-serial {\n  display: flex;\n  flex-direction: column;\n  align-items: center;\n  background-color: var(--sklearn-color-background);\n  padding-right: 1em;\n  padding-left: 1em;\n}\n\n\n/* Toggleable style: style used for estimator/Pipeline/ColumnTransformer box that is\nclickable and can be expanded/collapsed.\n- Pipeline and ColumnTransformer use this feature and define the default style\n- Estimators will overwrite some part of the style using the `sk-estimator` class\n*/\n\n/* Pipeline and ColumnTransformer style (default) */\n\n#sk-container-id-4 div.sk-toggleable {\n  /* Default theme specific background. It is overwritten whether we have a\n  specific estimator or a Pipeline/ColumnTransformer */\n  background-color: var(--sklearn-color-background);\n}\n\n/* Toggleable label */\n#sk-container-id-4 label.sk-toggleable__label {\n  cursor: pointer;\n  display: block;\n  width: 100%;\n  margin-bottom: 0;\n  padding: 0.5em;\n  box-sizing: border-box;\n  text-align: center;\n}\n\n#sk-container-id-4 label.sk-toggleable__label-arrow:before {\n  /* Arrow on the left of the label */\n  content: \"▸\";\n  float: left;\n  margin-right: 0.25em;\n  color: var(--sklearn-color-icon);\n}\n\n#sk-container-id-4 label.sk-toggleable__label-arrow:hover:before {\n  color: var(--sklearn-color-text);\n}\n\n/* Toggleable content - dropdown */\n\n#sk-container-id-4 div.sk-toggleable__content {\n  max-height: 0;\n  max-width: 0;\n  overflow: hidden;\n  text-align: left;\n  /* unfitted */\n  background-color: var(--sklearn-color-unfitted-level-0);\n}\n\n#sk-container-id-4 div.sk-toggleable__content.fitted {\n  /* fitted */\n  background-color: var(--sklearn-color-fitted-level-0);\n}\n\n#sk-container-id-4 div.sk-toggleable__content pre {\n  margin: 0.2em;\n  border-radius: 0.25em;\n  color: var(--sklearn-color-text);\n  /* unfitted */\n  background-color: var(--sklearn-color-unfitted-level-0);\n}\n\n#sk-container-id-4 div.sk-toggleable__content.fitted pre {\n  /* unfitted */\n  background-color: var(--sklearn-color-fitted-level-0);\n}\n\n#sk-container-id-4 input.sk-toggleable__control:checked~div.sk-toggleable__content {\n  /* Expand drop-down */\n  max-height: 200px;\n  max-width: 100%;\n  overflow: auto;\n}\n\n#sk-container-id-4 input.sk-toggleable__control:checked~label.sk-toggleable__label-arrow:before {\n  content: \"▾\";\n}\n\n/* Pipeline/ColumnTransformer-specific style */\n\n#sk-container-id-4 div.sk-label input.sk-toggleable__control:checked~label.sk-toggleable__label {\n  color: var(--sklearn-color-text);\n  background-color: var(--sklearn-color-unfitted-level-2);\n}\n\n#sk-container-id-4 div.sk-label.fitted input.sk-toggleable__control:checked~label.sk-toggleable__label {\n  background-color: var(--sklearn-color-fitted-level-2);\n}\n\n/* Estimator-specific style */\n\n/* Colorize estimator box */\n#sk-container-id-4 div.sk-estimator input.sk-toggleable__control:checked~label.sk-toggleable__label {\n  /* unfitted */\n  background-color: var(--sklearn-color-unfitted-level-2);\n}\n\n#sk-container-id-4 div.sk-estimator.fitted input.sk-toggleable__control:checked~label.sk-toggleable__label {\n  /* fitted */\n  background-color: var(--sklearn-color-fitted-level-2);\n}\n\n#sk-container-id-4 div.sk-label label.sk-toggleable__label,\n#sk-container-id-4 div.sk-label label {\n  /* The background is the default theme color */\n  color: var(--sklearn-color-text-on-default-background);\n}\n\n/* On hover, darken the color of the background */\n#sk-container-id-4 div.sk-label:hover label.sk-toggleable__label {\n  color: var(--sklearn-color-text);\n  background-color: var(--sklearn-color-unfitted-level-2);\n}\n\n/* Label box, darken color on hover, fitted */\n#sk-container-id-4 div.sk-label.fitted:hover label.sk-toggleable__label.fitted {\n  color: var(--sklearn-color-text);\n  background-color: var(--sklearn-color-fitted-level-2);\n}\n\n/* Estimator label */\n\n#sk-container-id-4 div.sk-label label {\n  font-family: monospace;\n  font-weight: bold;\n  display: inline-block;\n  line-height: 1.2em;\n}\n\n#sk-container-id-4 div.sk-label-container {\n  text-align: center;\n}\n\n/* Estimator-specific */\n#sk-container-id-4 div.sk-estimator {\n  font-family: monospace;\n  border: 1px dotted var(--sklearn-color-border-box);\n  border-radius: 0.25em;\n  box-sizing: border-box;\n  margin-bottom: 0.5em;\n  /* unfitted */\n  background-color: var(--sklearn-color-unfitted-level-0);\n}\n\n#sk-container-id-4 div.sk-estimator.fitted {\n  /* fitted */\n  background-color: var(--sklearn-color-fitted-level-0);\n}\n\n/* on hover */\n#sk-container-id-4 div.sk-estimator:hover {\n  /* unfitted */\n  background-color: var(--sklearn-color-unfitted-level-2);\n}\n\n#sk-container-id-4 div.sk-estimator.fitted:hover {\n  /* fitted */\n  background-color: var(--sklearn-color-fitted-level-2);\n}\n\n/* Specification for estimator info (e.g. \"i\" and \"?\") */\n\n/* Common style for \"i\" and \"?\" */\n\n.sk-estimator-doc-link,\na:link.sk-estimator-doc-link,\na:visited.sk-estimator-doc-link {\n  float: right;\n  font-size: smaller;\n  line-height: 1em;\n  font-family: monospace;\n  background-color: var(--sklearn-color-background);\n  border-radius: 1em;\n  height: 1em;\n  width: 1em;\n  text-decoration: none !important;\n  margin-left: 1ex;\n  /* unfitted */\n  border: var(--sklearn-color-unfitted-level-1) 1pt solid;\n  color: var(--sklearn-color-unfitted-level-1);\n}\n\n.sk-estimator-doc-link.fitted,\na:link.sk-estimator-doc-link.fitted,\na:visited.sk-estimator-doc-link.fitted {\n  /* fitted */\n  border: var(--sklearn-color-fitted-level-1) 1pt solid;\n  color: var(--sklearn-color-fitted-level-1);\n}\n\n/* On hover */\ndiv.sk-estimator:hover .sk-estimator-doc-link:hover,\n.sk-estimator-doc-link:hover,\ndiv.sk-label-container:hover .sk-estimator-doc-link:hover,\n.sk-estimator-doc-link:hover {\n  /* unfitted */\n  background-color: var(--sklearn-color-unfitted-level-3);\n  color: var(--sklearn-color-background);\n  text-decoration: none;\n}\n\ndiv.sk-estimator.fitted:hover .sk-estimator-doc-link.fitted:hover,\n.sk-estimator-doc-link.fitted:hover,\ndiv.sk-label-container:hover .sk-estimator-doc-link.fitted:hover,\n.sk-estimator-doc-link.fitted:hover {\n  /* fitted */\n  background-color: var(--sklearn-color-fitted-level-3);\n  color: var(--sklearn-color-background);\n  text-decoration: none;\n}\n\n/* Span, style for the box shown on hovering the info icon */\n.sk-estimator-doc-link span {\n  display: none;\n  z-index: 9999;\n  position: relative;\n  font-weight: normal;\n  right: .2ex;\n  padding: .5ex;\n  margin: .5ex;\n  width: min-content;\n  min-width: 20ex;\n  max-width: 50ex;\n  color: var(--sklearn-color-text);\n  box-shadow: 2pt 2pt 4pt #999;\n  /* unfitted */\n  background: var(--sklearn-color-unfitted-level-0);\n  border: .5pt solid var(--sklearn-color-unfitted-level-3);\n}\n\n.sk-estimator-doc-link.fitted span {\n  /* fitted */\n  background: var(--sklearn-color-fitted-level-0);\n  border: var(--sklearn-color-fitted-level-3);\n}\n\n.sk-estimator-doc-link:hover span {\n  display: block;\n}\n\n/* \"?\"-specific style due to the `<a>` HTML tag */\n\n#sk-container-id-4 a.estimator_doc_link {\n  float: right;\n  font-size: 1rem;\n  line-height: 1em;\n  font-family: monospace;\n  background-color: var(--sklearn-color-background);\n  border-radius: 1rem;\n  height: 1rem;\n  width: 1rem;\n  text-decoration: none;\n  /* unfitted */\n  color: var(--sklearn-color-unfitted-level-1);\n  border: var(--sklearn-color-unfitted-level-1) 1pt solid;\n}\n\n#sk-container-id-4 a.estimator_doc_link.fitted {\n  /* fitted */\n  border: var(--sklearn-color-fitted-level-1) 1pt solid;\n  color: var(--sklearn-color-fitted-level-1);\n}\n\n/* On hover */\n#sk-container-id-4 a.estimator_doc_link:hover {\n  /* unfitted */\n  background-color: var(--sklearn-color-unfitted-level-3);\n  color: var(--sklearn-color-background);\n  text-decoration: none;\n}\n\n#sk-container-id-4 a.estimator_doc_link.fitted:hover {\n  /* fitted */\n  background-color: var(--sklearn-color-fitted-level-3);\n}\n</style><div id=\"sk-container-id-4\" class=\"sk-top-container\"><div class=\"sk-text-repr-fallback\"><pre>GridSearchCV(cv=5, estimator=RandomForestClassifier(random_state=42), n_jobs=-1,\n             param_grid={&#x27;class_weight&#x27;: [&#x27;balanced&#x27;, None],\n                         &#x27;max_depth&#x27;: [None, 10, 20, 30],\n                         &#x27;min_samples_leaf&#x27;: [1, 2, 4],\n                         &#x27;min_samples_split&#x27;: [2, 5, 10],\n                         &#x27;n_estimators&#x27;: [50, 100, 200]},\n             scoring=&#x27;accuracy&#x27;, verbose=2)</pre><b>In a Jupyter environment, please rerun this cell to show the HTML representation or trust the notebook. <br />On GitHub, the HTML representation is unable to render, please try loading this page with nbviewer.org.</b></div><div class=\"sk-container\" hidden><div class=\"sk-item sk-dashed-wrapped\"><div class=\"sk-label-container\"><div class=\"sk-label fitted sk-toggleable\"><input class=\"sk-toggleable__control sk-hidden--visually\" id=\"sk-estimator-id-6\" type=\"checkbox\" ><label for=\"sk-estimator-id-6\" class=\"sk-toggleable__label fitted sk-toggleable__label-arrow fitted\">&nbsp;&nbsp;GridSearchCV<a class=\"sk-estimator-doc-link fitted\" rel=\"noreferrer\" target=\"_blank\" href=\"https://scikit-learn.org/1.5/modules/generated/sklearn.model_selection.GridSearchCV.html\">?<span>Documentation for GridSearchCV</span></a><span class=\"sk-estimator-doc-link fitted\">i<span>Fitted</span></span></label><div class=\"sk-toggleable__content fitted\"><pre>GridSearchCV(cv=5, estimator=RandomForestClassifier(random_state=42), n_jobs=-1,\n             param_grid={&#x27;class_weight&#x27;: [&#x27;balanced&#x27;, None],\n                         &#x27;max_depth&#x27;: [None, 10, 20, 30],\n                         &#x27;min_samples_leaf&#x27;: [1, 2, 4],\n                         &#x27;min_samples_split&#x27;: [2, 5, 10],\n                         &#x27;n_estimators&#x27;: [50, 100, 200]},\n             scoring=&#x27;accuracy&#x27;, verbose=2)</pre></div> </div></div><div class=\"sk-parallel\"><div class=\"sk-parallel-item\"><div class=\"sk-item\"><div class=\"sk-label-container\"><div class=\"sk-label fitted sk-toggleable\"><input class=\"sk-toggleable__control sk-hidden--visually\" id=\"sk-estimator-id-7\" type=\"checkbox\" ><label for=\"sk-estimator-id-7\" class=\"sk-toggleable__label fitted sk-toggleable__label-arrow fitted\">best_estimator_: RandomForestClassifier</label><div class=\"sk-toggleable__content fitted\"><pre>RandomForestClassifier(class_weight=&#x27;balanced&#x27;, n_estimators=200,\n                       random_state=42)</pre></div> </div></div><div class=\"sk-serial\"><div class=\"sk-item\"><div class=\"sk-estimator fitted sk-toggleable\"><input class=\"sk-toggleable__control sk-hidden--visually\" id=\"sk-estimator-id-8\" type=\"checkbox\" ><label for=\"sk-estimator-id-8\" class=\"sk-toggleable__label fitted sk-toggleable__label-arrow fitted\">&nbsp;RandomForestClassifier<a class=\"sk-estimator-doc-link fitted\" rel=\"noreferrer\" target=\"_blank\" href=\"https://scikit-learn.org/1.5/modules/generated/sklearn.ensemble.RandomForestClassifier.html\">?<span>Documentation for RandomForestClassifier</span></a></label><div class=\"sk-toggleable__content fitted\"><pre>RandomForestClassifier(class_weight=&#x27;balanced&#x27;, n_estimators=200,\n                       random_state=42)</pre></div> </div></div></div></div></div></div></div></div></div>"
     },
     "execution_count": 162,
     "metadata": {},
     "output_type": "execute_result"
    }
   ],
   "source": [
    "# Perform grid search\n",
    "grid_search = GridSearchCV(rf, param_grid, cv=5, scoring='accuracy', verbose=2, n_jobs=-1)\n",
    "grid_search.fit(X_train_scaled, y_train)"
   ],
   "metadata": {
    "collapsed": false,
    "ExecuteTime": {
     "end_time": "2024-12-05T21:45:54.462857Z",
     "start_time": "2024-12-05T21:45:06.005223Z"
    }
   },
   "id": "fb740f358bca2155"
  },
  {
   "cell_type": "code",
   "execution_count": 168,
   "outputs": [
    {
     "name": "stdout",
     "output_type": "stream",
     "text": [
      "Cross-Validation Accuracy for Logistic Regression: 0.43 ± 0.01\n"
     ]
    }
   ],
   "source": [
    "cv_scores = cross_val_score(rf, X, y, cv=5, scoring='accuracy')  # Use your full dataset (X, y)\n",
    "    \n",
    "# Get mean and standard deviation of cross-validation accuracy scores\n",
    "mean_cv_score = cv_scores.mean()\n",
    "std_cv_score = cv_scores.std()\n",
    "print(f\"Cross-Validation Accuracy for {model_name}: {mean_cv_score:.2f} ± {std_cv_score:.2f}\")"
   ],
   "metadata": {
    "collapsed": false,
    "ExecuteTime": {
     "end_time": "2024-12-05T21:52:13.809999Z",
     "start_time": "2024-12-05T21:52:12.472860Z"
    }
   },
   "id": "3e83ea85db2c7f3b"
  },
  {
   "cell_type": "markdown",
   "source": [
    "XGBoost"
   ],
   "metadata": {
    "collapsed": false
   },
   "id": "2cb85bd4f9c48836"
  },
  {
   "cell_type": "code",
   "execution_count": 106,
   "outputs": [
    {
     "ename": "NameError",
     "evalue": "name 'XGBClassifier' is not defined",
     "output_type": "error",
     "traceback": [
      "\u001B[0;31m---------------------------------------------------------------------------\u001B[0m",
      "\u001B[0;31mNameError\u001B[0m                                 Traceback (most recent call last)",
      "Cell \u001B[0;32mIn[106], line 2\u001B[0m\n\u001B[1;32m      1\u001B[0m \u001B[38;5;66;03m# Define the model\u001B[39;00m\n\u001B[0;32m----> 2\u001B[0m xgb \u001B[38;5;241m=\u001B[39m \u001B[43mXGBClassifier\u001B[49m(random_state\u001B[38;5;241m=\u001B[39m\u001B[38;5;241m42\u001B[39m, use_label_encoder\u001B[38;5;241m=\u001B[39m\u001B[38;5;28;01mFalse\u001B[39;00m, eval_metric\u001B[38;5;241m=\u001B[39m\u001B[38;5;124m'\u001B[39m\u001B[38;5;124mmlogloss\u001B[39m\u001B[38;5;124m'\u001B[39m)\n",
      "\u001B[0;31mNameError\u001B[0m: name 'XGBClassifier' is not defined"
     ]
    }
   ],
   "source": [
    "# Define the model\n",
    "xgb = XGBClassifier(random_state=42, use_label_encoder=False, eval_metric='mlogloss')"
   ],
   "metadata": {
    "collapsed": false,
    "ExecuteTime": {
     "end_time": "2024-12-05T20:29:22.487857Z",
     "start_time": "2024-12-05T20:29:22.427028Z"
    }
   },
   "id": "ba1152a6d5c06060"
  },
  {
   "cell_type": "code",
   "execution_count": null,
   "outputs": [],
   "source": [],
   "metadata": {
    "collapsed": false
   },
   "id": "9878a8efbeccc1ee"
  }
 ],
 "metadata": {
  "kernelspec": {
   "display_name": "Python 3",
   "language": "python",
   "name": "python3"
  },
  "language_info": {
   "codemirror_mode": {
    "name": "ipython",
    "version": 2
   },
   "file_extension": ".py",
   "mimetype": "text/x-python",
   "name": "python",
   "nbconvert_exporter": "python",
   "pygments_lexer": "ipython2",
   "version": "2.7.6"
  }
 },
 "nbformat": 4,
 "nbformat_minor": 5
}
